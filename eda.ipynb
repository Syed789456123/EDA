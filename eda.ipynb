{
  "cells": [
    {
      "cell_type": "code",
      "execution_count": 3,
      "id": "b796f445",
      "metadata": {
        "id": "b796f445"
      },
      "outputs": [],
      "source": [
        "#import the warnings.\n",
        "import warnings\n",
        "warnings.filterwarnings(\"ignore\")"
      ]
    },
    {
      "cell_type": "code",
      "execution_count": 4,
      "id": "a22812ef",
      "metadata": {
        "id": "a22812ef"
      },
      "outputs": [],
      "source": [
        "### importing matplolib, seanborn, pandas, numpy\n",
        "import pandas as pd, numpy as np\n",
        "import matplotlib.pyplot as plt, seaborn as sns\n",
        "%matplotlib inline"
      ]
    },
    {
      "cell_type": "code",
      "execution_count": 6,
      "id": "53fd915a",
      "metadata": {
        "colab": {
          "base_uri": "https://localhost:8080/",
          "height": 300
        },
        "id": "53fd915a",
        "outputId": "d9a8225d-f259-4ca3-dc52-984e942cd873"
      },
      "outputs": [
        {
          "output_type": "execute_result",
          "data": {
            "text/plain": [
              "   SK_ID_CURR  TARGET NAME_CONTRACT_TYPE CODE_GENDER FLAG_OWN_CAR  \\\n",
              "0      100002       1         Cash loans           M            N   \n",
              "1      100003       0         Cash loans           F            N   \n",
              "2      100004       0    Revolving loans           M            Y   \n",
              "3      100006       0         Cash loans           F            N   \n",
              "4      100007       0         Cash loans           M            N   \n",
              "\n",
              "  FLAG_OWN_REALTY  CNT_CHILDREN  AMT_INCOME_TOTAL  AMT_CREDIT  AMT_ANNUITY  \\\n",
              "0               Y             0          202500.0    406597.5      24700.5   \n",
              "1               N             0          270000.0   1293502.5      35698.5   \n",
              "2               Y             0           67500.0    135000.0       6750.0   \n",
              "3               Y             0          135000.0    312682.5      29686.5   \n",
              "4               Y             0          121500.0    513000.0      21865.5   \n",
              "\n",
              "   ...  FLAG_DOCUMENT_18 FLAG_DOCUMENT_19 FLAG_DOCUMENT_20 FLAG_DOCUMENT_21  \\\n",
              "0  ...               0.0              0.0              0.0              0.0   \n",
              "1  ...               0.0              0.0              0.0              0.0   \n",
              "2  ...               0.0              0.0              0.0              0.0   \n",
              "3  ...               0.0              0.0              0.0              0.0   \n",
              "4  ...               0.0              0.0              0.0              0.0   \n",
              "\n",
              "  AMT_REQ_CREDIT_BUREAU_HOUR AMT_REQ_CREDIT_BUREAU_DAY  \\\n",
              "0                        0.0                       0.0   \n",
              "1                        0.0                       0.0   \n",
              "2                        0.0                       0.0   \n",
              "3                        NaN                       NaN   \n",
              "4                        0.0                       0.0   \n",
              "\n",
              "   AMT_REQ_CREDIT_BUREAU_WEEK  AMT_REQ_CREDIT_BUREAU_MON  \\\n",
              "0                         0.0                        0.0   \n",
              "1                         0.0                        0.0   \n",
              "2                         0.0                        0.0   \n",
              "3                         NaN                        NaN   \n",
              "4                         0.0                        0.0   \n",
              "\n",
              "   AMT_REQ_CREDIT_BUREAU_QRT  AMT_REQ_CREDIT_BUREAU_YEAR  \n",
              "0                        0.0                         1.0  \n",
              "1                        0.0                         0.0  \n",
              "2                        0.0                         0.0  \n",
              "3                        NaN                         NaN  \n",
              "4                        0.0                         0.0  \n",
              "\n",
              "[5 rows x 122 columns]"
            ],
            "text/html": [
              "\n",
              "  <div id=\"df-6f994b42-fa1d-4ca1-8172-6c6456d9f6ca\">\n",
              "    <div class=\"colab-df-container\">\n",
              "      <div>\n",
              "<style scoped>\n",
              "    .dataframe tbody tr th:only-of-type {\n",
              "        vertical-align: middle;\n",
              "    }\n",
              "\n",
              "    .dataframe tbody tr th {\n",
              "        vertical-align: top;\n",
              "    }\n",
              "\n",
              "    .dataframe thead th {\n",
              "        text-align: right;\n",
              "    }\n",
              "</style>\n",
              "<table border=\"1\" class=\"dataframe\">\n",
              "  <thead>\n",
              "    <tr style=\"text-align: right;\">\n",
              "      <th></th>\n",
              "      <th>SK_ID_CURR</th>\n",
              "      <th>TARGET</th>\n",
              "      <th>NAME_CONTRACT_TYPE</th>\n",
              "      <th>CODE_GENDER</th>\n",
              "      <th>FLAG_OWN_CAR</th>\n",
              "      <th>FLAG_OWN_REALTY</th>\n",
              "      <th>CNT_CHILDREN</th>\n",
              "      <th>AMT_INCOME_TOTAL</th>\n",
              "      <th>AMT_CREDIT</th>\n",
              "      <th>AMT_ANNUITY</th>\n",
              "      <th>...</th>\n",
              "      <th>FLAG_DOCUMENT_18</th>\n",
              "      <th>FLAG_DOCUMENT_19</th>\n",
              "      <th>FLAG_DOCUMENT_20</th>\n",
              "      <th>FLAG_DOCUMENT_21</th>\n",
              "      <th>AMT_REQ_CREDIT_BUREAU_HOUR</th>\n",
              "      <th>AMT_REQ_CREDIT_BUREAU_DAY</th>\n",
              "      <th>AMT_REQ_CREDIT_BUREAU_WEEK</th>\n",
              "      <th>AMT_REQ_CREDIT_BUREAU_MON</th>\n",
              "      <th>AMT_REQ_CREDIT_BUREAU_QRT</th>\n",
              "      <th>AMT_REQ_CREDIT_BUREAU_YEAR</th>\n",
              "    </tr>\n",
              "  </thead>\n",
              "  <tbody>\n",
              "    <tr>\n",
              "      <th>0</th>\n",
              "      <td>100002</td>\n",
              "      <td>1</td>\n",
              "      <td>Cash loans</td>\n",
              "      <td>M</td>\n",
              "      <td>N</td>\n",
              "      <td>Y</td>\n",
              "      <td>0</td>\n",
              "      <td>202500.0</td>\n",
              "      <td>406597.5</td>\n",
              "      <td>24700.5</td>\n",
              "      <td>...</td>\n",
              "      <td>0.0</td>\n",
              "      <td>0.0</td>\n",
              "      <td>0.0</td>\n",
              "      <td>0.0</td>\n",
              "      <td>0.0</td>\n",
              "      <td>0.0</td>\n",
              "      <td>0.0</td>\n",
              "      <td>0.0</td>\n",
              "      <td>0.0</td>\n",
              "      <td>1.0</td>\n",
              "    </tr>\n",
              "    <tr>\n",
              "      <th>1</th>\n",
              "      <td>100003</td>\n",
              "      <td>0</td>\n",
              "      <td>Cash loans</td>\n",
              "      <td>F</td>\n",
              "      <td>N</td>\n",
              "      <td>N</td>\n",
              "      <td>0</td>\n",
              "      <td>270000.0</td>\n",
              "      <td>1293502.5</td>\n",
              "      <td>35698.5</td>\n",
              "      <td>...</td>\n",
              "      <td>0.0</td>\n",
              "      <td>0.0</td>\n",
              "      <td>0.0</td>\n",
              "      <td>0.0</td>\n",
              "      <td>0.0</td>\n",
              "      <td>0.0</td>\n",
              "      <td>0.0</td>\n",
              "      <td>0.0</td>\n",
              "      <td>0.0</td>\n",
              "      <td>0.0</td>\n",
              "    </tr>\n",
              "    <tr>\n",
              "      <th>2</th>\n",
              "      <td>100004</td>\n",
              "      <td>0</td>\n",
              "      <td>Revolving loans</td>\n",
              "      <td>M</td>\n",
              "      <td>Y</td>\n",
              "      <td>Y</td>\n",
              "      <td>0</td>\n",
              "      <td>67500.0</td>\n",
              "      <td>135000.0</td>\n",
              "      <td>6750.0</td>\n",
              "      <td>...</td>\n",
              "      <td>0.0</td>\n",
              "      <td>0.0</td>\n",
              "      <td>0.0</td>\n",
              "      <td>0.0</td>\n",
              "      <td>0.0</td>\n",
              "      <td>0.0</td>\n",
              "      <td>0.0</td>\n",
              "      <td>0.0</td>\n",
              "      <td>0.0</td>\n",
              "      <td>0.0</td>\n",
              "    </tr>\n",
              "    <tr>\n",
              "      <th>3</th>\n",
              "      <td>100006</td>\n",
              "      <td>0</td>\n",
              "      <td>Cash loans</td>\n",
              "      <td>F</td>\n",
              "      <td>N</td>\n",
              "      <td>Y</td>\n",
              "      <td>0</td>\n",
              "      <td>135000.0</td>\n",
              "      <td>312682.5</td>\n",
              "      <td>29686.5</td>\n",
              "      <td>...</td>\n",
              "      <td>0.0</td>\n",
              "      <td>0.0</td>\n",
              "      <td>0.0</td>\n",
              "      <td>0.0</td>\n",
              "      <td>NaN</td>\n",
              "      <td>NaN</td>\n",
              "      <td>NaN</td>\n",
              "      <td>NaN</td>\n",
              "      <td>NaN</td>\n",
              "      <td>NaN</td>\n",
              "    </tr>\n",
              "    <tr>\n",
              "      <th>4</th>\n",
              "      <td>100007</td>\n",
              "      <td>0</td>\n",
              "      <td>Cash loans</td>\n",
              "      <td>M</td>\n",
              "      <td>N</td>\n",
              "      <td>Y</td>\n",
              "      <td>0</td>\n",
              "      <td>121500.0</td>\n",
              "      <td>513000.0</td>\n",
              "      <td>21865.5</td>\n",
              "      <td>...</td>\n",
              "      <td>0.0</td>\n",
              "      <td>0.0</td>\n",
              "      <td>0.0</td>\n",
              "      <td>0.0</td>\n",
              "      <td>0.0</td>\n",
              "      <td>0.0</td>\n",
              "      <td>0.0</td>\n",
              "      <td>0.0</td>\n",
              "      <td>0.0</td>\n",
              "      <td>0.0</td>\n",
              "    </tr>\n",
              "  </tbody>\n",
              "</table>\n",
              "<p>5 rows × 122 columns</p>\n",
              "</div>\n",
              "      <button class=\"colab-df-convert\" onclick=\"convertToInteractive('df-6f994b42-fa1d-4ca1-8172-6c6456d9f6ca')\"\n",
              "              title=\"Convert this dataframe to an interactive table.\"\n",
              "              style=\"display:none;\">\n",
              "        \n",
              "  <svg xmlns=\"http://www.w3.org/2000/svg\" height=\"24px\"viewBox=\"0 0 24 24\"\n",
              "       width=\"24px\">\n",
              "    <path d=\"M0 0h24v24H0V0z\" fill=\"none\"/>\n",
              "    <path d=\"M18.56 5.44l.94 2.06.94-2.06 2.06-.94-2.06-.94-.94-2.06-.94 2.06-2.06.94zm-11 1L8.5 8.5l.94-2.06 2.06-.94-2.06-.94L8.5 2.5l-.94 2.06-2.06.94zm10 10l.94 2.06.94-2.06 2.06-.94-2.06-.94-.94-2.06-.94 2.06-2.06.94z\"/><path d=\"M17.41 7.96l-1.37-1.37c-.4-.4-.92-.59-1.43-.59-.52 0-1.04.2-1.43.59L10.3 9.45l-7.72 7.72c-.78.78-.78 2.05 0 2.83L4 21.41c.39.39.9.59 1.41.59.51 0 1.02-.2 1.41-.59l7.78-7.78 2.81-2.81c.8-.78.8-2.07 0-2.86zM5.41 20L4 18.59l7.72-7.72 1.47 1.35L5.41 20z\"/>\n",
              "  </svg>\n",
              "      </button>\n",
              "      \n",
              "  <style>\n",
              "    .colab-df-container {\n",
              "      display:flex;\n",
              "      flex-wrap:wrap;\n",
              "      gap: 12px;\n",
              "    }\n",
              "\n",
              "    .colab-df-convert {\n",
              "      background-color: #E8F0FE;\n",
              "      border: none;\n",
              "      border-radius: 50%;\n",
              "      cursor: pointer;\n",
              "      display: none;\n",
              "      fill: #1967D2;\n",
              "      height: 32px;\n",
              "      padding: 0 0 0 0;\n",
              "      width: 32px;\n",
              "    }\n",
              "\n",
              "    .colab-df-convert:hover {\n",
              "      background-color: #E2EBFA;\n",
              "      box-shadow: 0px 1px 2px rgba(60, 64, 67, 0.3), 0px 1px 3px 1px rgba(60, 64, 67, 0.15);\n",
              "      fill: #174EA6;\n",
              "    }\n",
              "\n",
              "    [theme=dark] .colab-df-convert {\n",
              "      background-color: #3B4455;\n",
              "      fill: #D2E3FC;\n",
              "    }\n",
              "\n",
              "    [theme=dark] .colab-df-convert:hover {\n",
              "      background-color: #434B5C;\n",
              "      box-shadow: 0px 1px 3px 1px rgba(0, 0, 0, 0.15);\n",
              "      filter: drop-shadow(0px 1px 2px rgba(0, 0, 0, 0.3));\n",
              "      fill: #FFFFFF;\n",
              "    }\n",
              "  </style>\n",
              "\n",
              "      <script>\n",
              "        const buttonEl =\n",
              "          document.querySelector('#df-6f994b42-fa1d-4ca1-8172-6c6456d9f6ca button.colab-df-convert');\n",
              "        buttonEl.style.display =\n",
              "          google.colab.kernel.accessAllowed ? 'block' : 'none';\n",
              "\n",
              "        async function convertToInteractive(key) {\n",
              "          const element = document.querySelector('#df-6f994b42-fa1d-4ca1-8172-6c6456d9f6ca');\n",
              "          const dataTable =\n",
              "            await google.colab.kernel.invokeFunction('convertToInteractive',\n",
              "                                                     [key], {});\n",
              "          if (!dataTable) return;\n",
              "\n",
              "          const docLinkHtml = 'Like what you see? Visit the ' +\n",
              "            '<a target=\"_blank\" href=https://colab.research.google.com/notebooks/data_table.ipynb>data table notebook</a>'\n",
              "            + ' to learn more about interactive tables.';\n",
              "          element.innerHTML = '';\n",
              "          dataTable['output_type'] = 'display_data';\n",
              "          await google.colab.output.renderOutput(dataTable, element);\n",
              "          const docLink = document.createElement('div');\n",
              "          docLink.innerHTML = docLinkHtml;\n",
              "          element.appendChild(docLink);\n",
              "        }\n",
              "      </script>\n",
              "    </div>\n",
              "  </div>\n",
              "  "
            ]
          },
          "metadata": {},
          "execution_count": 6
        }
      ],
      "source": [
        "###reading the data set usin pandas\n",
        "app_data = pd.read_csv(\"application_data.csv\")\n",
        "app_data.head(5)\n"
      ]
    },
    {
      "cell_type": "code",
      "execution_count": 7,
      "id": "de3ef6d4",
      "metadata": {
        "colab": {
          "base_uri": "https://localhost:8080/"
        },
        "id": "de3ef6d4",
        "outputId": "ad11d1fd-e0f8-4553-d8a0-c9ab93525bfc"
      },
      "outputs": [
        {
          "output_type": "execute_result",
          "data": {
            "text/plain": [
              "(25233, 122)"
            ]
          },
          "metadata": {},
          "execution_count": 7
        }
      ],
      "source": [
        "app_data.shape"
      ]
    },
    {
      "cell_type": "code",
      "execution_count": 8,
      "id": "aa161bee",
      "metadata": {
        "colab": {
          "base_uri": "https://localhost:8080/",
          "height": 317
        },
        "id": "aa161bee",
        "outputId": "ab2a0b42-7924-4cac-b7f9-0324ddbc726e"
      },
      "outputs": [
        {
          "output_type": "execute_result",
          "data": {
            "text/plain": [
              "   SK_ID_PREV  SK_ID_CURR NAME_CONTRACT_TYPE  AMT_ANNUITY  AMT_APPLICATION  \\\n",
              "0     2030495      271877     Consumer loans     1730.430          17145.0   \n",
              "1     2802425      108129         Cash loans    25188.615         607500.0   \n",
              "2     2523466      122040         Cash loans    15060.735         112500.0   \n",
              "3     2819243      176158         Cash loans    47041.335         450000.0   \n",
              "4     1784265      202054         Cash loans    31924.395         337500.0   \n",
              "\n",
              "   AMT_CREDIT  AMT_DOWN_PAYMENT  AMT_GOODS_PRICE WEEKDAY_APPR_PROCESS_START  \\\n",
              "0     17145.0               0.0          17145.0                   SATURDAY   \n",
              "1    679671.0               NaN         607500.0                   THURSDAY   \n",
              "2    136444.5               NaN         112500.0                    TUESDAY   \n",
              "3    470790.0               NaN         450000.0                     MONDAY   \n",
              "4    404055.0               NaN         337500.0                   THURSDAY   \n",
              "\n",
              "   HOUR_APPR_PROCESS_START  ... NAME_SELLER_INDUSTRY  CNT_PAYMENT  \\\n",
              "0                       15  ...         Connectivity         12.0   \n",
              "1                       11  ...                  XNA         36.0   \n",
              "2                       11  ...                  XNA         12.0   \n",
              "3                        7  ...                  XNA         12.0   \n",
              "4                        9  ...                  XNA         24.0   \n",
              "\n",
              "   NAME_YIELD_GROUP       PRODUCT_COMBINATION  DAYS_FIRST_DRAWING  \\\n",
              "0            middle  POS mobile with interest            365243.0   \n",
              "1        low_action          Cash X-Sell: low            365243.0   \n",
              "2              high         Cash X-Sell: high            365243.0   \n",
              "3            middle       Cash X-Sell: middle            365243.0   \n",
              "4              high         Cash Street: high                 NaN   \n",
              "\n",
              "  DAYS_FIRST_DUE DAYS_LAST_DUE_1ST_VERSION  DAYS_LAST_DUE DAYS_TERMINATION  \\\n",
              "0          -42.0                     300.0          -42.0            -37.0   \n",
              "1         -134.0                     916.0       365243.0         365243.0   \n",
              "2         -271.0                      59.0       365243.0         365243.0   \n",
              "3         -482.0                    -152.0         -182.0           -177.0   \n",
              "4            NaN                       NaN            NaN              NaN   \n",
              "\n",
              "  NFLAG_INSURED_ON_APPROVAL  \n",
              "0                       0.0  \n",
              "1                       1.0  \n",
              "2                       1.0  \n",
              "3                       1.0  \n",
              "4                       NaN  \n",
              "\n",
              "[5 rows x 37 columns]"
            ],
            "text/html": [
              "\n",
              "  <div id=\"df-75c8df3f-04c5-4be8-b1f7-35e13fdc587b\">\n",
              "    <div class=\"colab-df-container\">\n",
              "      <div>\n",
              "<style scoped>\n",
              "    .dataframe tbody tr th:only-of-type {\n",
              "        vertical-align: middle;\n",
              "    }\n",
              "\n",
              "    .dataframe tbody tr th {\n",
              "        vertical-align: top;\n",
              "    }\n",
              "\n",
              "    .dataframe thead th {\n",
              "        text-align: right;\n",
              "    }\n",
              "</style>\n",
              "<table border=\"1\" class=\"dataframe\">\n",
              "  <thead>\n",
              "    <tr style=\"text-align: right;\">\n",
              "      <th></th>\n",
              "      <th>SK_ID_PREV</th>\n",
              "      <th>SK_ID_CURR</th>\n",
              "      <th>NAME_CONTRACT_TYPE</th>\n",
              "      <th>AMT_ANNUITY</th>\n",
              "      <th>AMT_APPLICATION</th>\n",
              "      <th>AMT_CREDIT</th>\n",
              "      <th>AMT_DOWN_PAYMENT</th>\n",
              "      <th>AMT_GOODS_PRICE</th>\n",
              "      <th>WEEKDAY_APPR_PROCESS_START</th>\n",
              "      <th>HOUR_APPR_PROCESS_START</th>\n",
              "      <th>...</th>\n",
              "      <th>NAME_SELLER_INDUSTRY</th>\n",
              "      <th>CNT_PAYMENT</th>\n",
              "      <th>NAME_YIELD_GROUP</th>\n",
              "      <th>PRODUCT_COMBINATION</th>\n",
              "      <th>DAYS_FIRST_DRAWING</th>\n",
              "      <th>DAYS_FIRST_DUE</th>\n",
              "      <th>DAYS_LAST_DUE_1ST_VERSION</th>\n",
              "      <th>DAYS_LAST_DUE</th>\n",
              "      <th>DAYS_TERMINATION</th>\n",
              "      <th>NFLAG_INSURED_ON_APPROVAL</th>\n",
              "    </tr>\n",
              "  </thead>\n",
              "  <tbody>\n",
              "    <tr>\n",
              "      <th>0</th>\n",
              "      <td>2030495</td>\n",
              "      <td>271877</td>\n",
              "      <td>Consumer loans</td>\n",
              "      <td>1730.430</td>\n",
              "      <td>17145.0</td>\n",
              "      <td>17145.0</td>\n",
              "      <td>0.0</td>\n",
              "      <td>17145.0</td>\n",
              "      <td>SATURDAY</td>\n",
              "      <td>15</td>\n",
              "      <td>...</td>\n",
              "      <td>Connectivity</td>\n",
              "      <td>12.0</td>\n",
              "      <td>middle</td>\n",
              "      <td>POS mobile with interest</td>\n",
              "      <td>365243.0</td>\n",
              "      <td>-42.0</td>\n",
              "      <td>300.0</td>\n",
              "      <td>-42.0</td>\n",
              "      <td>-37.0</td>\n",
              "      <td>0.0</td>\n",
              "    </tr>\n",
              "    <tr>\n",
              "      <th>1</th>\n",
              "      <td>2802425</td>\n",
              "      <td>108129</td>\n",
              "      <td>Cash loans</td>\n",
              "      <td>25188.615</td>\n",
              "      <td>607500.0</td>\n",
              "      <td>679671.0</td>\n",
              "      <td>NaN</td>\n",
              "      <td>607500.0</td>\n",
              "      <td>THURSDAY</td>\n",
              "      <td>11</td>\n",
              "      <td>...</td>\n",
              "      <td>XNA</td>\n",
              "      <td>36.0</td>\n",
              "      <td>low_action</td>\n",
              "      <td>Cash X-Sell: low</td>\n",
              "      <td>365243.0</td>\n",
              "      <td>-134.0</td>\n",
              "      <td>916.0</td>\n",
              "      <td>365243.0</td>\n",
              "      <td>365243.0</td>\n",
              "      <td>1.0</td>\n",
              "    </tr>\n",
              "    <tr>\n",
              "      <th>2</th>\n",
              "      <td>2523466</td>\n",
              "      <td>122040</td>\n",
              "      <td>Cash loans</td>\n",
              "      <td>15060.735</td>\n",
              "      <td>112500.0</td>\n",
              "      <td>136444.5</td>\n",
              "      <td>NaN</td>\n",
              "      <td>112500.0</td>\n",
              "      <td>TUESDAY</td>\n",
              "      <td>11</td>\n",
              "      <td>...</td>\n",
              "      <td>XNA</td>\n",
              "      <td>12.0</td>\n",
              "      <td>high</td>\n",
              "      <td>Cash X-Sell: high</td>\n",
              "      <td>365243.0</td>\n",
              "      <td>-271.0</td>\n",
              "      <td>59.0</td>\n",
              "      <td>365243.0</td>\n",
              "      <td>365243.0</td>\n",
              "      <td>1.0</td>\n",
              "    </tr>\n",
              "    <tr>\n",
              "      <th>3</th>\n",
              "      <td>2819243</td>\n",
              "      <td>176158</td>\n",
              "      <td>Cash loans</td>\n",
              "      <td>47041.335</td>\n",
              "      <td>450000.0</td>\n",
              "      <td>470790.0</td>\n",
              "      <td>NaN</td>\n",
              "      <td>450000.0</td>\n",
              "      <td>MONDAY</td>\n",
              "      <td>7</td>\n",
              "      <td>...</td>\n",
              "      <td>XNA</td>\n",
              "      <td>12.0</td>\n",
              "      <td>middle</td>\n",
              "      <td>Cash X-Sell: middle</td>\n",
              "      <td>365243.0</td>\n",
              "      <td>-482.0</td>\n",
              "      <td>-152.0</td>\n",
              "      <td>-182.0</td>\n",
              "      <td>-177.0</td>\n",
              "      <td>1.0</td>\n",
              "    </tr>\n",
              "    <tr>\n",
              "      <th>4</th>\n",
              "      <td>1784265</td>\n",
              "      <td>202054</td>\n",
              "      <td>Cash loans</td>\n",
              "      <td>31924.395</td>\n",
              "      <td>337500.0</td>\n",
              "      <td>404055.0</td>\n",
              "      <td>NaN</td>\n",
              "      <td>337500.0</td>\n",
              "      <td>THURSDAY</td>\n",
              "      <td>9</td>\n",
              "      <td>...</td>\n",
              "      <td>XNA</td>\n",
              "      <td>24.0</td>\n",
              "      <td>high</td>\n",
              "      <td>Cash Street: high</td>\n",
              "      <td>NaN</td>\n",
              "      <td>NaN</td>\n",
              "      <td>NaN</td>\n",
              "      <td>NaN</td>\n",
              "      <td>NaN</td>\n",
              "      <td>NaN</td>\n",
              "    </tr>\n",
              "  </tbody>\n",
              "</table>\n",
              "<p>5 rows × 37 columns</p>\n",
              "</div>\n",
              "      <button class=\"colab-df-convert\" onclick=\"convertToInteractive('df-75c8df3f-04c5-4be8-b1f7-35e13fdc587b')\"\n",
              "              title=\"Convert this dataframe to an interactive table.\"\n",
              "              style=\"display:none;\">\n",
              "        \n",
              "  <svg xmlns=\"http://www.w3.org/2000/svg\" height=\"24px\"viewBox=\"0 0 24 24\"\n",
              "       width=\"24px\">\n",
              "    <path d=\"M0 0h24v24H0V0z\" fill=\"none\"/>\n",
              "    <path d=\"M18.56 5.44l.94 2.06.94-2.06 2.06-.94-2.06-.94-.94-2.06-.94 2.06-2.06.94zm-11 1L8.5 8.5l.94-2.06 2.06-.94-2.06-.94L8.5 2.5l-.94 2.06-2.06.94zm10 10l.94 2.06.94-2.06 2.06-.94-2.06-.94-.94-2.06-.94 2.06-2.06.94z\"/><path d=\"M17.41 7.96l-1.37-1.37c-.4-.4-.92-.59-1.43-.59-.52 0-1.04.2-1.43.59L10.3 9.45l-7.72 7.72c-.78.78-.78 2.05 0 2.83L4 21.41c.39.39.9.59 1.41.59.51 0 1.02-.2 1.41-.59l7.78-7.78 2.81-2.81c.8-.78.8-2.07 0-2.86zM5.41 20L4 18.59l7.72-7.72 1.47 1.35L5.41 20z\"/>\n",
              "  </svg>\n",
              "      </button>\n",
              "      \n",
              "  <style>\n",
              "    .colab-df-container {\n",
              "      display:flex;\n",
              "      flex-wrap:wrap;\n",
              "      gap: 12px;\n",
              "    }\n",
              "\n",
              "    .colab-df-convert {\n",
              "      background-color: #E8F0FE;\n",
              "      border: none;\n",
              "      border-radius: 50%;\n",
              "      cursor: pointer;\n",
              "      display: none;\n",
              "      fill: #1967D2;\n",
              "      height: 32px;\n",
              "      padding: 0 0 0 0;\n",
              "      width: 32px;\n",
              "    }\n",
              "\n",
              "    .colab-df-convert:hover {\n",
              "      background-color: #E2EBFA;\n",
              "      box-shadow: 0px 1px 2px rgba(60, 64, 67, 0.3), 0px 1px 3px 1px rgba(60, 64, 67, 0.15);\n",
              "      fill: #174EA6;\n",
              "    }\n",
              "\n",
              "    [theme=dark] .colab-df-convert {\n",
              "      background-color: #3B4455;\n",
              "      fill: #D2E3FC;\n",
              "    }\n",
              "\n",
              "    [theme=dark] .colab-df-convert:hover {\n",
              "      background-color: #434B5C;\n",
              "      box-shadow: 0px 1px 3px 1px rgba(0, 0, 0, 0.15);\n",
              "      filter: drop-shadow(0px 1px 2px rgba(0, 0, 0, 0.3));\n",
              "      fill: #FFFFFF;\n",
              "    }\n",
              "  </style>\n",
              "\n",
              "      <script>\n",
              "        const buttonEl =\n",
              "          document.querySelector('#df-75c8df3f-04c5-4be8-b1f7-35e13fdc587b button.colab-df-convert');\n",
              "        buttonEl.style.display =\n",
              "          google.colab.kernel.accessAllowed ? 'block' : 'none';\n",
              "\n",
              "        async function convertToInteractive(key) {\n",
              "          const element = document.querySelector('#df-75c8df3f-04c5-4be8-b1f7-35e13fdc587b');\n",
              "          const dataTable =\n",
              "            await google.colab.kernel.invokeFunction('convertToInteractive',\n",
              "                                                     [key], {});\n",
              "          if (!dataTable) return;\n",
              "\n",
              "          const docLinkHtml = 'Like what you see? Visit the ' +\n",
              "            '<a target=\"_blank\" href=https://colab.research.google.com/notebooks/data_table.ipynb>data table notebook</a>'\n",
              "            + ' to learn more about interactive tables.';\n",
              "          element.innerHTML = '';\n",
              "          dataTable['output_type'] = 'display_data';\n",
              "          await google.colab.output.renderOutput(dataTable, element);\n",
              "          const docLink = document.createElement('div');\n",
              "          docLink.innerHTML = docLinkHtml;\n",
              "          element.appendChild(docLink);\n",
              "        }\n",
              "      </script>\n",
              "    </div>\n",
              "  </div>\n",
              "  "
            ]
          },
          "metadata": {},
          "execution_count": 8
        }
      ],
      "source": [
        "prev_app=pd.read_csv(\"previous_application.csv\")\n",
        "prev_app.head()-"
      ]
    },
    {
      "cell_type": "code",
      "execution_count": 9,
      "id": "617fa78a",
      "metadata": {
        "colab": {
          "base_uri": "https://localhost:8080/"
        },
        "id": "617fa78a",
        "outputId": "09eec2aa-ec3e-4263-cc8c-0ef5716e0670"
      },
      "outputs": [
        {
          "output_type": "execute_result",
          "data": {
            "text/plain": [
              "0        False\n",
              "1        False\n",
              "2        False\n",
              "3        False\n",
              "4        False\n",
              "         ...  \n",
              "25228    False\n",
              "25229    False\n",
              "25230    False\n",
              "25231    False\n",
              "25232    False\n",
              "Length: 25233, dtype: bool"
            ]
          },
          "metadata": {},
          "execution_count": 9
        }
      ],
      "source": [
        "###Check if the app data is having duplicates or not?, if yes, how many?\n",
        "app_data.duplicated()"
      ]
    },
    {
      "cell_type": "code",
      "execution_count": 10,
      "id": "2f4d23b9",
      "metadata": {
        "colab": {
          "base_uri": "https://localhost:8080/"
        },
        "id": "2f4d23b9",
        "outputId": "6ccebdd1-1a95-4841-cd1f-002176261c32"
      },
      "outputs": [
        {
          "output_type": "execute_result",
          "data": {
            "text/plain": [
              "0        False\n",
              "1        False\n",
              "2        False\n",
              "3        False\n",
              "4        False\n",
              "         ...  \n",
              "68314    False\n",
              "68315    False\n",
              "68316    False\n",
              "68317    False\n",
              "68318    False\n",
              "Length: 68319, dtype: bool"
            ]
          },
          "metadata": {},
          "execution_count": 10
        }
      ],
      "source": [
        "###Check if the prev application data is having duplicates or not?, if yes, how many?\n",
        "prev_app.duplicated()"
      ]
    },
    {
      "cell_type": "code",
      "execution_count": 11,
      "id": "e36efcd5",
      "metadata": {
        "colab": {
          "base_uri": "https://localhost:8080/"
        },
        "id": "e36efcd5",
        "outputId": "8f69775f-d1cb-4e63-a48a-9fccc00ecf54"
      },
      "outputs": [
        {
          "output_type": "execute_result",
          "data": {
            "text/plain": [
              "SK_ID_CURR                      int64\n",
              "TARGET                          int64\n",
              "NAME_CONTRACT_TYPE             object\n",
              "CODE_GENDER                    object\n",
              "FLAG_OWN_CAR                   object\n",
              "                               ...   \n",
              "AMT_REQ_CREDIT_BUREAU_DAY     float64\n",
              "AMT_REQ_CREDIT_BUREAU_WEEK    float64\n",
              "AMT_REQ_CREDIT_BUREAU_MON     float64\n",
              "AMT_REQ_CREDIT_BUREAU_QRT     float64\n",
              "AMT_REQ_CREDIT_BUREAU_YEAR    float64\n",
              "Length: 122, dtype: object"
            ]
          },
          "metadata": {},
          "execution_count": 11
        }
      ],
      "source": [
        "app_data.dtypes"
      ]
    },
    {
      "cell_type": "code",
      "execution_count": 12,
      "id": "6ff8da6f",
      "metadata": {
        "id": "6ff8da6f"
      },
      "outputs": [],
      "source": [
        "##droping the column whose null value is greater that 40%\n",
        "app_data.isnull().mean()[(app_data.isnull().mean()*100)>40]*100\n",
        "drop_cols=list((app_data.isnull().mean()[(app_data.isnull().mean()*100)>40]*100).index)\n",
        "app_data.drop(drop_cols, axis=1, inplace=True)\n"
      ]
    },
    {
      "cell_type": "code",
      "execution_count": 13,
      "id": "86288909",
      "metadata": {
        "colab": {
          "base_uri": "https://localhost:8080/"
        },
        "id": "86288909",
        "outputId": "db7df0fd-2b17-4a7b-d6e2-227b4d3d50f0"
      },
      "outputs": [
        {
          "output_type": "execute_result",
          "data": {
            "text/plain": [
              "(25233, 73)"
            ]
          },
          "metadata": {},
          "execution_count": 13
        }
      ],
      "source": [
        "### checking the shape after the dropping\n",
        "app_data.shape"
      ]
    },
    {
      "cell_type": "code",
      "execution_count": 14,
      "id": "d849bd51",
      "metadata": {
        "colab": {
          "base_uri": "https://localhost:8080/"
        },
        "id": "d849bd51",
        "outputId": "bb3c064d-bf39-4ddc-e3e8-17e0af03eced"
      },
      "outputs": [
        {
          "output_type": "stream",
          "name": "stdout",
          "text": [
            "<class 'pandas.core.frame.DataFrame'>\n",
            "RangeIndex: 25233 entries, 0 to 25232\n",
            "Data columns (total 73 columns):\n",
            " #   Column                       Non-Null Count  Dtype  \n",
            "---  ------                       --------------  -----  \n",
            " 0   SK_ID_CURR                   25233 non-null  int64  \n",
            " 1   TARGET                       25233 non-null  int64  \n",
            " 2   NAME_CONTRACT_TYPE           25233 non-null  object \n",
            " 3   CODE_GENDER                  25233 non-null  object \n",
            " 4   FLAG_OWN_CAR                 25233 non-null  object \n",
            " 5   FLAG_OWN_REALTY              25233 non-null  object \n",
            " 6   CNT_CHILDREN                 25233 non-null  int64  \n",
            " 7   AMT_INCOME_TOTAL             25233 non-null  float64\n",
            " 8   AMT_CREDIT                   25233 non-null  float64\n",
            " 9   AMT_ANNUITY                  25233 non-null  float64\n",
            " 10  AMT_GOODS_PRICE              25215 non-null  float64\n",
            " 11  NAME_TYPE_SUITE              25130 non-null  object \n",
            " 12  NAME_INCOME_TYPE             25233 non-null  object \n",
            " 13  NAME_EDUCATION_TYPE          25233 non-null  object \n",
            " 14  NAME_FAMILY_STATUS           25232 non-null  object \n",
            " 15  NAME_HOUSING_TYPE            25232 non-null  object \n",
            " 16  REGION_POPULATION_RELATIVE   25232 non-null  float64\n",
            " 17  DAYS_BIRTH                   25232 non-null  float64\n",
            " 18  DAYS_EMPLOYED                25232 non-null  float64\n",
            " 19  DAYS_REGISTRATION            25232 non-null  float64\n",
            " 20  DAYS_ID_PUBLISH              25232 non-null  float64\n",
            " 21  FLAG_MOBIL                   25232 non-null  float64\n",
            " 22  FLAG_EMP_PHONE               25232 non-null  float64\n",
            " 23  FLAG_WORK_PHONE              25232 non-null  float64\n",
            " 24  FLAG_CONT_MOBILE             25232 non-null  float64\n",
            " 25  FLAG_PHONE                   25232 non-null  float64\n",
            " 26  FLAG_EMAIL                   25232 non-null  float64\n",
            " 27  OCCUPATION_TYPE              17345 non-null  object \n",
            " 28  CNT_FAM_MEMBERS              25232 non-null  float64\n",
            " 29  REGION_RATING_CLIENT         25232 non-null  float64\n",
            " 30  REGION_RATING_CLIENT_W_CITY  25232 non-null  float64\n",
            " 31  WEEKDAY_APPR_PROCESS_START   25232 non-null  object \n",
            " 32  HOUR_APPR_PROCESS_START      25232 non-null  float64\n",
            " 33  REG_REGION_NOT_LIVE_REGION   25232 non-null  float64\n",
            " 34  REG_REGION_NOT_WORK_REGION   25232 non-null  float64\n",
            " 35  LIVE_REGION_NOT_WORK_REGION  25232 non-null  float64\n",
            " 36  REG_CITY_NOT_LIVE_CITY       25232 non-null  float64\n",
            " 37  REG_CITY_NOT_WORK_CITY       25232 non-null  float64\n",
            " 38  LIVE_CITY_NOT_WORK_CITY      25232 non-null  float64\n",
            " 39  ORGANIZATION_TYPE            25232 non-null  object \n",
            " 40  EXT_SOURCE_2                 25165 non-null  float64\n",
            " 41  EXT_SOURCE_3                 20270 non-null  float64\n",
            " 42  OBS_30_CNT_SOCIAL_CIRCLE     25144 non-null  float64\n",
            " 43  DEF_30_CNT_SOCIAL_CIRCLE     25144 non-null  float64\n",
            " 44  OBS_60_CNT_SOCIAL_CIRCLE     25144 non-null  float64\n",
            " 45  DEF_60_CNT_SOCIAL_CIRCLE     25144 non-null  float64\n",
            " 46  DAYS_LAST_PHONE_CHANGE       25231 non-null  float64\n",
            " 47  FLAG_DOCUMENT_2              25232 non-null  float64\n",
            " 48  FLAG_DOCUMENT_3              25232 non-null  float64\n",
            " 49  FLAG_DOCUMENT_4              25232 non-null  float64\n",
            " 50  FLAG_DOCUMENT_5              25232 non-null  float64\n",
            " 51  FLAG_DOCUMENT_6              25232 non-null  float64\n",
            " 52  FLAG_DOCUMENT_7              25232 non-null  float64\n",
            " 53  FLAG_DOCUMENT_8              25232 non-null  float64\n",
            " 54  FLAG_DOCUMENT_9              25232 non-null  float64\n",
            " 55  FLAG_DOCUMENT_10             25232 non-null  float64\n",
            " 56  FLAG_DOCUMENT_11             25232 non-null  float64\n",
            " 57  FLAG_DOCUMENT_12             25232 non-null  float64\n",
            " 58  FLAG_DOCUMENT_13             25232 non-null  float64\n",
            " 59  FLAG_DOCUMENT_14             25232 non-null  float64\n",
            " 60  FLAG_DOCUMENT_15             25232 non-null  float64\n",
            " 61  FLAG_DOCUMENT_16             25232 non-null  float64\n",
            " 62  FLAG_DOCUMENT_17             25232 non-null  float64\n",
            " 63  FLAG_DOCUMENT_18             25232 non-null  float64\n",
            " 64  FLAG_DOCUMENT_19             25232 non-null  float64\n",
            " 65  FLAG_DOCUMENT_20             25232 non-null  float64\n",
            " 66  FLAG_DOCUMENT_21             25232 non-null  float64\n",
            " 67  AMT_REQ_CREDIT_BUREAU_HOUR   21848 non-null  float64\n",
            " 68  AMT_REQ_CREDIT_BUREAU_DAY    21848 non-null  float64\n",
            " 69  AMT_REQ_CREDIT_BUREAU_WEEK   21848 non-null  float64\n",
            " 70  AMT_REQ_CREDIT_BUREAU_MON    21848 non-null  float64\n",
            " 71  AMT_REQ_CREDIT_BUREAU_QRT    21848 non-null  float64\n",
            " 72  AMT_REQ_CREDIT_BUREAU_YEAR   21848 non-null  float64\n",
            "dtypes: float64(58), int64(3), object(12)\n",
            "memory usage: 14.1+ MB\n"
          ]
        }
      ],
      "source": [
        "app_data.info()"
      ]
    },
    {
      "cell_type": "code",
      "execution_count": 15,
      "id": "38695120",
      "metadata": {
        "id": "38695120"
      },
      "outputs": [],
      "source": [
        "###droppig the irrevelant columns\n",
        "app_data.drop([\"REGION_POPULATION_RELATIVE\",\"DAYS_REGISTRATION\",\"DAYS_ID_PUBLISH\",\"FLAG_EMP_PHONE\",\"FLAG_WORK_PHONE\",\"FLAG_CONT_MOBILE\",\"FLAG_PHONE\",\"FLAG_EMAIL\",\"REGION_RATING_CLIENT\",\"REGION_RATING_CLIENT_W_CITY\",\"WEEKDAY_APPR_PROCESS_START\",\"HOUR_APPR_PROCESS_START\",\"REG_CITY_NOT_LIVE_CITY\",\"REG_CITY_NOT_WORK_CITY\",\"LIVE_CITY_NOT_WORK_CITY\",\"EXT_SOURCE_2\",\"EXT_SOURCE_3\"], axis=1, inplace=True)"
      ]
    },
    {
      "cell_type": "code",
      "execution_count": 16,
      "id": "96d2d417",
      "metadata": {
        "colab": {
          "base_uri": "https://localhost:8080/"
        },
        "id": "96d2d417",
        "outputId": "0c46a517-f1d4-4ece-ee6e-8844b0ae7e93"
      },
      "outputs": [
        {
          "output_type": "execute_result",
          "data": {
            "text/plain": [
              "SK_ID_CURR                        0\n",
              "TARGET                            0\n",
              "NAME_CONTRACT_TYPE                0\n",
              "CODE_GENDER                       0\n",
              "FLAG_OWN_CAR                      0\n",
              "FLAG_OWN_REALTY                   0\n",
              "CNT_CHILDREN                      0\n",
              "AMT_INCOME_TOTAL                  0\n",
              "AMT_CREDIT                        0\n",
              "AMT_ANNUITY                       0\n",
              "AMT_GOODS_PRICE                  18\n",
              "NAME_TYPE_SUITE                 103\n",
              "NAME_INCOME_TYPE                  0\n",
              "NAME_EDUCATION_TYPE               0\n",
              "NAME_FAMILY_STATUS                1\n",
              "NAME_HOUSING_TYPE                 1\n",
              "DAYS_BIRTH                        1\n",
              "DAYS_EMPLOYED                     1\n",
              "FLAG_MOBIL                        1\n",
              "OCCUPATION_TYPE                7888\n",
              "CNT_FAM_MEMBERS                   1\n",
              "REG_REGION_NOT_LIVE_REGION        1\n",
              "REG_REGION_NOT_WORK_REGION        1\n",
              "LIVE_REGION_NOT_WORK_REGION       1\n",
              "ORGANIZATION_TYPE                 1\n",
              "OBS_30_CNT_SOCIAL_CIRCLE         89\n",
              "DEF_30_CNT_SOCIAL_CIRCLE         89\n",
              "OBS_60_CNT_SOCIAL_CIRCLE         89\n",
              "DEF_60_CNT_SOCIAL_CIRCLE         89\n",
              "DAYS_LAST_PHONE_CHANGE            2\n",
              "FLAG_DOCUMENT_2                   1\n",
              "FLAG_DOCUMENT_3                   1\n",
              "FLAG_DOCUMENT_4                   1\n",
              "FLAG_DOCUMENT_5                   1\n",
              "FLAG_DOCUMENT_6                   1\n",
              "FLAG_DOCUMENT_7                   1\n",
              "FLAG_DOCUMENT_8                   1\n",
              "FLAG_DOCUMENT_9                   1\n",
              "FLAG_DOCUMENT_10                  1\n",
              "FLAG_DOCUMENT_11                  1\n",
              "FLAG_DOCUMENT_12                  1\n",
              "FLAG_DOCUMENT_13                  1\n",
              "FLAG_DOCUMENT_14                  1\n",
              "FLAG_DOCUMENT_15                  1\n",
              "FLAG_DOCUMENT_16                  1\n",
              "FLAG_DOCUMENT_17                  1\n",
              "FLAG_DOCUMENT_18                  1\n",
              "FLAG_DOCUMENT_19                  1\n",
              "FLAG_DOCUMENT_20                  1\n",
              "FLAG_DOCUMENT_21                  1\n",
              "AMT_REQ_CREDIT_BUREAU_HOUR     3385\n",
              "AMT_REQ_CREDIT_BUREAU_DAY      3385\n",
              "AMT_REQ_CREDIT_BUREAU_WEEK     3385\n",
              "AMT_REQ_CREDIT_BUREAU_MON      3385\n",
              "AMT_REQ_CREDIT_BUREAU_QRT      3385\n",
              "AMT_REQ_CREDIT_BUREAU_YEAR     3385\n",
              "dtype: int64"
            ]
          },
          "metadata": {},
          "execution_count": 16
        }
      ],
      "source": [
        "#### checking missing values\n",
        "app_data.isna().sum()"
      ]
    },
    {
      "cell_type": "code",
      "execution_count": 17,
      "id": "5b14c4d5",
      "metadata": {
        "colab": {
          "base_uri": "https://localhost:8080/"
        },
        "id": "5b14c4d5",
        "outputId": "171cba00-f8ec-412b-e334-4e9fa164516e"
      },
      "outputs": [
        {
          "output_type": "execute_result",
          "data": {
            "text/plain": [
              "24961.5"
            ]
          },
          "metadata": {},
          "execution_count": 17
        }
      ],
      "source": [
        "###checking missing values in Annuity\n",
        "app_data.AMT_ANNUITY.median()"
      ]
    },
    {
      "cell_type": "code",
      "execution_count": 18,
      "id": "4f5553d5",
      "metadata": {
        "id": "4f5553d5"
      },
      "outputs": [],
      "source": [
        "app_data.AMT_ANNUITY.fillna(app_data.AMT_ANNUITY.median(), inplace=True)\n"
      ]
    },
    {
      "cell_type": "code",
      "execution_count": 19,
      "id": "50b23813",
      "metadata": {
        "colab": {
          "base_uri": "https://localhost:8080/"
        },
        "id": "50b23813",
        "outputId": "324e4ba5-9146-47bf-fead-01c3215a3eb4"
      },
      "outputs": [
        {
          "output_type": "execute_result",
          "data": {
            "text/plain": [
              "0"
            ]
          },
          "metadata": {},
          "execution_count": 19
        }
      ],
      "source": [
        "app_data.AMT_ANNUITY.isna().sum()"
      ]
    },
    {
      "cell_type": "code",
      "execution_count": 20,
      "id": "aed54a7d",
      "metadata": {
        "colab": {
          "base_uri": "https://localhost:8080/"
        },
        "id": "aed54a7d",
        "outputId": "f4ca9b2f-149d-4999-89ad-f8e83cb7419a"
      },
      "outputs": [
        {
          "output_type": "execute_result",
          "data": {
            "text/plain": [
              "SK_ID_CURR                        0\n",
              "TARGET                            0\n",
              "NAME_CONTRACT_TYPE                0\n",
              "CODE_GENDER                       0\n",
              "FLAG_OWN_CAR                      0\n",
              "FLAG_OWN_REALTY                   0\n",
              "CNT_CHILDREN                      0\n",
              "AMT_INCOME_TOTAL                  0\n",
              "AMT_CREDIT                        0\n",
              "AMT_ANNUITY                       0\n",
              "AMT_GOODS_PRICE                  18\n",
              "NAME_TYPE_SUITE                 103\n",
              "NAME_INCOME_TYPE                  0\n",
              "NAME_EDUCATION_TYPE               0\n",
              "NAME_FAMILY_STATUS                1\n",
              "NAME_HOUSING_TYPE                 1\n",
              "DAYS_BIRTH                        1\n",
              "DAYS_EMPLOYED                     1\n",
              "FLAG_MOBIL                        1\n",
              "OCCUPATION_TYPE                7888\n",
              "CNT_FAM_MEMBERS                   1\n",
              "REG_REGION_NOT_LIVE_REGION        1\n",
              "REG_REGION_NOT_WORK_REGION        1\n",
              "LIVE_REGION_NOT_WORK_REGION       1\n",
              "ORGANIZATION_TYPE                 1\n",
              "OBS_30_CNT_SOCIAL_CIRCLE         89\n",
              "DEF_30_CNT_SOCIAL_CIRCLE         89\n",
              "OBS_60_CNT_SOCIAL_CIRCLE         89\n",
              "DEF_60_CNT_SOCIAL_CIRCLE         89\n",
              "DAYS_LAST_PHONE_CHANGE            2\n",
              "FLAG_DOCUMENT_2                   1\n",
              "FLAG_DOCUMENT_3                   1\n",
              "FLAG_DOCUMENT_4                   1\n",
              "FLAG_DOCUMENT_5                   1\n",
              "FLAG_DOCUMENT_6                   1\n",
              "FLAG_DOCUMENT_7                   1\n",
              "FLAG_DOCUMENT_8                   1\n",
              "FLAG_DOCUMENT_9                   1\n",
              "FLAG_DOCUMENT_10                  1\n",
              "FLAG_DOCUMENT_11                  1\n",
              "FLAG_DOCUMENT_12                  1\n",
              "FLAG_DOCUMENT_13                  1\n",
              "FLAG_DOCUMENT_14                  1\n",
              "FLAG_DOCUMENT_15                  1\n",
              "FLAG_DOCUMENT_16                  1\n",
              "FLAG_DOCUMENT_17                  1\n",
              "FLAG_DOCUMENT_18                  1\n",
              "FLAG_DOCUMENT_19                  1\n",
              "FLAG_DOCUMENT_20                  1\n",
              "FLAG_DOCUMENT_21                  1\n",
              "AMT_REQ_CREDIT_BUREAU_HOUR     3385\n",
              "AMT_REQ_CREDIT_BUREAU_DAY      3385\n",
              "AMT_REQ_CREDIT_BUREAU_WEEK     3385\n",
              "AMT_REQ_CREDIT_BUREAU_MON      3385\n",
              "AMT_REQ_CREDIT_BUREAU_QRT      3385\n",
              "AMT_REQ_CREDIT_BUREAU_YEAR     3385\n",
              "dtype: int64"
            ]
          },
          "metadata": {},
          "execution_count": 20
        }
      ],
      "source": [
        "app_data.isna().sum()"
      ]
    },
    {
      "cell_type": "code",
      "execution_count": 21,
      "id": "c3a32215",
      "metadata": {
        "colab": {
          "base_uri": "https://localhost:8080/"
        },
        "id": "c3a32215",
        "outputId": "c3815916-9d86-4538-b537-dee0844de52c"
      },
      "outputs": [
        {
          "output_type": "execute_result",
          "data": {
            "text/plain": [
              "18"
            ]
          },
          "metadata": {},
          "execution_count": 21
        }
      ],
      "source": [
        "app_data.AMT_GOODS_PRICE.isna().sum()"
      ]
    },
    {
      "cell_type": "code",
      "execution_count": 22,
      "id": "8662c2e5",
      "metadata": {
        "colab": {
          "base_uri": "https://localhost:8080/"
        },
        "id": "8662c2e5",
        "outputId": "46678829-a505-4e0b-a44b-e60ec8f80632"
      },
      "outputs": [
        {
          "output_type": "execute_result",
          "data": {
            "text/plain": [
              "450000.0"
            ]
          },
          "metadata": {},
          "execution_count": 22
        }
      ],
      "source": [
        "app_data.AMT_GOODS_PRICE.median()"
      ]
    },
    {
      "cell_type": "code",
      "execution_count": 23,
      "id": "0741cbb8",
      "metadata": {
        "id": "0741cbb8"
      },
      "outputs": [],
      "source": [
        "app_data.AMT_GOODS_PRICE.fillna(app_data.AMT_GOODS_PRICE.median(), inplace=True)\n"
      ]
    },
    {
      "cell_type": "code",
      "execution_count": 24,
      "id": "5d4e01e1",
      "metadata": {
        "colab": {
          "base_uri": "https://localhost:8080/"
        },
        "id": "5d4e01e1",
        "outputId": "16a8234f-a7ef-4714-fb67-343d45ced7e6"
      },
      "outputs": [
        {
          "output_type": "execute_result",
          "data": {
            "text/plain": [
              "0"
            ]
          },
          "metadata": {},
          "execution_count": 24
        }
      ],
      "source": [
        "app_data.AMT_GOODS_PRICE.isna().sum()"
      ]
    },
    {
      "cell_type": "code",
      "execution_count": 25,
      "id": "2815250e",
      "metadata": {
        "colab": {
          "base_uri": "https://localhost:8080/"
        },
        "id": "2815250e",
        "outputId": "3a1ea6a9-1b74-422b-c85b-adbc281d8eaf"
      },
      "outputs": [
        {
          "output_type": "execute_result",
          "data": {
            "text/plain": [
              "SK_ID_CURR                        0\n",
              "TARGET                            0\n",
              "NAME_CONTRACT_TYPE                0\n",
              "CODE_GENDER                       0\n",
              "FLAG_OWN_CAR                      0\n",
              "FLAG_OWN_REALTY                   0\n",
              "CNT_CHILDREN                      0\n",
              "AMT_INCOME_TOTAL                  0\n",
              "AMT_CREDIT                        0\n",
              "AMT_ANNUITY                       0\n",
              "AMT_GOODS_PRICE                   0\n",
              "NAME_TYPE_SUITE                 103\n",
              "NAME_INCOME_TYPE                  0\n",
              "NAME_EDUCATION_TYPE               0\n",
              "NAME_FAMILY_STATUS                1\n",
              "NAME_HOUSING_TYPE                 1\n",
              "DAYS_BIRTH                        1\n",
              "DAYS_EMPLOYED                     1\n",
              "FLAG_MOBIL                        1\n",
              "OCCUPATION_TYPE                7888\n",
              "CNT_FAM_MEMBERS                   1\n",
              "REG_REGION_NOT_LIVE_REGION        1\n",
              "REG_REGION_NOT_WORK_REGION        1\n",
              "LIVE_REGION_NOT_WORK_REGION       1\n",
              "ORGANIZATION_TYPE                 1\n",
              "OBS_30_CNT_SOCIAL_CIRCLE         89\n",
              "DEF_30_CNT_SOCIAL_CIRCLE         89\n",
              "OBS_60_CNT_SOCIAL_CIRCLE         89\n",
              "DEF_60_CNT_SOCIAL_CIRCLE         89\n",
              "DAYS_LAST_PHONE_CHANGE            2\n",
              "FLAG_DOCUMENT_2                   1\n",
              "FLAG_DOCUMENT_3                   1\n",
              "FLAG_DOCUMENT_4                   1\n",
              "FLAG_DOCUMENT_5                   1\n",
              "FLAG_DOCUMENT_6                   1\n",
              "FLAG_DOCUMENT_7                   1\n",
              "FLAG_DOCUMENT_8                   1\n",
              "FLAG_DOCUMENT_9                   1\n",
              "FLAG_DOCUMENT_10                  1\n",
              "FLAG_DOCUMENT_11                  1\n",
              "FLAG_DOCUMENT_12                  1\n",
              "FLAG_DOCUMENT_13                  1\n",
              "FLAG_DOCUMENT_14                  1\n",
              "FLAG_DOCUMENT_15                  1\n",
              "FLAG_DOCUMENT_16                  1\n",
              "FLAG_DOCUMENT_17                  1\n",
              "FLAG_DOCUMENT_18                  1\n",
              "FLAG_DOCUMENT_19                  1\n",
              "FLAG_DOCUMENT_20                  1\n",
              "FLAG_DOCUMENT_21                  1\n",
              "AMT_REQ_CREDIT_BUREAU_HOUR     3385\n",
              "AMT_REQ_CREDIT_BUREAU_DAY      3385\n",
              "AMT_REQ_CREDIT_BUREAU_WEEK     3385\n",
              "AMT_REQ_CREDIT_BUREAU_MON      3385\n",
              "AMT_REQ_CREDIT_BUREAU_QRT      3385\n",
              "AMT_REQ_CREDIT_BUREAU_YEAR     3385\n",
              "dtype: int64"
            ]
          },
          "metadata": {},
          "execution_count": 25
        }
      ],
      "source": [
        "app_data.isna().sum()"
      ]
    },
    {
      "cell_type": "code",
      "execution_count": 26,
      "id": "71d0a934",
      "metadata": {
        "colab": {
          "base_uri": "https://localhost:8080/"
        },
        "id": "71d0a934",
        "outputId": "c720a433-cef9-40e6-e5c0-9a031f10c088"
      },
      "outputs": [
        {
          "output_type": "execute_result",
          "data": {
            "text/plain": [
              "103"
            ]
          },
          "metadata": {},
          "execution_count": 26
        }
      ],
      "source": [
        "app_data.NAME_TYPE_SUITE.isna().sum()"
      ]
    },
    {
      "cell_type": "code",
      "execution_count": null,
      "id": "3f182d18",
      "metadata": {
        "id": "3f182d18"
      },
      "outputs": [],
      "source": [
        ""
      ]
    },
    {
      "cell_type": "code",
      "execution_count": 27,
      "id": "758f936d",
      "metadata": {
        "colab": {
          "base_uri": "https://localhost:8080/"
        },
        "id": "758f936d",
        "outputId": "773e0701-cd83-4454-a82e-2115f9bcf12d"
      },
      "outputs": [
        {
          "output_type": "execute_result",
          "data": {
            "text/plain": [
              "Unaccompanied      20369\n",
              "Family              3331\n",
              "Spouse, partner      931\n",
              "Children             286\n",
              "Other_B              132\n",
              "NaN                  103\n",
              "Other_A               58\n",
              "Group of people       23\n",
              "Name: NAME_TYPE_SUITE, dtype: int64"
            ]
          },
          "metadata": {},
          "execution_count": 27
        }
      ],
      "source": [
        "app_data.NAME_TYPE_SUITE.value_counts(dropna=False)"
      ]
    },
    {
      "cell_type": "code",
      "execution_count": 28,
      "id": "2c099743",
      "metadata": {
        "colab": {
          "base_uri": "https://localhost:8080/"
        },
        "id": "2c099743",
        "outputId": "b1d4c28b-0620-4683-aee2-c73eae5b2805"
      },
      "outputs": [
        {
          "output_type": "execute_result",
          "data": {
            "text/plain": [
              "0    Unaccompanied\n",
              "dtype: object"
            ]
          },
          "metadata": {},
          "execution_count": 28
        }
      ],
      "source": [
        "app_data.NAME_TYPE_SUITE.mode()"
      ]
    },
    {
      "cell_type": "code",
      "execution_count": 29,
      "id": "73154596",
      "metadata": {
        "id": "73154596"
      },
      "outputs": [],
      "source": [
        "app_data.NAME_TYPE_SUITE.fillna(\"Unaccompanied\", inplace=True)"
      ]
    },
    {
      "cell_type": "code",
      "execution_count": 30,
      "id": "a96abc8e",
      "metadata": {
        "colab": {
          "base_uri": "https://localhost:8080/"
        },
        "id": "a96abc8e",
        "outputId": "c49e7aa6-2b22-443b-ff99-1a8a373836c5"
      },
      "outputs": [
        {
          "output_type": "execute_result",
          "data": {
            "text/plain": [
              "0"
            ]
          },
          "metadata": {},
          "execution_count": 30
        }
      ],
      "source": [
        "app_data.NAME_TYPE_SUITE.isna().sum()"
      ]
    },
    {
      "cell_type": "code",
      "execution_count": 31,
      "id": "f85ac93d",
      "metadata": {
        "colab": {
          "base_uri": "https://localhost:8080/"
        },
        "id": "f85ac93d",
        "outputId": "4ec798ae-f854-4881-8d97-6c2524c53f66"
      },
      "outputs": [
        {
          "output_type": "execute_result",
          "data": {
            "text/plain": [
              "SK_ID_CURR                        0\n",
              "TARGET                            0\n",
              "NAME_CONTRACT_TYPE                0\n",
              "CODE_GENDER                       0\n",
              "FLAG_OWN_CAR                      0\n",
              "FLAG_OWN_REALTY                   0\n",
              "CNT_CHILDREN                      0\n",
              "AMT_INCOME_TOTAL                  0\n",
              "AMT_CREDIT                        0\n",
              "AMT_ANNUITY                       0\n",
              "AMT_GOODS_PRICE                   0\n",
              "NAME_TYPE_SUITE                   0\n",
              "NAME_INCOME_TYPE                  0\n",
              "NAME_EDUCATION_TYPE               0\n",
              "NAME_FAMILY_STATUS                1\n",
              "NAME_HOUSING_TYPE                 1\n",
              "DAYS_BIRTH                        1\n",
              "DAYS_EMPLOYED                     1\n",
              "FLAG_MOBIL                        1\n",
              "OCCUPATION_TYPE                7888\n",
              "CNT_FAM_MEMBERS                   1\n",
              "REG_REGION_NOT_LIVE_REGION        1\n",
              "REG_REGION_NOT_WORK_REGION        1\n",
              "LIVE_REGION_NOT_WORK_REGION       1\n",
              "ORGANIZATION_TYPE                 1\n",
              "OBS_30_CNT_SOCIAL_CIRCLE         89\n",
              "DEF_30_CNT_SOCIAL_CIRCLE         89\n",
              "OBS_60_CNT_SOCIAL_CIRCLE         89\n",
              "DEF_60_CNT_SOCIAL_CIRCLE         89\n",
              "DAYS_LAST_PHONE_CHANGE            2\n",
              "FLAG_DOCUMENT_2                   1\n",
              "FLAG_DOCUMENT_3                   1\n",
              "FLAG_DOCUMENT_4                   1\n",
              "FLAG_DOCUMENT_5                   1\n",
              "FLAG_DOCUMENT_6                   1\n",
              "FLAG_DOCUMENT_7                   1\n",
              "FLAG_DOCUMENT_8                   1\n",
              "FLAG_DOCUMENT_9                   1\n",
              "FLAG_DOCUMENT_10                  1\n",
              "FLAG_DOCUMENT_11                  1\n",
              "FLAG_DOCUMENT_12                  1\n",
              "FLAG_DOCUMENT_13                  1\n",
              "FLAG_DOCUMENT_14                  1\n",
              "FLAG_DOCUMENT_15                  1\n",
              "FLAG_DOCUMENT_16                  1\n",
              "FLAG_DOCUMENT_17                  1\n",
              "FLAG_DOCUMENT_18                  1\n",
              "FLAG_DOCUMENT_19                  1\n",
              "FLAG_DOCUMENT_20                  1\n",
              "FLAG_DOCUMENT_21                  1\n",
              "AMT_REQ_CREDIT_BUREAU_HOUR     3385\n",
              "AMT_REQ_CREDIT_BUREAU_DAY      3385\n",
              "AMT_REQ_CREDIT_BUREAU_WEEK     3385\n",
              "AMT_REQ_CREDIT_BUREAU_MON      3385\n",
              "AMT_REQ_CREDIT_BUREAU_QRT      3385\n",
              "AMT_REQ_CREDIT_BUREAU_YEAR     3385\n",
              "dtype: int64"
            ]
          },
          "metadata": {},
          "execution_count": 31
        }
      ],
      "source": [
        "app_data.isna().sum()"
      ]
    },
    {
      "cell_type": "code",
      "execution_count": 32,
      "id": "53f7aab4",
      "metadata": {
        "colab": {
          "base_uri": "https://localhost:8080/"
        },
        "id": "53f7aab4",
        "outputId": "f54cc826-33ce-405f-e976-ecc2f7fc311d"
      },
      "outputs": [
        {
          "output_type": "execute_result",
          "data": {
            "text/plain": [
              "7888"
            ]
          },
          "metadata": {},
          "execution_count": 32
        }
      ],
      "source": [
        "app_data.OCCUPATION_TYPE.isna().sum()"
      ]
    },
    {
      "cell_type": "code",
      "execution_count": 33,
      "id": "9e5a67c7",
      "metadata": {
        "colab": {
          "base_uri": "https://localhost:8080/"
        },
        "id": "9e5a67c7",
        "outputId": "2708aea8-648c-4f5f-a161-ab46d1593cbd"
      },
      "outputs": [
        {
          "output_type": "execute_result",
          "data": {
            "text/plain": [
              "NaN                      7888\n",
              "Laborers                 4499\n",
              "Sales staff              2660\n",
              "Core staff               2265\n",
              "Managers                 1699\n",
              "Drivers                  1522\n",
              "High skill tech staff     943\n",
              "Accountants               811\n",
              "Medicine staff            721\n",
              "Security staff            566\n",
              "Cooking staff             483\n",
              "Cleaning staff            366\n",
              "Private service staff     238\n",
              "Low-skill Laborers        197\n",
              "Secretaries               110\n",
              "Waiters/barmen staff      101\n",
              "Realty agents              72\n",
              "HR staff                   48\n",
              "IT staff                   44\n",
              "Name: OCCUPATION_TYPE, dtype: int64"
            ]
          },
          "metadata": {},
          "execution_count": 33
        }
      ],
      "source": [
        "app_data.OCCUPATION_TYPE.value_counts(dropna=False)"
      ]
    },
    {
      "cell_type": "code",
      "execution_count": 34,
      "id": "14c416e6",
      "metadata": {
        "colab": {
          "base_uri": "https://localhost:8080/"
        },
        "id": "14c416e6",
        "outputId": "d931c80d-50ec-4dc2-da2b-513fda996513"
      },
      "outputs": [
        {
          "output_type": "execute_result",
          "data": {
            "text/plain": [
              "Laborers                 25.938311\n",
              "Sales staff              15.335832\n",
              "Core staff               13.058518\n",
              "Managers                  9.795330\n",
              "Drivers                   8.774863\n",
              "High skill tech staff     5.436725\n",
              "Accountants               4.675699\n",
              "Medicine staff            4.156818\n",
              "Security staff            3.263188\n",
              "Cooking staff             2.784664\n",
              "Cleaning staff            2.110118\n",
              "Private service staff     1.372153\n",
              "Low-skill Laborers        1.135774\n",
              "Secretaries               0.634189\n",
              "Waiters/barmen staff      0.582300\n",
              "Realty agents             0.415105\n",
              "HR staff                  0.276737\n",
              "IT staff                  0.253675\n",
              "Name: OCCUPATION_TYPE, dtype: float64"
            ]
          },
          "metadata": {},
          "execution_count": 34
        }
      ],
      "source": [
        "app_data.OCCUPATION_TYPE.value_counts(normalize=True)*100"
      ]
    },
    {
      "cell_type": "code",
      "execution_count": 35,
      "id": "269d9ce9",
      "metadata": {
        "colab": {
          "base_uri": "https://localhost:8080/"
        },
        "id": "269d9ce9",
        "outputId": "f875b012-b14e-44eb-9258-64f59b0477ff"
      },
      "outputs": [
        {
          "output_type": "execute_result",
          "data": {
            "text/plain": [
              "0    Laborers\n",
              "dtype: object"
            ]
          },
          "metadata": {},
          "execution_count": 35
        }
      ],
      "source": [
        "app_data.OCCUPATION_TYPE.mode()"
      ]
    },
    {
      "cell_type": "code",
      "execution_count": 36,
      "id": "889037f0",
      "metadata": {
        "colab": {
          "base_uri": "https://localhost:8080/"
        },
        "id": "889037f0",
        "outputId": "0bf035ca-b42e-49ba-c9ce-c8b733c9a7d1"
      },
      "outputs": [
        {
          "output_type": "execute_result",
          "data": {
            "text/plain": [
              "Married                 16288\n",
              "Single / not married     3630\n",
              "Civil marriage           2450\n",
              "Separated                1571\n",
              "Widow                    1293\n",
              "Name: NAME_FAMILY_STATUS, dtype: int64"
            ]
          },
          "metadata": {},
          "execution_count": 36
        }
      ],
      "source": [
        "app_data.NAME_FAMILY_STATUS.value_counts()"
      ]
    },
    {
      "cell_type": "code",
      "execution_count": 37,
      "id": "1aa817c0",
      "metadata": {
        "colab": {
          "base_uri": "https://localhost:8080/"
        },
        "id": "1aa817c0",
        "outputId": "d6ca58ca-19ac-4a5a-8b5c-63c04bec30c1"
      },
      "outputs": [
        {
          "output_type": "stream",
          "name": "stdout",
          "text": [
            "<class 'pandas.core.frame.DataFrame'>\n",
            "RangeIndex: 25233 entries, 0 to 25232\n",
            "Data columns (total 56 columns):\n",
            " #   Column                       Non-Null Count  Dtype  \n",
            "---  ------                       --------------  -----  \n",
            " 0   SK_ID_CURR                   25233 non-null  int64  \n",
            " 1   TARGET                       25233 non-null  int64  \n",
            " 2   NAME_CONTRACT_TYPE           25233 non-null  object \n",
            " 3   CODE_GENDER                  25233 non-null  object \n",
            " 4   FLAG_OWN_CAR                 25233 non-null  object \n",
            " 5   FLAG_OWN_REALTY              25233 non-null  object \n",
            " 6   CNT_CHILDREN                 25233 non-null  int64  \n",
            " 7   AMT_INCOME_TOTAL             25233 non-null  float64\n",
            " 8   AMT_CREDIT                   25233 non-null  float64\n",
            " 9   AMT_ANNUITY                  25233 non-null  float64\n",
            " 10  AMT_GOODS_PRICE              25233 non-null  float64\n",
            " 11  NAME_TYPE_SUITE              25233 non-null  object \n",
            " 12  NAME_INCOME_TYPE             25233 non-null  object \n",
            " 13  NAME_EDUCATION_TYPE          25233 non-null  object \n",
            " 14  NAME_FAMILY_STATUS           25232 non-null  object \n",
            " 15  NAME_HOUSING_TYPE            25232 non-null  object \n",
            " 16  DAYS_BIRTH                   25232 non-null  float64\n",
            " 17  DAYS_EMPLOYED                25232 non-null  float64\n",
            " 18  FLAG_MOBIL                   25232 non-null  float64\n",
            " 19  OCCUPATION_TYPE              17345 non-null  object \n",
            " 20  CNT_FAM_MEMBERS              25232 non-null  float64\n",
            " 21  REG_REGION_NOT_LIVE_REGION   25232 non-null  float64\n",
            " 22  REG_REGION_NOT_WORK_REGION   25232 non-null  float64\n",
            " 23  LIVE_REGION_NOT_WORK_REGION  25232 non-null  float64\n",
            " 24  ORGANIZATION_TYPE            25232 non-null  object \n",
            " 25  OBS_30_CNT_SOCIAL_CIRCLE     25144 non-null  float64\n",
            " 26  DEF_30_CNT_SOCIAL_CIRCLE     25144 non-null  float64\n",
            " 27  OBS_60_CNT_SOCIAL_CIRCLE     25144 non-null  float64\n",
            " 28  DEF_60_CNT_SOCIAL_CIRCLE     25144 non-null  float64\n",
            " 29  DAYS_LAST_PHONE_CHANGE       25231 non-null  float64\n",
            " 30  FLAG_DOCUMENT_2              25232 non-null  float64\n",
            " 31  FLAG_DOCUMENT_3              25232 non-null  float64\n",
            " 32  FLAG_DOCUMENT_4              25232 non-null  float64\n",
            " 33  FLAG_DOCUMENT_5              25232 non-null  float64\n",
            " 34  FLAG_DOCUMENT_6              25232 non-null  float64\n",
            " 35  FLAG_DOCUMENT_7              25232 non-null  float64\n",
            " 36  FLAG_DOCUMENT_8              25232 non-null  float64\n",
            " 37  FLAG_DOCUMENT_9              25232 non-null  float64\n",
            " 38  FLAG_DOCUMENT_10             25232 non-null  float64\n",
            " 39  FLAG_DOCUMENT_11             25232 non-null  float64\n",
            " 40  FLAG_DOCUMENT_12             25232 non-null  float64\n",
            " 41  FLAG_DOCUMENT_13             25232 non-null  float64\n",
            " 42  FLAG_DOCUMENT_14             25232 non-null  float64\n",
            " 43  FLAG_DOCUMENT_15             25232 non-null  float64\n",
            " 44  FLAG_DOCUMENT_16             25232 non-null  float64\n",
            " 45  FLAG_DOCUMENT_17             25232 non-null  float64\n",
            " 46  FLAG_DOCUMENT_18             25232 non-null  float64\n",
            " 47  FLAG_DOCUMENT_19             25232 non-null  float64\n",
            " 48  FLAG_DOCUMENT_20             25232 non-null  float64\n",
            " 49  FLAG_DOCUMENT_21             25232 non-null  float64\n",
            " 50  AMT_REQ_CREDIT_BUREAU_HOUR   21848 non-null  float64\n",
            " 51  AMT_REQ_CREDIT_BUREAU_DAY    21848 non-null  float64\n",
            " 52  AMT_REQ_CREDIT_BUREAU_WEEK   21848 non-null  float64\n",
            " 53  AMT_REQ_CREDIT_BUREAU_MON    21848 non-null  float64\n",
            " 54  AMT_REQ_CREDIT_BUREAU_QRT    21848 non-null  float64\n",
            " 55  AMT_REQ_CREDIT_BUREAU_YEAR   21848 non-null  float64\n",
            "dtypes: float64(42), int64(3), object(11)\n",
            "memory usage: 10.8+ MB\n"
          ]
        }
      ],
      "source": [
        "app_data.info()"
      ]
    },
    {
      "cell_type": "code",
      "execution_count": 38,
      "id": "4736e2df",
      "metadata": {
        "id": "4736e2df"
      },
      "outputs": [],
      "source": [
        "app_data.drop([\"OBS_30_CNT_SOCIAL_CIRCLE\",\"DEF_30_CNT_SOCIAL_CIRCLE\",\"OBS_60_CNT_SOCIAL_CIRCLE\",\"DEF_60_CNT_SOCIAL_CIRCLE\",\"FLAG_DOCUMENT_2\",\"FLAG_DOCUMENT_3\",\"FLAG_DOCUMENT_4\",\"FLAG_DOCUMENT_5\",\"FLAG_DOCUMENT_6\",\"FLAG_DOCUMENT_7\",\"FLAG_DOCUMENT_8\",\"FLAG_DOCUMENT_9\",\"FLAG_DOCUMENT_10\",\"FLAG_DOCUMENT_11\",\"FLAG_DOCUMENT_12\",\"FLAG_DOCUMENT_13\",\"FLAG_DOCUMENT_14\",\"FLAG_DOCUMENT_15\",\"FLAG_DOCUMENT_16\",\"FLAG_DOCUMENT_17\",\"FLAG_DOCUMENT_18\",\"FLAG_DOCUMENT_19\",\"FLAG_DOCUMENT_20\",\"FLAG_DOCUMENT_21\",\"AMT_REQ_CREDIT_BUREAU_HOUR\",\"AMT_REQ_CREDIT_BUREAU_DAY\",\"AMT_REQ_CREDIT_BUREAU_WEEK\",\"AMT_REQ_CREDIT_BUREAU_MON\",\"AMT_REQ_CREDIT_BUREAU_QRT\",\"AMT_REQ_CREDIT_BUREAU_YEAR\"], axis=1, inplace=True)"
      ]
    },
    {
      "cell_type": "code",
      "execution_count": 39,
      "id": "af9d667a",
      "metadata": {
        "colab": {
          "base_uri": "https://localhost:8080/"
        },
        "id": "af9d667a",
        "outputId": "9629c13c-4513-4b73-f102-caa0ceee9ddc"
      },
      "outputs": [
        {
          "output_type": "execute_result",
          "data": {
            "text/plain": [
              "(25233, 26)"
            ]
          },
          "metadata": {},
          "execution_count": 39
        }
      ],
      "source": [
        "app_data.shape"
      ]
    },
    {
      "cell_type": "code",
      "execution_count": 41,
      "id": "90a9aafe",
      "metadata": {
        "colab": {
          "base_uri": "https://localhost:8080/"
        },
        "id": "90a9aafe",
        "outputId": "10a00b3e-7ee4-4983-c879-a40643c01509"
      },
      "outputs": [
        {
          "output_type": "stream",
          "name": "stdout",
          "text": [
            "<class 'pandas.core.frame.DataFrame'>\n",
            "RangeIndex: 25233 entries, 0 to 25232\n",
            "Data columns (total 26 columns):\n",
            " #   Column                       Non-Null Count  Dtype  \n",
            "---  ------                       --------------  -----  \n",
            " 0   SK_ID_CURR                   25233 non-null  int64  \n",
            " 1   TARGET                       25233 non-null  int64  \n",
            " 2   NAME_CONTRACT_TYPE           25233 non-null  object \n",
            " 3   CODE_GENDER                  25233 non-null  object \n",
            " 4   FLAG_OWN_CAR                 25233 non-null  object \n",
            " 5   FLAG_OWN_REALTY              25233 non-null  object \n",
            " 6   CNT_CHILDREN                 25233 non-null  int64  \n",
            " 7   AMT_INCOME_TOTAL             25233 non-null  float64\n",
            " 8   AMT_CREDIT                   25233 non-null  float64\n",
            " 9   AMT_ANNUITY                  25233 non-null  float64\n",
            " 10  AMT_GOODS_PRICE              25233 non-null  float64\n",
            " 11  NAME_TYPE_SUITE              25233 non-null  object \n",
            " 12  NAME_INCOME_TYPE             25233 non-null  object \n",
            " 13  NAME_EDUCATION_TYPE          25233 non-null  object \n",
            " 14  NAME_FAMILY_STATUS           25232 non-null  object \n",
            " 15  NAME_HOUSING_TYPE            25232 non-null  object \n",
            " 16  DAYS_BIRTH                   25232 non-null  float64\n",
            " 17  DAYS_EMPLOYED                25232 non-null  float64\n",
            " 18  FLAG_MOBIL                   25232 non-null  float64\n",
            " 19  OCCUPATION_TYPE              17345 non-null  object \n",
            " 20  CNT_FAM_MEMBERS              25232 non-null  float64\n",
            " 21  REG_REGION_NOT_LIVE_REGION   25232 non-null  float64\n",
            " 22  REG_REGION_NOT_WORK_REGION   25232 non-null  float64\n",
            " 23  LIVE_REGION_NOT_WORK_REGION  25232 non-null  float64\n",
            " 24  ORGANIZATION_TYPE            25232 non-null  object \n",
            " 25  DAYS_LAST_PHONE_CHANGE       25231 non-null  float64\n",
            "dtypes: float64(12), int64(3), object(11)\n",
            "memory usage: 5.0+ MB\n"
          ]
        }
      ],
      "source": [
        "app_data.info()"
      ]
    },
    {
      "cell_type": "code",
      "execution_count": 42,
      "id": "985be0b4",
      "metadata": {
        "colab": {
          "base_uri": "https://localhost:8080/"
        },
        "id": "985be0b4",
        "outputId": "396bdbb8-1993-4ae9-c6a6-97a489f7b94d"
      },
      "outputs": [
        {
          "output_type": "execute_result",
          "data": {
            "text/plain": [
              "SK_ID_CURR                        0\n",
              "TARGET                            0\n",
              "NAME_CONTRACT_TYPE                0\n",
              "CODE_GENDER                       0\n",
              "FLAG_OWN_CAR                      0\n",
              "FLAG_OWN_REALTY                   0\n",
              "CNT_CHILDREN                      0\n",
              "AMT_INCOME_TOTAL                  0\n",
              "AMT_CREDIT                        0\n",
              "AMT_ANNUITY                       0\n",
              "AMT_GOODS_PRICE                   0\n",
              "NAME_TYPE_SUITE                   0\n",
              "NAME_INCOME_TYPE                  0\n",
              "NAME_EDUCATION_TYPE               0\n",
              "NAME_FAMILY_STATUS                1\n",
              "NAME_HOUSING_TYPE                 1\n",
              "DAYS_BIRTH                        1\n",
              "DAYS_EMPLOYED                     1\n",
              "FLAG_MOBIL                        1\n",
              "OCCUPATION_TYPE                7888\n",
              "CNT_FAM_MEMBERS                   1\n",
              "REG_REGION_NOT_LIVE_REGION        1\n",
              "REG_REGION_NOT_WORK_REGION        1\n",
              "LIVE_REGION_NOT_WORK_REGION       1\n",
              "ORGANIZATION_TYPE                 1\n",
              "DAYS_LAST_PHONE_CHANGE            2\n",
              "dtype: int64"
            ]
          },
          "metadata": {},
          "execution_count": 42
        }
      ],
      "source": [
        "app_data.isna().sum()"
      ]
    },
    {
      "cell_type": "code",
      "execution_count": 43,
      "id": "7474f3d2",
      "metadata": {
        "colab": {
          "base_uri": "https://localhost:8080/"
        },
        "id": "7474f3d2",
        "outputId": "e339642c-559d-4848-ad62-560d756910fc"
      },
      "outputs": [
        {
          "output_type": "execute_result",
          "data": {
            "text/plain": [
              " 0.0       3057\n",
              "-1.0        232\n",
              "-2.0        185\n",
              "-3.0        159\n",
              "-4.0        125\n",
              "           ... \n",
              "-3375.0       1\n",
              "-3983.0       1\n",
              "-3401.0       1\n",
              "-2548.0       1\n",
              "-3206.0       1\n",
              "Name: DAYS_LAST_PHONE_CHANGE, Length: 3186, dtype: int64"
            ]
          },
          "metadata": {},
          "execution_count": 43
        }
      ],
      "source": [
        "app_data.DAYS_LAST_PHONE_CHANGE.value_counts(dropna=False)"
      ]
    },
    {
      "cell_type": "code",
      "execution_count": 44,
      "id": "a61f8c09",
      "metadata": {
        "colab": {
          "base_uri": "https://localhost:8080/"
        },
        "id": "a61f8c09",
        "outputId": "5e4eb05a-ae0d-438e-80ce-1736cd9d85a4"
      },
      "outputs": [
        {
          "output_type": "execute_result",
          "data": {
            "text/plain": [
              "SK_ID_CURR                        0\n",
              "TARGET                            0\n",
              "NAME_CONTRACT_TYPE                0\n",
              "CODE_GENDER                       0\n",
              "FLAG_OWN_CAR                      0\n",
              "FLAG_OWN_REALTY                   0\n",
              "CNT_CHILDREN                      0\n",
              "AMT_INCOME_TOTAL                  0\n",
              "AMT_CREDIT                        0\n",
              "AMT_ANNUITY                       0\n",
              "AMT_GOODS_PRICE                   0\n",
              "NAME_TYPE_SUITE                   0\n",
              "NAME_INCOME_TYPE                  0\n",
              "NAME_EDUCATION_TYPE               0\n",
              "NAME_FAMILY_STATUS                1\n",
              "NAME_HOUSING_TYPE                 1\n",
              "DAYS_BIRTH                        1\n",
              "DAYS_EMPLOYED                     1\n",
              "FLAG_MOBIL                        1\n",
              "OCCUPATION_TYPE                7888\n",
              "CNT_FAM_MEMBERS                   1\n",
              "REG_REGION_NOT_LIVE_REGION        1\n",
              "REG_REGION_NOT_WORK_REGION        1\n",
              "LIVE_REGION_NOT_WORK_REGION       1\n",
              "ORGANIZATION_TYPE                 1\n",
              "DAYS_LAST_PHONE_CHANGE            2\n",
              "dtype: int64"
            ]
          },
          "metadata": {},
          "execution_count": 44
        }
      ],
      "source": [
        "app_data.isna().sum()"
      ]
    },
    {
      "cell_type": "code",
      "execution_count": 45,
      "id": "997d0a8d",
      "metadata": {
        "id": "997d0a8d"
      },
      "outputs": [],
      "source": [
        "###droping DAYS_LAST_PHONE_CHANGE\n",
        "app_data.drop(\"DAYS_LAST_PHONE_CHANGE\", axis=1, inplace=True)\n"
      ]
    },
    {
      "cell_type": "code",
      "execution_count": 46,
      "id": "75b8b50e",
      "metadata": {
        "colab": {
          "base_uri": "https://localhost:8080/"
        },
        "id": "75b8b50e",
        "outputId": "5db41a30-a55e-485d-a172-31c12d53447b"
      },
      "outputs": [
        {
          "output_type": "execute_result",
          "data": {
            "text/plain": [
              "0     -9461.0\n",
              "1    -16765.0\n",
              "2    -19046.0\n",
              "3    -19005.0\n",
              "4    -19932.0\n",
              "5    -16941.0\n",
              "6    -13778.0\n",
              "7    -18850.0\n",
              "8    -20099.0\n",
              "9    -14469.0\n",
              "10   -10197.0\n",
              "11   -20417.0\n",
              "12   -13439.0\n",
              "13   -14086.0\n",
              "14   -14583.0\n",
              "15    -8728.0\n",
              "16   -12931.0\n",
              "17    -9776.0\n",
              "18   -17718.0\n",
              "19   -11348.0\n",
              "20   -18252.0\n",
              "21   -14815.0\n",
              "22   -11146.0\n",
              "23   -24827.0\n",
              "24   -11286.0\n",
              "25   -19334.0\n",
              "26   -18724.0\n",
              "27   -15948.0\n",
              "28    -9994.0\n",
              "29   -10341.0\n",
              "30   -15280.0\n",
              "31   -11144.0\n",
              "32   -12974.0\n",
              "33   -11694.0\n",
              "34   -15997.0\n",
              "35   -12158.0\n",
              "36   -17199.0\n",
              "37   -21077.0\n",
              "38   -23920.0\n",
              "39   -16126.0\n",
              "40   -17482.0\n",
              "41   -16971.0\n",
              "42   -13384.0\n",
              "43   -23548.0\n",
              "44    -9827.0\n",
              "45    -7974.0\n",
              "46   -20373.0\n",
              "47   -20121.0\n",
              "48   -19727.0\n",
              "49   -18264.0\n",
              "Name: DAYS_BIRTH, dtype: float64"
            ]
          },
          "metadata": {},
          "execution_count": 46
        }
      ],
      "source": [
        "####outliers\n",
        "app_data.DAYS_BIRTH.head(50)"
      ]
    },
    {
      "cell_type": "code",
      "execution_count": 47,
      "id": "79b4513f",
      "metadata": {
        "id": "79b4513f"
      },
      "outputs": [],
      "source": [
        "app_data[\"DAYS_BIRTH_Year\"]= app_data[\"DAYS_BIRTH\"].apply(lambda x : x//365)"
      ]
    },
    {
      "cell_type": "code",
      "execution_count": 48,
      "id": "3505cc9f",
      "metadata": {
        "colab": {
          "base_uri": "https://localhost:8080/"
        },
        "id": "3505cc9f",
        "outputId": "021c3ecc-d849-4806-ee5c-e62d9c0db87a"
      },
      "outputs": [
        {
          "output_type": "execute_result",
          "data": {
            "text/plain": [
              "38.0    757\n",
              "39.0    733\n",
              "32.0    727\n",
              "41.0    713\n",
              "40.0    712\n",
              "42.0    705\n",
              "33.0    684\n",
              "34.0    681\n",
              "44.0    681\n",
              "28.0    675\n",
              "55.0    660\n",
              "36.0    643\n",
              "29.0    639\n",
              "43.0    635\n",
              "45.0    632\n",
              "35.0    632\n",
              "30.0    631\n",
              "37.0    628\n",
              "47.0    624\n",
              "31.0    618\n",
              "54.0    596\n",
              "46.0    595\n",
              "49.0    587\n",
              "48.0    585\n",
              "53.0    575\n",
              "56.0    555\n",
              "58.0    551\n",
              "52.0    546\n",
              "57.0    545\n",
              "50.0    530\n",
              "51.0    524\n",
              "60.0    523\n",
              "59.0    482\n",
              "61.0    481\n",
              "62.0    475\n",
              "64.0    451\n",
              "63.0    426\n",
              "65.0    414\n",
              "27.0    384\n",
              "26.0    348\n",
              "24.0    346\n",
              "25.0    302\n",
              "23.0    251\n",
              "66.0    244\n",
              "67.0    175\n",
              "68.0    165\n",
              "22.0     96\n",
              "69.0     70\n",
              "Name: DAYS_BIRTH_Year, dtype: int64"
            ]
          },
          "metadata": {},
          "execution_count": 48
        }
      ],
      "source": [
        "app_data[\"DAYS_BIRTH_Year\"]= abs(app_data[\"DAYS_BIRTH_Year\"])\n",
        "app_data.DAYS_BIRTH_Year.value_counts()"
      ]
    },
    {
      "cell_type": "code",
      "execution_count": 49,
      "id": "57aed9d8",
      "metadata": {
        "colab": {
          "base_uri": "https://localhost:8080/"
        },
        "id": "57aed9d8",
        "outputId": "c340e079-8dac-4ae2-a1fd-4feb201be8ef"
      },
      "outputs": [
        {
          "output_type": "execute_result",
          "data": {
            "text/plain": [
              "0    17671\n",
              "1     5050\n",
              "2     2143\n",
              "3      320\n",
              "4       36\n",
              "5        8\n",
              "6        2\n",
              "7        1\n",
              "8        1\n",
              "9        1\n",
              "Name: CNT_CHILDREN, dtype: int64"
            ]
          },
          "metadata": {},
          "execution_count": 49
        }
      ],
      "source": [
        "app_data.CNT_CHILDREN.value_counts()"
      ]
    },
    {
      "cell_type": "code",
      "execution_count": 50,
      "id": "0c68e30e",
      "metadata": {
        "colab": {
          "base_uri": "https://localhost:8080/",
          "height": 280
        },
        "id": "0c68e30e",
        "outputId": "717700e4-94f9-45d2-9600-f3426d518c94"
      },
      "outputs": [
        {
          "output_type": "display_data",
          "data": {
            "text/plain": [
              "<Figure size 432x288 with 1 Axes>"
            ],
            "image/png": "[encoded data removed]"
          },
          "metadata": {
            "needs_background": "light"
          }
        }
      ],
      "source": [
        "##checking the oulier for No. Children\n",
        "sns.boxplot(app_data.CNT_CHILDREN)\n",
        "plt.show()"
      ]
    },
    {
      "cell_type": "code",
      "execution_count": 51,
      "id": "27afa026",
      "metadata": {
        "colab": {
          "base_uri": "https://localhost:8080/",
          "height": 406
        },
        "id": "27afa026",
        "outputId": "32be9fa3-4e52-419b-b70b-59c60d52013c"
      },
      "outputs": [
        {
          "output_type": "execute_result",
          "data": {
            "text/plain": [
              "<matplotlib.axes._subplots.AxesSubplot at 0x7f9ea12ebd10>"
            ]
          },
          "metadata": {},
          "execution_count": 51
        },
        {
          "output_type": "display_data",
          "data": {
            "text/plain": [
              "<Figure size 720x432 with 1 Axes>"
            ],
            "image/png": "[encoded data removed]"
          },
          "metadata": {
            "needs_background": "light"
          }
        }
      ],
      "source": [
        "#### checkinf the oulier for Income of the client\n",
        "plt.figure(figsize=[10,6])\n",
        "sns.boxplot(app_data.AMT_INCOME_TOTAL)"
      ]
    },
    {
      "cell_type": "code",
      "execution_count": null,
      "id": "63450a13",
      "metadata": {
        "id": "63450a13"
      },
      "outputs": [],
      "source": [
        ""
      ]
    },
    {
      "cell_type": "code",
      "execution_count": 52,
      "id": "3616d26a",
      "metadata": {
        "colab": {
          "base_uri": "https://localhost:8080/"
        },
        "id": "3616d26a",
        "outputId": "2670964c-8af6-4e7b-a0a2-452c4cbe8065"
      },
      "outputs": [
        {
          "output_type": "execute_result",
          "data": {
            "text/plain": [
              "0.05     67500.0\n",
              "0.10     81000.0\n",
              "0.20     99000.0\n",
              "0.50    144000.0\n",
              "0.95    337500.0\n",
              "Name: AMT_INCOME_TOTAL, dtype: float64"
            ]
          },
          "metadata": {},
          "execution_count": 52
        }
      ],
      "source": [
        "app_data.AMT_INCOME_TOTAL.quantile([0.05, 0.1, 0.20, 0.50, 0.95])"
      ]
    },
    {
      "cell_type": "code",
      "execution_count": 53,
      "id": "330e7579",
      "metadata": {
        "colab": {
          "base_uri": "https://localhost:8080/",
          "height": 505
        },
        "id": "330e7579",
        "outputId": "18980a06-e9e4-40f5-8fa4-2017bb309818"
      },
      "outputs": [
        {
          "output_type": "execute_result",
          "data": {
            "text/plain": [
              "       SK_ID_CURR  TARGET NAME_CONTRACT_TYPE CODE_GENDER FLAG_OWN_CAR  \\\n",
              "7          100010       0         Cash loans           M            Y   \n",
              "22         100026       0         Cash loans           F            N   \n",
              "33         100039       0         Cash loans           M            Y   \n",
              "49         100056       0         Cash loans           M            Y   \n",
              "51         100059       0         Cash loans           M            Y   \n",
              "...           ...     ...                ...         ...          ...   \n",
              "25144      129245       0         Cash loans           F            Y   \n",
              "25170      129272       0         Cash loans           M            Y   \n",
              "25191      129296       0         Cash loans           F            N   \n",
              "25193      129300       0         Cash loans           M            N   \n",
              "25218      129333       0         Cash loans           M            N   \n",
              "\n",
              "      FLAG_OWN_REALTY  CNT_CHILDREN  AMT_INCOME_TOTAL  AMT_CREDIT  \\\n",
              "7                   Y             0          360000.0   1530000.0   \n",
              "22                  N             1          450000.0    497520.0   \n",
              "33                  N             1          360000.0    733315.5   \n",
              "49                  Y             0          360000.0   1506816.0   \n",
              "51                  Y             1          540000.0    675000.0   \n",
              "...               ...           ...               ...         ...   \n",
              "25144               Y             0          450000.0   1042560.0   \n",
              "25170               N             2          450000.0    537763.5   \n",
              "25191               Y             1          450000.0    755190.0   \n",
              "25193               N             0          360000.0    728460.0   \n",
              "25218               Y             0          405000.0    751500.0   \n",
              "\n",
              "       AMT_ANNUITY  ...  DAYS_BIRTH DAYS_EMPLOYED FLAG_MOBIL OCCUPATION_TYPE  \\\n",
              "7          42075.0  ...    -18850.0        -449.0        1.0        Managers   \n",
              "22         32521.5  ...    -11146.0       -4306.0        1.0     Sales staff   \n",
              "33         39069.0  ...    -11694.0       -2060.0        1.0         Drivers   \n",
              "49         49927.5  ...    -18264.0       -9523.0        1.0        Laborers   \n",
              "51         34596.0  ...    -18632.0       -6977.0        1.0        Managers   \n",
              "...            ...  ...         ...           ...        ...             ...   \n",
              "25144      34587.0  ...    -16399.0       -2703.0        1.0     Accountants   \n",
              "25170      33030.0  ...    -14166.0       -5097.0        1.0      Core staff   \n",
              "25191      36459.0  ...    -19323.0      -11114.0        1.0             NaN   \n",
              "25193      57555.0  ...    -15239.0        -209.0        1.0         Drivers   \n",
              "25218      51295.5  ...    -20936.0       -5269.0        1.0        Laborers   \n",
              "\n",
              "      CNT_FAM_MEMBERS REG_REGION_NOT_LIVE_REGION  REG_REGION_NOT_WORK_REGION  \\\n",
              "7                 2.0                        0.0                         0.0   \n",
              "22                3.0                        0.0                         0.0   \n",
              "33                3.0                        0.0                         0.0   \n",
              "49                2.0                        0.0                         0.0   \n",
              "51                3.0                        0.0                         0.0   \n",
              "...               ...                        ...                         ...   \n",
              "25144             2.0                        0.0                         0.0   \n",
              "25170             4.0                        0.0                         0.0   \n",
              "25191             3.0                        0.0                         0.0   \n",
              "25193             2.0                        1.0                         1.0   \n",
              "25218             1.0                        0.0                         0.0   \n",
              "\n",
              "       LIVE_REGION_NOT_WORK_REGION       ORGANIZATION_TYPE DAYS_BIRTH_Year  \n",
              "7                              0.0                   Other            52.0  \n",
              "22                             0.0           Self-employed            31.0  \n",
              "33                             0.0           Self-employed            33.0  \n",
              "49                             0.0       Transport: type 2            51.0  \n",
              "51                             0.0                Services            52.0  \n",
              "...                            ...                     ...             ...  \n",
              "25144                          0.0           Self-employed            45.0  \n",
              "25170                          0.0                Military            39.0  \n",
              "25191                          0.0                Military            53.0  \n",
              "25193                          0.0       Transport: type 3            42.0  \n",
              "25218                          0.0  Business Entity Type 3            58.0  \n",
              "\n",
              "[1182 rows x 26 columns]"
            ],
            "text/html": [
              "\n",
              "  <div id=\"df-458cca2a-7d35-42a6-9209-087c74f72c69\">\n",
              "    <div class=\"colab-df-container\">\n",
              "      <div>\n",
              "<style scoped>\n",
              "    .dataframe tbody tr th:only-of-type {\n",
              "        vertical-align: middle;\n",
              "    }\n",
              "\n",
              "    .dataframe tbody tr th {\n",
              "        vertical-align: top;\n",
              "    }\n",
              "\n",
              "    .dataframe thead th {\n",
              "        text-align: right;\n",
              "    }\n",
              "</style>\n",
              "<table border=\"1\" class=\"dataframe\">\n",
              "  <thead>\n",
              "    <tr style=\"text-align: right;\">\n",
              "      <th></th>\n",
              "      <th>SK_ID_CURR</th>\n",
              "      <th>TARGET</th>\n",
              "      <th>NAME_CONTRACT_TYPE</th>\n",
              "      <th>CODE_GENDER</th>\n",
              "      <th>FLAG_OWN_CAR</th>\n",
              "      <th>FLAG_OWN_REALTY</th>\n",
              "      <th>CNT_CHILDREN</th>\n",
              "      <th>AMT_INCOME_TOTAL</th>\n",
              "      <th>AMT_CREDIT</th>\n",
              "      <th>AMT_ANNUITY</th>\n",
              "      <th>...</th>\n",
              "      <th>DAYS_BIRTH</th>\n",
              "      <th>DAYS_EMPLOYED</th>\n",
              "      <th>FLAG_MOBIL</th>\n",
              "      <th>OCCUPATION_TYPE</th>\n",
              "      <th>CNT_FAM_MEMBERS</th>\n",
              "      <th>REG_REGION_NOT_LIVE_REGION</th>\n",
              "      <th>REG_REGION_NOT_WORK_REGION</th>\n",
              "      <th>LIVE_REGION_NOT_WORK_REGION</th>\n",
              "      <th>ORGANIZATION_TYPE</th>\n",
              "      <th>DAYS_BIRTH_Year</th>\n",
              "    </tr>\n",
              "  </thead>\n",
              "  <tbody>\n",
              "    <tr>\n",
              "      <th>7</th>\n",
              "      <td>100010</td>\n",
              "      <td>0</td>\n",
              "      <td>Cash loans</td>\n",
              "      <td>M</td>\n",
              "      <td>Y</td>\n",
              "      <td>Y</td>\n",
              "      <td>0</td>\n",
              "      <td>360000.0</td>\n",
              "      <td>1530000.0</td>\n",
              "      <td>42075.0</td>\n",
              "      <td>...</td>\n",
              "      <td>-18850.0</td>\n",
              "      <td>-449.0</td>\n",
              "      <td>1.0</td>\n",
              "      <td>Managers</td>\n",
              "      <td>2.0</td>\n",
              "      <td>0.0</td>\n",
              "      <td>0.0</td>\n",
              "      <td>0.0</td>\n",
              "      <td>Other</td>\n",
              "      <td>52.0</td>\n",
              "    </tr>\n",
              "    <tr>\n",
              "      <th>22</th>\n",
              "      <td>100026</td>\n",
              "      <td>0</td>\n",
              "      <td>Cash loans</td>\n",
              "      <td>F</td>\n",
              "      <td>N</td>\n",
              "      <td>N</td>\n",
              "      <td>1</td>\n",
              "      <td>450000.0</td>\n",
              "      <td>497520.0</td>\n",
              "      <td>32521.5</td>\n",
              "      <td>...</td>\n",
              "      <td>-11146.0</td>\n",
              "      <td>-4306.0</td>\n",
              "      <td>1.0</td>\n",
              "      <td>Sales staff</td>\n",
              "      <td>3.0</td>\n",
              "      <td>0.0</td>\n",
              "      <td>0.0</td>\n",
              "      <td>0.0</td>\n",
              "      <td>Self-employed</td>\n",
              "      <td>31.0</td>\n",
              "    </tr>\n",
              "    <tr>\n",
              "      <th>33</th>\n",
              "      <td>100039</td>\n",
              "      <td>0</td>\n",
              "      <td>Cash loans</td>\n",
              "      <td>M</td>\n",
              "      <td>Y</td>\n",
              "      <td>N</td>\n",
              "      <td>1</td>\n",
              "      <td>360000.0</td>\n",
              "      <td>733315.5</td>\n",
              "      <td>39069.0</td>\n",
              "      <td>...</td>\n",
              "      <td>-11694.0</td>\n",
              "      <td>-2060.0</td>\n",
              "      <td>1.0</td>\n",
              "      <td>Drivers</td>\n",
              "      <td>3.0</td>\n",
              "      <td>0.0</td>\n",
              "      <td>0.0</td>\n",
              "      <td>0.0</td>\n",
              "      <td>Self-employed</td>\n",
              "      <td>33.0</td>\n",
              "    </tr>\n",
              "    <tr>\n",
              "      <th>49</th>\n",
              "      <td>100056</td>\n",
              "      <td>0</td>\n",
              "      <td>Cash loans</td>\n",
              "      <td>M</td>\n",
              "      <td>Y</td>\n",
              "      <td>Y</td>\n",
              "      <td>0</td>\n",
              "      <td>360000.0</td>\n",
              "      <td>1506816.0</td>\n",
              "      <td>49927.5</td>\n",
              "      <td>...</td>\n",
              "      <td>-18264.0</td>\n",
              "      <td>-9523.0</td>\n",
              "      <td>1.0</td>\n",
              "      <td>Laborers</td>\n",
              "      <td>2.0</td>\n",
              "      <td>0.0</td>\n",
              "      <td>0.0</td>\n",
              "      <td>0.0</td>\n",
              "      <td>Transport: type 2</td>\n",
              "      <td>51.0</td>\n",
              "    </tr>\n",
              "    <tr>\n",
              "      <th>51</th>\n",
              "      <td>100059</td>\n",
              "      <td>0</td>\n",
              "      <td>Cash loans</td>\n",
              "      <td>M</td>\n",
              "      <td>Y</td>\n",
              "      <td>Y</td>\n",
              "      <td>1</td>\n",
              "      <td>540000.0</td>\n",
              "      <td>675000.0</td>\n",
              "      <td>34596.0</td>\n",
              "      <td>...</td>\n",
              "      <td>-18632.0</td>\n",
              "      <td>-6977.0</td>\n",
              "      <td>1.0</td>\n",
              "      <td>Managers</td>\n",
              "      <td>3.0</td>\n",
              "      <td>0.0</td>\n",
              "      <td>0.0</td>\n",
              "      <td>0.0</td>\n",
              "      <td>Services</td>\n",
              "      <td>52.0</td>\n",
              "    </tr>\n",
              "    <tr>\n",
              "      <th>...</th>\n",
              "      <td>...</td>\n",
              "      <td>...</td>\n",
              "      <td>...</td>\n",
              "      <td>...</td>\n",
              "      <td>...</td>\n",
              "      <td>...</td>\n",
              "      <td>...</td>\n",
              "      <td>...</td>\n",
              "      <td>...</td>\n",
              "      <td>...</td>\n",
              "      <td>...</td>\n",
              "      <td>...</td>\n",
              "      <td>...</td>\n",
              "      <td>...</td>\n",
              "      <td>...</td>\n",
              "      <td>...</td>\n",
              "      <td>...</td>\n",
              "      <td>...</td>\n",
              "      <td>...</td>\n",
              "      <td>...</td>\n",
              "      <td>...</td>\n",
              "    </tr>\n",
              "    <tr>\n",
              "      <th>25144</th>\n",
              "      <td>129245</td>\n",
              "      <td>0</td>\n",
              "      <td>Cash loans</td>\n",
              "      <td>F</td>\n",
              "      <td>Y</td>\n",
              "      <td>Y</td>\n",
              "      <td>0</td>\n",
              "      <td>450000.0</td>\n",
              "      <td>1042560.0</td>\n",
              "      <td>34587.0</td>\n",
              "      <td>...</td>\n",
              "      <td>-16399.0</td>\n",
              "      <td>-2703.0</td>\n",
              "      <td>1.0</td>\n",
              "      <td>Accountants</td>\n",
              "      <td>2.0</td>\n",
              "      <td>0.0</td>\n",
              "      <td>0.0</td>\n",
              "      <td>0.0</td>\n",
              "      <td>Self-employed</td>\n",
              "      <td>45.0</td>\n",
              "    </tr>\n",
              "    <tr>\n",
              "      <th>25170</th>\n",
              "      <td>129272</td>\n",
              "      <td>0</td>\n",
              "      <td>Cash loans</td>\n",
              "      <td>M</td>\n",
              "      <td>Y</td>\n",
              "      <td>N</td>\n",
              "      <td>2</td>\n",
              "      <td>450000.0</td>\n",
              "      <td>537763.5</td>\n",
              "      <td>33030.0</td>\n",
              "      <td>...</td>\n",
              "      <td>-14166.0</td>\n",
              "      <td>-5097.0</td>\n",
              "      <td>1.0</td>\n",
              "      <td>Core staff</td>\n",
              "      <td>4.0</td>\n",
              "      <td>0.0</td>\n",
              "      <td>0.0</td>\n",
              "      <td>0.0</td>\n",
              "      <td>Military</td>\n",
              "      <td>39.0</td>\n",
              "    </tr>\n",
              "    <tr>\n",
              "      <th>25191</th>\n",
              "      <td>129296</td>\n",
              "      <td>0</td>\n",
              "      <td>Cash loans</td>\n",
              "      <td>F</td>\n",
              "      <td>N</td>\n",
              "      <td>Y</td>\n",
              "      <td>1</td>\n",
              "      <td>450000.0</td>\n",
              "      <td>755190.0</td>\n",
              "      <td>36459.0</td>\n",
              "      <td>...</td>\n",
              "      <td>-19323.0</td>\n",
              "      <td>-11114.0</td>\n",
              "      <td>1.0</td>\n",
              "      <td>NaN</td>\n",
              "      <td>3.0</td>\n",
              "      <td>0.0</td>\n",
              "      <td>0.0</td>\n",
              "      <td>0.0</td>\n",
              "      <td>Military</td>\n",
              "      <td>53.0</td>\n",
              "    </tr>\n",
              "    <tr>\n",
              "      <th>25193</th>\n",
              "      <td>129300</td>\n",
              "      <td>0</td>\n",
              "      <td>Cash loans</td>\n",
              "      <td>M</td>\n",
              "      <td>N</td>\n",
              "      <td>N</td>\n",
              "      <td>0</td>\n",
              "      <td>360000.0</td>\n",
              "      <td>728460.0</td>\n",
              "      <td>57555.0</td>\n",
              "      <td>...</td>\n",
              "      <td>-15239.0</td>\n",
              "      <td>-209.0</td>\n",
              "      <td>1.0</td>\n",
              "      <td>Drivers</td>\n",
              "      <td>2.0</td>\n",
              "      <td>1.0</td>\n",
              "      <td>1.0</td>\n",
              "      <td>0.0</td>\n",
              "      <td>Transport: type 3</td>\n",
              "      <td>42.0</td>\n",
              "    </tr>\n",
              "    <tr>\n",
              "      <th>25218</th>\n",
              "      <td>129333</td>\n",
              "      <td>0</td>\n",
              "      <td>Cash loans</td>\n",
              "      <td>M</td>\n",
              "      <td>N</td>\n",
              "      <td>Y</td>\n",
              "      <td>0</td>\n",
              "      <td>405000.0</td>\n",
              "      <td>751500.0</td>\n",
              "      <td>51295.5</td>\n",
              "      <td>...</td>\n",
              "      <td>-20936.0</td>\n",
              "      <td>-5269.0</td>\n",
              "      <td>1.0</td>\n",
              "      <td>Laborers</td>\n",
              "      <td>1.0</td>\n",
              "      <td>0.0</td>\n",
              "      <td>0.0</td>\n",
              "      <td>0.0</td>\n",
              "      <td>Business Entity Type 3</td>\n",
              "      <td>58.0</td>\n",
              "    </tr>\n",
              "  </tbody>\n",
              "</table>\n",
              "<p>1182 rows × 26 columns</p>\n",
              "</div>\n",
              "      <button class=\"colab-df-convert\" onclick=\"convertToInteractive('df-458cca2a-7d35-42a6-9209-087c74f72c69')\"\n",
              "              title=\"Convert this dataframe to an interactive table.\"\n",
              "              style=\"display:none;\">\n",
              "        \n",
              "  <svg xmlns=\"http://www.w3.org/2000/svg\" height=\"24px\"viewBox=\"0 0 24 24\"\n",
              "       width=\"24px\">\n",
              "    <path d=\"M0 0h24v24H0V0z\" fill=\"none\"/>\n",
              "    <path d=\"M18.56 5.44l.94 2.06.94-2.06 2.06-.94-2.06-.94-.94-2.06-.94 2.06-2.06.94zm-11 1L8.5 8.5l.94-2.06 2.06-.94-2.06-.94L8.5 2.5l-.94 2.06-2.06.94zm10 10l.94 2.06.94-2.06 2.06-.94-2.06-.94-.94-2.06-.94 2.06-2.06.94z\"/><path d=\"M17.41 7.96l-1.37-1.37c-.4-.4-.92-.59-1.43-.59-.52 0-1.04.2-1.43.59L10.3 9.45l-7.72 7.72c-.78.78-.78 2.05 0 2.83L4 21.41c.39.39.9.59 1.41.59.51 0 1.02-.2 1.41-.59l7.78-7.78 2.81-2.81c.8-.78.8-2.07 0-2.86zM5.41 20L4 18.59l7.72-7.72 1.47 1.35L5.41 20z\"/>\n",
              "  </svg>\n",
              "      </button>\n",
              "      \n",
              "  <style>\n",
              "    .colab-df-container {\n",
              "      display:flex;\n",
              "      flex-wrap:wrap;\n",
              "      gap: 12px;\n",
              "    }\n",
              "\n",
              "    .colab-df-convert {\n",
              "      background-color: #E8F0FE;\n",
              "      border: none;\n",
              "      border-radius: 50%;\n",
              "      cursor: pointer;\n",
              "      display: none;\n",
              "      fill: #1967D2;\n",
              "      height: 32px;\n",
              "      padding: 0 0 0 0;\n",
              "      width: 32px;\n",
              "    }\n",
              "\n",
              "    .colab-df-convert:hover {\n",
              "      background-color: #E2EBFA;\n",
              "      box-shadow: 0px 1px 2px rgba(60, 64, 67, 0.3), 0px 1px 3px 1px rgba(60, 64, 67, 0.15);\n",
              "      fill: #174EA6;\n",
              "    }\n",
              "\n",
              "    [theme=dark] .colab-df-convert {\n",
              "      background-color: #3B4455;\n",
              "      fill: #D2E3FC;\n",
              "    }\n",
              "\n",
              "    [theme=dark] .colab-df-convert:hover {\n",
              "      background-color: #434B5C;\n",
              "      box-shadow: 0px 1px 3px 1px rgba(0, 0, 0, 0.15);\n",
              "      filter: drop-shadow(0px 1px 2px rgba(0, 0, 0, 0.3));\n",
              "      fill: #FFFFFF;\n",
              "    }\n",
              "  </style>\n",
              "\n",
              "      <script>\n",
              "        const buttonEl =\n",
              "          document.querySelector('#df-458cca2a-7d35-42a6-9209-087c74f72c69 button.colab-df-convert');\n",
              "        buttonEl.style.display =\n",
              "          google.colab.kernel.accessAllowed ? 'block' : 'none';\n",
              "\n",
              "        async function convertToInteractive(key) {\n",
              "          const element = document.querySelector('#df-458cca2a-7d35-42a6-9209-087c74f72c69');\n",
              "          const dataTable =\n",
              "            await google.colab.kernel.invokeFunction('convertToInteractive',\n",
              "                                                     [key], {});\n",
              "          if (!dataTable) return;\n",
              "\n",
              "          const docLinkHtml = 'Like what you see? Visit the ' +\n",
              "            '<a target=\"_blank\" href=https://colab.research.google.com/notebooks/data_table.ipynb>data table notebook</a>'\n",
              "            + ' to learn more about interactive tables.';\n",
              "          element.innerHTML = '';\n",
              "          dataTable['output_type'] = 'display_data';\n",
              "          await google.colab.output.renderOutput(dataTable, element);\n",
              "          const docLink = document.createElement('div');\n",
              "          docLink.innerHTML = docLinkHtml;\n",
              "          element.appendChild(docLink);\n",
              "        }\n",
              "      </script>\n",
              "    </div>\n",
              "  </div>\n",
              "  "
            ]
          },
          "metadata": {},
          "execution_count": 53
        }
      ],
      "source": [
        "app_data[app_data.AMT_INCOME_TOTAL>337500]"
      ]
    },
    {
      "cell_type": "code",
      "execution_count": 54,
      "id": "a80a260d",
      "metadata": {
        "colab": {
          "base_uri": "https://localhost:8080/",
          "height": 505
        },
        "id": "a80a260d",
        "outputId": "586b77f4-3343-477d-f983-2078110b01e9"
      },
      "outputs": [
        {
          "output_type": "execute_result",
          "data": {
            "text/plain": [
              "       SK_ID_CURR  TARGET NAME_CONTRACT_TYPE CODE_GENDER FLAG_OWN_CAR  \\\n",
              "11         100015       0         Cash loans           F            N   \n",
              "50         100058       0    Revolving loans           F            N   \n",
              "100        100119       0    Revolving loans           F            N   \n",
              "144        100166       0         Cash loans           F            N   \n",
              "157        100185       0         Cash loans           M            N   \n",
              "...           ...     ...                ...         ...          ...   \n",
              "25102      129198       0         Cash loans           M            N   \n",
              "25108      129206       0         Cash loans           F            Y   \n",
              "25139      129240       0         Cash loans           F            N   \n",
              "25205      129316       0         Cash loans           M            N   \n",
              "25227      129343       0         Cash loans           F            Y   \n",
              "\n",
              "      FLAG_OWN_REALTY  CNT_CHILDREN  AMT_INCOME_TOTAL  AMT_CREDIT  \\\n",
              "11                  Y             0         38419.155    148365.0   \n",
              "50                  Y             0         54000.000    135000.0   \n",
              "100                 Y             0         54000.000    180000.0   \n",
              "144                 Y             3         58500.000    152820.0   \n",
              "157                 Y             0         58500.000    187704.0   \n",
              "...               ...           ...               ...         ...   \n",
              "25102               Y             0         49500.000    104256.0   \n",
              "25108               Y             0         40500.000    199080.0   \n",
              "25139               Y             0         36000.000    112068.0   \n",
              "25205               Y             0         47250.000    109453.5   \n",
              "25227               N             0         45000.000    360000.0   \n",
              "\n",
              "       AMT_ANNUITY  ...  DAYS_BIRTH DAYS_EMPLOYED FLAG_MOBIL OCCUPATION_TYPE  \\\n",
              "11         10678.5  ...    -20417.0      365243.0        1.0             NaN   \n",
              "50          6750.0  ...    -12406.0       -1176.0        1.0      Core staff   \n",
              "100         9000.0  ...    -11142.0       -2419.0        1.0  Medicine staff   \n",
              "144        15241.5  ...    -14359.0       -1894.0        1.0      Core staff   \n",
              "157        10903.5  ...    -20215.0      365243.0        1.0             NaN   \n",
              "...            ...  ...         ...           ...        ...             ...   \n",
              "25102      10813.5  ...    -10020.0        -566.0        1.0        Laborers   \n",
              "25108      11245.5  ...    -23578.0      365243.0        1.0             NaN   \n",
              "25139      11898.0  ...    -14763.0       -1999.0        1.0             NaN   \n",
              "25205      11623.5  ...    -24186.0      365243.0        1.0             NaN   \n",
              "25227      11043.0  ...    -22736.0      365243.0        1.0             NaN   \n",
              "\n",
              "      CNT_FAM_MEMBERS REG_REGION_NOT_LIVE_REGION  REG_REGION_NOT_WORK_REGION  \\\n",
              "11                2.0                        0.0                         0.0   \n",
              "50                2.0                        0.0                         0.0   \n",
              "100               2.0                        0.0                         0.0   \n",
              "144               5.0                        0.0                         0.0   \n",
              "157               2.0                        0.0                         0.0   \n",
              "...               ...                        ...                         ...   \n",
              "25102             1.0                        0.0                         0.0   \n",
              "25108             1.0                        0.0                         0.0   \n",
              "25139             2.0                        0.0                         0.0   \n",
              "25205             2.0                        0.0                         0.0   \n",
              "25227             2.0                        0.0                         0.0   \n",
              "\n",
              "       LIVE_REGION_NOT_WORK_REGION       ORGANIZATION_TYPE DAYS_BIRTH_Year  \n",
              "11                             0.0                     XNA            56.0  \n",
              "50                             0.0                  School            34.0  \n",
              "100                            0.0                Medicine            31.0  \n",
              "144                            0.0              Government            40.0  \n",
              "157                            0.0                     XNA            56.0  \n",
              "...                            ...                     ...             ...  \n",
              "25102                          0.0  Business Entity Type 3            28.0  \n",
              "25108                          0.0                     XNA            65.0  \n",
              "25139                          0.0              Government            41.0  \n",
              "25205                          0.0                     XNA            67.0  \n",
              "25227                          0.0                     XNA            63.0  \n",
              "\n",
              "[889 rows x 26 columns]"
            ],
            "text/html": [
              "\n",
              "  <div id=\"df-d79be2d4-fa0f-4ed3-b657-257645bf6658\">\n",
              "    <div class=\"colab-df-container\">\n",
              "      <div>\n",
              "<style scoped>\n",
              "    .dataframe tbody tr th:only-of-type {\n",
              "        vertical-align: middle;\n",
              "    }\n",
              "\n",
              "    .dataframe tbody tr th {\n",
              "        vertical-align: top;\n",
              "    }\n",
              "\n",
              "    .dataframe thead th {\n",
              "        text-align: right;\n",
              "    }\n",
              "</style>\n",
              "<table border=\"1\" class=\"dataframe\">\n",
              "  <thead>\n",
              "    <tr style=\"text-align: right;\">\n",
              "      <th></th>\n",
              "      <th>SK_ID_CURR</th>\n",
              "      <th>TARGET</th>\n",
              "      <th>NAME_CONTRACT_TYPE</th>\n",
              "      <th>CODE_GENDER</th>\n",
              "      <th>FLAG_OWN_CAR</th>\n",
              "      <th>FLAG_OWN_REALTY</th>\n",
              "      <th>CNT_CHILDREN</th>\n",
              "      <th>AMT_INCOME_TOTAL</th>\n",
              "      <th>AMT_CREDIT</th>\n",
              "      <th>AMT_ANNUITY</th>\n",
              "      <th>...</th>\n",
              "      <th>DAYS_BIRTH</th>\n",
              "      <th>DAYS_EMPLOYED</th>\n",
              "      <th>FLAG_MOBIL</th>\n",
              "      <th>OCCUPATION_TYPE</th>\n",
              "      <th>CNT_FAM_MEMBERS</th>\n",
              "      <th>REG_REGION_NOT_LIVE_REGION</th>\n",
              "      <th>REG_REGION_NOT_WORK_REGION</th>\n",
              "      <th>LIVE_REGION_NOT_WORK_REGION</th>\n",
              "      <th>ORGANIZATION_TYPE</th>\n",
              "      <th>DAYS_BIRTH_Year</th>\n",
              "    </tr>\n",
              "  </thead>\n",
              "  <tbody>\n",
              "    <tr>\n",
              "      <th>11</th>\n",
              "      <td>100015</td>\n",
              "      <td>0</td>\n",
              "      <td>Cash loans</td>\n",
              "      <td>F</td>\n",
              "      <td>N</td>\n",
              "      <td>Y</td>\n",
              "      <td>0</td>\n",
              "      <td>38419.155</td>\n",
              "      <td>148365.0</td>\n",
              "      <td>10678.5</td>\n",
              "      <td>...</td>\n",
              "      <td>-20417.0</td>\n",
              "      <td>365243.0</td>\n",
              "      <td>1.0</td>\n",
              "      <td>NaN</td>\n",
              "      <td>2.0</td>\n",
              "      <td>0.0</td>\n",
              "      <td>0.0</td>\n",
              "      <td>0.0</td>\n",
              "      <td>XNA</td>\n",
              "      <td>56.0</td>\n",
              "    </tr>\n",
              "    <tr>\n",
              "      <th>50</th>\n",
              "      <td>100058</td>\n",
              "      <td>0</td>\n",
              "      <td>Revolving loans</td>\n",
              "      <td>F</td>\n",
              "      <td>N</td>\n",
              "      <td>Y</td>\n",
              "      <td>0</td>\n",
              "      <td>54000.000</td>\n",
              "      <td>135000.0</td>\n",
              "      <td>6750.0</td>\n",
              "      <td>...</td>\n",
              "      <td>-12406.0</td>\n",
              "      <td>-1176.0</td>\n",
              "      <td>1.0</td>\n",
              "      <td>Core staff</td>\n",
              "      <td>2.0</td>\n",
              "      <td>0.0</td>\n",
              "      <td>0.0</td>\n",
              "      <td>0.0</td>\n",
              "      <td>School</td>\n",
              "      <td>34.0</td>\n",
              "    </tr>\n",
              "    <tr>\n",
              "      <th>100</th>\n",
              "      <td>100119</td>\n",
              "      <td>0</td>\n",
              "      <td>Revolving loans</td>\n",
              "      <td>F</td>\n",
              "      <td>N</td>\n",
              "      <td>Y</td>\n",
              "      <td>0</td>\n",
              "      <td>54000.000</td>\n",
              "      <td>180000.0</td>\n",
              "      <td>9000.0</td>\n",
              "      <td>...</td>\n",
              "      <td>-11142.0</td>\n",
              "      <td>-2419.0</td>\n",
              "      <td>1.0</td>\n",
              "      <td>Medicine staff</td>\n",
              "      <td>2.0</td>\n",
              "      <td>0.0</td>\n",
              "      <td>0.0</td>\n",
              "      <td>0.0</td>\n",
              "      <td>Medicine</td>\n",
              "      <td>31.0</td>\n",
              "    </tr>\n",
              "    <tr>\n",
              "      <th>144</th>\n",
              "      <td>100166</td>\n",
              "      <td>0</td>\n",
              "      <td>Cash loans</td>\n",
              "      <td>F</td>\n",
              "      <td>N</td>\n",
              "      <td>Y</td>\n",
              "      <td>3</td>\n",
              "      <td>58500.000</td>\n",
              "      <td>152820.0</td>\n",
              "      <td>15241.5</td>\n",
              "      <td>...</td>\n",
              "      <td>-14359.0</td>\n",
              "      <td>-1894.0</td>\n",
              "      <td>1.0</td>\n",
              "      <td>Core staff</td>\n",
              "      <td>5.0</td>\n",
              "      <td>0.0</td>\n",
              "      <td>0.0</td>\n",
              "      <td>0.0</td>\n",
              "      <td>Government</td>\n",
              "      <td>40.0</td>\n",
              "    </tr>\n",
              "    <tr>\n",
              "      <th>157</th>\n",
              "      <td>100185</td>\n",
              "      <td>0</td>\n",
              "      <td>Cash loans</td>\n",
              "      <td>M</td>\n",
              "      <td>N</td>\n",
              "      <td>Y</td>\n",
              "      <td>0</td>\n",
              "      <td>58500.000</td>\n",
              "      <td>187704.0</td>\n",
              "      <td>10903.5</td>\n",
              "      <td>...</td>\n",
              "      <td>-20215.0</td>\n",
              "      <td>365243.0</td>\n",
              "      <td>1.0</td>\n",
              "      <td>NaN</td>\n",
              "      <td>2.0</td>\n",
              "      <td>0.0</td>\n",
              "      <td>0.0</td>\n",
              "      <td>0.0</td>\n",
              "      <td>XNA</td>\n",
              "      <td>56.0</td>\n",
              "    </tr>\n",
              "    <tr>\n",
              "      <th>...</th>\n",
              "      <td>...</td>\n",
              "      <td>...</td>\n",
              "      <td>...</td>\n",
              "      <td>...</td>\n",
              "      <td>...</td>\n",
              "      <td>...</td>\n",
              "      <td>...</td>\n",
              "      <td>...</td>\n",
              "      <td>...</td>\n",
              "      <td>...</td>\n",
              "      <td>...</td>\n",
              "      <td>...</td>\n",
              "      <td>...</td>\n",
              "      <td>...</td>\n",
              "      <td>...</td>\n",
              "      <td>...</td>\n",
              "      <td>...</td>\n",
              "      <td>...</td>\n",
              "      <td>...</td>\n",
              "      <td>...</td>\n",
              "      <td>...</td>\n",
              "    </tr>\n",
              "    <tr>\n",
              "      <th>25102</th>\n",
              "      <td>129198</td>\n",
              "      <td>0</td>\n",
              "      <td>Cash loans</td>\n",
              "      <td>M</td>\n",
              "      <td>N</td>\n",
              "      <td>Y</td>\n",
              "      <td>0</td>\n",
              "      <td>49500.000</td>\n",
              "      <td>104256.0</td>\n",
              "      <td>10813.5</td>\n",
              "      <td>...</td>\n",
              "      <td>-10020.0</td>\n",
              "      <td>-566.0</td>\n",
              "      <td>1.0</td>\n",
              "      <td>Laborers</td>\n",
              "      <td>1.0</td>\n",
              "      <td>0.0</td>\n",
              "      <td>0.0</td>\n",
              "      <td>0.0</td>\n",
              "      <td>Business Entity Type 3</td>\n",
              "      <td>28.0</td>\n",
              "    </tr>\n",
              "    <tr>\n",
              "      <th>25108</th>\n",
              "      <td>129206</td>\n",
              "      <td>0</td>\n",
              "      <td>Cash loans</td>\n",
              "      <td>F</td>\n",
              "      <td>Y</td>\n",
              "      <td>Y</td>\n",
              "      <td>0</td>\n",
              "      <td>40500.000</td>\n",
              "      <td>199080.0</td>\n",
              "      <td>11245.5</td>\n",
              "      <td>...</td>\n",
              "      <td>-23578.0</td>\n",
              "      <td>365243.0</td>\n",
              "      <td>1.0</td>\n",
              "      <td>NaN</td>\n",
              "      <td>1.0</td>\n",
              "      <td>0.0</td>\n",
              "      <td>0.0</td>\n",
              "      <td>0.0</td>\n",
              "      <td>XNA</td>\n",
              "      <td>65.0</td>\n",
              "    </tr>\n",
              "    <tr>\n",
              "      <th>25139</th>\n",
              "      <td>129240</td>\n",
              "      <td>0</td>\n",
              "      <td>Cash loans</td>\n",
              "      <td>F</td>\n",
              "      <td>N</td>\n",
              "      <td>Y</td>\n",
              "      <td>0</td>\n",
              "      <td>36000.000</td>\n",
              "      <td>112068.0</td>\n",
              "      <td>11898.0</td>\n",
              "      <td>...</td>\n",
              "      <td>-14763.0</td>\n",
              "      <td>-1999.0</td>\n",
              "      <td>1.0</td>\n",
              "      <td>NaN</td>\n",
              "      <td>2.0</td>\n",
              "      <td>0.0</td>\n",
              "      <td>0.0</td>\n",
              "      <td>0.0</td>\n",
              "      <td>Government</td>\n",
              "      <td>41.0</td>\n",
              "    </tr>\n",
              "    <tr>\n",
              "      <th>25205</th>\n",
              "      <td>129316</td>\n",
              "      <td>0</td>\n",
              "      <td>Cash loans</td>\n",
              "      <td>M</td>\n",
              "      <td>N</td>\n",
              "      <td>Y</td>\n",
              "      <td>0</td>\n",
              "      <td>47250.000</td>\n",
              "      <td>109453.5</td>\n",
              "      <td>11623.5</td>\n",
              "      <td>...</td>\n",
              "      <td>-24186.0</td>\n",
              "      <td>365243.0</td>\n",
              "      <td>1.0</td>\n",
              "      <td>NaN</td>\n",
              "      <td>2.0</td>\n",
              "      <td>0.0</td>\n",
              "      <td>0.0</td>\n",
              "      <td>0.0</td>\n",
              "      <td>XNA</td>\n",
              "      <td>67.0</td>\n",
              "    </tr>\n",
              "    <tr>\n",
              "      <th>25227</th>\n",
              "      <td>129343</td>\n",
              "      <td>0</td>\n",
              "      <td>Cash loans</td>\n",
              "      <td>F</td>\n",
              "      <td>Y</td>\n",
              "      <td>N</td>\n",
              "      <td>0</td>\n",
              "      <td>45000.000</td>\n",
              "      <td>360000.0</td>\n",
              "      <td>11043.0</td>\n",
              "      <td>...</td>\n",
              "      <td>-22736.0</td>\n",
              "      <td>365243.0</td>\n",
              "      <td>1.0</td>\n",
              "      <td>NaN</td>\n",
              "      <td>2.0</td>\n",
              "      <td>0.0</td>\n",
              "      <td>0.0</td>\n",
              "      <td>0.0</td>\n",
              "      <td>XNA</td>\n",
              "      <td>63.0</td>\n",
              "    </tr>\n",
              "  </tbody>\n",
              "</table>\n",
              "<p>889 rows × 26 columns</p>\n",
              "</div>\n",
              "      <button class=\"colab-df-convert\" onclick=\"convertToInteractive('df-d79be2d4-fa0f-4ed3-b657-257645bf6658')\"\n",
              "              title=\"Convert this dataframe to an interactive table.\"\n",
              "              style=\"display:none;\">\n",
              "        \n",
              "  <svg xmlns=\"http://www.w3.org/2000/svg\" height=\"24px\"viewBox=\"0 0 24 24\"\n",
              "       width=\"24px\">\n",
              "    <path d=\"M0 0h24v24H0V0z\" fill=\"none\"/>\n",
              "    <path d=\"M18.56 5.44l.94 2.06.94-2.06 2.06-.94-2.06-.94-.94-2.06-.94 2.06-2.06.94zm-11 1L8.5 8.5l.94-2.06 2.06-.94-2.06-.94L8.5 2.5l-.94 2.06-2.06.94zm10 10l.94 2.06.94-2.06 2.06-.94-2.06-.94-.94-2.06-.94 2.06-2.06.94z\"/><path d=\"M17.41 7.96l-1.37-1.37c-.4-.4-.92-.59-1.43-.59-.52 0-1.04.2-1.43.59L10.3 9.45l-7.72 7.72c-.78.78-.78 2.05 0 2.83L4 21.41c.39.39.9.59 1.41.59.51 0 1.02-.2 1.41-.59l7.78-7.78 2.81-2.81c.8-.78.8-2.07 0-2.86zM5.41 20L4 18.59l7.72-7.72 1.47 1.35L5.41 20z\"/>\n",
              "  </svg>\n",
              "      </button>\n",
              "      \n",
              "  <style>\n",
              "    .colab-df-container {\n",
              "      display:flex;\n",
              "      flex-wrap:wrap;\n",
              "      gap: 12px;\n",
              "    }\n",
              "\n",
              "    .colab-df-convert {\n",
              "      background-color: #E8F0FE;\n",
              "      border: none;\n",
              "      border-radius: 50%;\n",
              "      cursor: pointer;\n",
              "      display: none;\n",
              "      fill: #1967D2;\n",
              "      height: 32px;\n",
              "      padding: 0 0 0 0;\n",
              "      width: 32px;\n",
              "    }\n",
              "\n",
              "    .colab-df-convert:hover {\n",
              "      background-color: #E2EBFA;\n",
              "      box-shadow: 0px 1px 2px rgba(60, 64, 67, 0.3), 0px 1px 3px 1px rgba(60, 64, 67, 0.15);\n",
              "      fill: #174EA6;\n",
              "    }\n",
              "\n",
              "    [theme=dark] .colab-df-convert {\n",
              "      background-color: #3B4455;\n",
              "      fill: #D2E3FC;\n",
              "    }\n",
              "\n",
              "    [theme=dark] .colab-df-convert:hover {\n",
              "      background-color: #434B5C;\n",
              "      box-shadow: 0px 1px 3px 1px rgba(0, 0, 0, 0.15);\n",
              "      filter: drop-shadow(0px 1px 2px rgba(0, 0, 0, 0.3));\n",
              "      fill: #FFFFFF;\n",
              "    }\n",
              "  </style>\n",
              "\n",
              "      <script>\n",
              "        const buttonEl =\n",
              "          document.querySelector('#df-d79be2d4-fa0f-4ed3-b657-257645bf6658 button.colab-df-convert');\n",
              "        buttonEl.style.display =\n",
              "          google.colab.kernel.accessAllowed ? 'block' : 'none';\n",
              "\n",
              "        async function convertToInteractive(key) {\n",
              "          const element = document.querySelector('#df-d79be2d4-fa0f-4ed3-b657-257645bf6658');\n",
              "          const dataTable =\n",
              "            await google.colab.kernel.invokeFunction('convertToInteractive',\n",
              "                                                     [key], {});\n",
              "          if (!dataTable) return;\n",
              "\n",
              "          const docLinkHtml = 'Like what you see? Visit the ' +\n",
              "            '<a target=\"_blank\" href=https://colab.research.google.com/notebooks/data_table.ipynb>data table notebook</a>'\n",
              "            + ' to learn more about interactive tables.';\n",
              "          element.innerHTML = '';\n",
              "          dataTable['output_type'] = 'display_data';\n",
              "          await google.colab.output.renderOutput(dataTable, element);\n",
              "          const docLink = document.createElement('div');\n",
              "          docLink.innerHTML = docLinkHtml;\n",
              "          element.appendChild(docLink);\n",
              "        }\n",
              "      </script>\n",
              "    </div>\n",
              "  </div>\n",
              "  "
            ]
          },
          "metadata": {},
          "execution_count": 54
        }
      ],
      "source": [
        "app_data[app_data.AMT_INCOME_TOTAL<67500]"
      ]
    },
    {
      "cell_type": "code",
      "execution_count": 55,
      "id": "c2bbb059",
      "metadata": {
        "colab": {
          "base_uri": "https://localhost:8080/",
          "height": 280
        },
        "id": "c2bbb059",
        "outputId": "535e2f10-1851-4d60-bb76-5b067d19b516"
      },
      "outputs": [
        {
          "output_type": "display_data",
          "data": {
            "text/plain": [
              "<Figure size 432x288 with 1 Axes>"
            ],
            "image/png": "[encoded data removed]"
          },
          "metadata": {
            "needs_background": "light"
          }
        }
      ],
      "source": [
        "###checking the outlier for Credit amount of the loan\n",
        "sns.boxplot(app_data.AMT_CREDIT)\n",
        "plt.show()"
      ]
    },
    {
      "cell_type": "code",
      "execution_count": 56,
      "id": "c023ab41",
      "metadata": {
        "colab": {
          "base_uri": "https://localhost:8080/"
        },
        "id": "c023ab41",
        "outputId": "090dc9e0-a3ab-4d0d-d1cf-297ef636a53f"
      },
      "outputs": [
        {
          "output_type": "execute_result",
          "data": {
            "text/plain": [
              "count    2.523300e+04\n",
              "mean     5.993395e+05\n",
              "std      4.018626e+05\n",
              "min      4.500000e+04\n",
              "25%      2.700000e+05\n",
              "50%      5.147775e+05\n",
              "75%      8.086500e+05\n",
              "max      4.050000e+06\n",
              "Name: AMT_CREDIT, dtype: float64"
            ]
          },
          "metadata": {},
          "execution_count": 56
        }
      ],
      "source": [
        "app_data.AMT_CREDIT.describe()"
      ]
    },
    {
      "cell_type": "code",
      "execution_count": 57,
      "id": "5886c8ae",
      "metadata": {
        "colab": {
          "base_uri": "https://localhost:8080/",
          "height": 280
        },
        "id": "5886c8ae",
        "outputId": "ed15d9f9-5ab5-4e00-8842-38d324581f2d"
      },
      "outputs": [
        {
          "output_type": "display_data",
          "data": {
            "text/plain": [
              "<Figure size 432x288 with 1 Axes>"
            ],
            "image/png": "[encoded data removed]"
          },
          "metadata": {
            "needs_background": "light"
          }
        }
      ],
      "source": [
        "### checking th3 eoutlier forFor consumer loans it is the price of the goods for which the loan is given\n",
        "sns.boxplot(app_data.AMT_CREDIT)\n",
        "plt.show()"
      ]
    },
    {
      "cell_type": "code",
      "execution_count": 58,
      "id": "8bc69a11",
      "metadata": {
        "colab": {
          "base_uri": "https://localhost:8080/",
          "height": 389
        },
        "id": "8bc69a11",
        "outputId": "a4cabf82-71a4-42d4-e366-866968da642b"
      },
      "outputs": [
        {
          "output_type": "display_data",
          "data": {
            "text/plain": [
              "<Figure size 720x432 with 1 Axes>"
            ],
            "image/png": "[encoded data removed]"
          },
          "metadata": {
            "needs_background": "light"
          }
        }
      ],
      "source": [
        "    ####checking the outliers of How many days before the application the person started current employment\n",
        "plt.figure(figsize=[10,6])\n",
        "\n",
        "sns.boxplot(app_data.DAYS_EMPLOYED)\n",
        "plt.show()"
      ]
    },
    {
      "cell_type": "markdown",
      "id": "98647551",
      "metadata": {
        "id": "98647551"
      },
      "source": [
        "# binnig"
      ]
    },
    {
      "cell_type": "code",
      "execution_count": 72,
      "id": "a76a744c",
      "metadata": {
        "colab": {
          "base_uri": "https://localhost:8080/"
        },
        "id": "a76a744c",
        "outputId": "1f3654ef-0d15-49f2-8256-c91f6f5cdcb6"
      },
      "outputs": [
        {
          "output_type": "stream",
          "name": "stdout",
          "text": [
            "<class 'pandas.core.frame.DataFrame'>\n",
            "RangeIndex: 25233 entries, 0 to 25232\n",
            "Data columns (total 29 columns):\n",
            " #   Column                       Non-Null Count  Dtype   \n",
            "---  ------                       --------------  -----   \n",
            " 0   SK_ID_CURR                   25233 non-null  int64   \n",
            " 1   TARGET                       25233 non-null  int64   \n",
            " 2   NAME_CONTRACT_TYPE           25233 non-null  object  \n",
            " 3   CODE_GENDER                  25233 non-null  object  \n",
            " 4   FLAG_OWN_CAR                 25233 non-null  object  \n",
            " 5   FLAG_OWN_REALTY              25233 non-null  object  \n",
            " 6   CNT_CHILDREN                 25233 non-null  int64   \n",
            " 7   AMT_INCOME_TOTAL             25233 non-null  float64 \n",
            " 8   AMT_CREDIT                   25233 non-null  float64 \n",
            " 9   AMT_ANNUITY                  25233 non-null  float64 \n",
            " 10  AMT_GOODS_PRICE              25233 non-null  float64 \n",
            " 11  NAME_TYPE_SUITE              25233 non-null  object  \n",
            " 12  NAME_INCOME_TYPE             25233 non-null  object  \n",
            " 13  NAME_EDUCATION_TYPE          25233 non-null  object  \n",
            " 14  NAME_FAMILY_STATUS           25232 non-null  object  \n",
            " 15  NAME_HOUSING_TYPE            25232 non-null  object  \n",
            " 16  DAYS_BIRTH                   25232 non-null  float64 \n",
            " 17  DAYS_EMPLOYED                25232 non-null  float64 \n",
            " 18  FLAG_MOBIL                   25232 non-null  float64 \n",
            " 19  OCCUPATION_TYPE              17345 non-null  object  \n",
            " 20  CNT_FAM_MEMBERS              25232 non-null  float64 \n",
            " 21  REG_REGION_NOT_LIVE_REGION   25232 non-null  float64 \n",
            " 22  REG_REGION_NOT_WORK_REGION   25232 non-null  float64 \n",
            " 23  LIVE_REGION_NOT_WORK_REGION  25232 non-null  float64 \n",
            " 24  ORGANIZATION_TYPE            25232 non-null  object  \n",
            " 25  DAYS_BIRTH_Year              25232 non-null  float64 \n",
            " 26  Year_employed                25232 non-null  float64 \n",
            " 27  AMT_INCOME_RANGE             25233 non-null  category\n",
            " 28  AMT_CREDIT_Range             25233 non-null  category\n",
            "dtypes: category(2), float64(13), int64(3), object(11)\n",
            "memory usage: 5.2+ MB\n"
          ]
        }
      ],
      "source": [
        "app_data.info()"
      ]
    },
    {
      "cell_type": "code",
      "execution_count": 73,
      "id": "1761edff",
      "metadata": {
        "colab": {
          "base_uri": "https://localhost:8080/"
        },
        "id": "1761edff",
        "outputId": "7ae0c934-b9e8-4b54-9c90-6b80c8b6d307"
      },
      "outputs": [
        {
          "output_type": "execute_result",
          "data": {
            "text/plain": [
              "0    -637.0\n",
              "1   -1188.0\n",
              "2    -225.0\n",
              "3   -3039.0\n",
              "4   -3038.0\n",
              "Name: DAYS_EMPLOYED, dtype: float64"
            ]
          },
          "metadata": {},
          "execution_count": 73
        }
      ],
      "source": [
        "app_data.DAYS_EMPLOYED.head()"
      ]
    },
    {
      "cell_type": "code",
      "execution_count": 74,
      "id": "4104806b",
      "metadata": {
        "id": "4104806b"
      },
      "outputs": [],
      "source": [
        "app_data[\"Year_employed\"]= abs(app_data.DAYS_EMPLOYED.apply(lambda x : x/365))"
      ]
    },
    {
      "cell_type": "code",
      "execution_count": 75,
      "id": "8ebd998a",
      "metadata": {
        "colab": {
          "base_uri": "https://localhost:8080/"
        },
        "id": "8ebd998a",
        "outputId": "4fc5a315-ac1a-4696-9928-18eb74eb3eae"
      },
      "outputs": [
        {
          "output_type": "execute_result",
          "data": {
            "text/plain": [
              "0    1.745205\n",
              "1    3.254795\n",
              "2    0.616438\n",
              "3    8.326027\n",
              "4    8.323288\n",
              "Name: Year_employed, dtype: float64"
            ]
          },
          "metadata": {},
          "execution_count": 75
        }
      ],
      "source": [
        "app_data[\"Year_employed\"].head()"
      ]
    },
    {
      "cell_type": "code",
      "execution_count": 76,
      "id": "4c682c39",
      "metadata": {
        "colab": {
          "base_uri": "https://localhost:8080/"
        },
        "id": "4c682c39",
        "outputId": "168ca915-e75b-4771-bdea-c712a3a737d3"
      },
      "outputs": [
        {
          "output_type": "execute_result",
          "data": {
            "text/plain": [
              "1000.6657534246575"
            ]
          },
          "metadata": {},
          "execution_count": 76
        }
      ],
      "source": [
        "app_data[\"Year_employed\"].max()"
      ]
    },
    {
      "cell_type": "code",
      "execution_count": 77,
      "id": "fa2c260e",
      "metadata": {
        "colab": {
          "base_uri": "https://localhost:8080/"
        },
        "id": "fa2c260e",
        "outputId": "dc4c4eb2-f50e-4ef9-f0bd-29cf1c3f1aea"
      },
      "outputs": [
        {
          "output_type": "execute_result",
          "data": {
            "text/plain": [
              "0.0"
            ]
          },
          "metadata": {},
          "execution_count": 77
        }
      ],
      "source": [
        "app_data[\"Year_employed\"].min()"
      ]
    },
    {
      "cell_type": "code",
      "execution_count": 78,
      "id": "88553247",
      "metadata": {
        "colab": {
          "base_uri": "https://localhost:8080/"
        },
        "id": "88553247",
        "outputId": "f9714a88-47d9-4c19-8833-fd50a7ec86c1"
      },
      "outputs": [
        {
          "output_type": "execute_result",
          "data": {
            "text/plain": [
              "1000.665753    4512\n",
              "0.545205         19\n",
              "1.052055         18\n",
              "0.695890         18\n",
              "0.416438         18\n",
              "               ... \n",
              "15.046575         1\n",
              "11.695890         1\n",
              "14.490411         1\n",
              "11.002740         1\n",
              "20.254795         1\n",
              "Name: Year_employed, Length: 6377, dtype: int64"
            ]
          },
          "metadata": {},
          "execution_count": 78
        }
      ],
      "source": [
        "app_data[\"Year_employed\"].value_counts()"
      ]
    },
    {
      "cell_type": "code",
      "execution_count": 79,
      "id": "5efd8a58",
      "metadata": {
        "id": "5efd8a58"
      },
      "outputs": [],
      "source": [
        "# Creating bins for income amount\n",
        "\n",
        "bins = [0,25000,50000,75000,100000,125000,150000,175000,200000,225000,250000,275000,300000,325000,350000,375000,400000,425000,450000,475000,500000,10000000000]\n",
        "slot = ['0-25000', '25000-50000','50000-75000','75000,100000','100000-125000', '125000-150000', '150000-175000','175000-200000',\n",
        "       '200000-225000','225000-250000','250000-275000','275000-300000','300000-325000','325000-350000','350000-375000',\n",
        "       '375000-400000','400000-425000','425000-450000','450000-475000','475000-500000','500000 and above']\n",
        "\n",
        "app_data['AMT_INCOME_RANGE']=pd.cut(app_data['AMT_INCOME_TOTAL'],bins,labels=slot)\n"
      ]
    },
    {
      "cell_type": "code",
      "execution_count": 80,
      "id": "b4f8a4ac",
      "metadata": {
        "colab": {
          "base_uri": "https://localhost:8080/"
        },
        "id": "b4f8a4ac",
        "outputId": "b0e4c178-715d-426e-c40c-f79efc21c689"
      },
      "outputs": [
        {
          "output_type": "execute_result",
          "data": {
            "text/plain": [
              "0        200000-225000\n",
              "1        250000-275000\n",
              "2          50000-75000\n",
              "3        125000-150000\n",
              "4        100000-125000\n",
              "             ...      \n",
              "25228    150000-175000\n",
              "25229      50000-75000\n",
              "25230    150000-175000\n",
              "25231    250000-275000\n",
              "25232     75000,100000\n",
              "Name: AMT_INCOME_RANGE, Length: 25233, dtype: category\n",
              "Categories (21, object): ['0-25000' < '25000-50000' < '50000-75000' < '75000,100000' < ... <\n",
              "                          '425000-450000' < '450000-475000' < '475000-500000' < '500000 and above']"
            ]
          },
          "metadata": {},
          "execution_count": 80
        }
      ],
      "source": [
        "app_data['AMT_INCOME_RANGE']"
      ]
    },
    {
      "cell_type": "code",
      "execution_count": 81,
      "id": "3c180ae7",
      "metadata": {
        "colab": {
          "base_uri": "https://localhost:8080/"
        },
        "id": "3c180ae7",
        "outputId": "27a54491-9f01-43e1-9151-3fa09202c60d"
      },
      "outputs": [
        {
          "output_type": "execute_result",
          "data": {
            "text/plain": [
              "0         406597.5\n",
              "1        1293502.5\n",
              "2         135000.0\n",
              "3         312682.5\n",
              "4         513000.0\n",
              "           ...    \n",
              "25228     868500.0\n",
              "25229      61263.0\n",
              "25230     900000.0\n",
              "25231     270000.0\n",
              "25232     923454.0\n",
              "Name: AMT_CREDIT, Length: 25233, dtype: float64"
            ]
          },
          "metadata": {},
          "execution_count": 81
        }
      ],
      "source": [
        "# Creating bins for credit amount\n",
        "app_data.AMT_CREDIT"
      ]
    },
    {
      "cell_type": "code",
      "execution_count": 82,
      "id": "67a93f99",
      "metadata": {
        "id": "67a93f99"
      },
      "outputs": [],
      "source": [
        "bins=[0, 100000, 200000, 300000, 400000, 500000,600000,700000,800000, 900000, 1000000, 10000000000]\n",
        "slots = [\"0-100000\", \"100000-200000\", \"200000-300000\", \"300000-400000\", \"400000-500000\",  \"500000-600000\", \"600000-700000\", \"700000-800000\", \"800000-900000\", \"900000-1000000\", \"1000000 & above\"]\n",
        "app_data[\"AMT_CREDIT_Range\"]= pd.cut(app_data[\"AMT_CREDIT\"], bins=bins, labels=slots)"
      ]
    },
    {
      "cell_type": "code",
      "execution_count": 83,
      "id": "4670c932",
      "metadata": {
        "colab": {
          "base_uri": "https://localhost:8080/"
        },
        "id": "4670c932",
        "outputId": "120de559-3aa7-423f-8049-6b0e84673a81"
      },
      "outputs": [
        {
          "output_type": "execute_result",
          "data": {
            "text/plain": [
              "0          400000-500000\n",
              "1        1000000 & above\n",
              "2          100000-200000\n",
              "3          300000-400000\n",
              "4          500000-600000\n",
              "              ...       \n",
              "25228      800000-900000\n",
              "25229           0-100000\n",
              "25230      800000-900000\n",
              "25231      200000-300000\n",
              "25232     900000-1000000\n",
              "Name: AMT_CREDIT_Range, Length: 25233, dtype: category\n",
              "Categories (11, object): ['0-100000' < '100000-200000' < '200000-300000' < '300000-400000' < ... <\n",
              "                          '700000-800000' < '800000-900000' < '900000-1000000' < '1000000 & above']"
            ]
          },
          "metadata": {},
          "execution_count": 83
        }
      ],
      "source": [
        "app_data[\"AMT_CREDIT_Range\"]"
      ]
    },
    {
      "cell_type": "code",
      "execution_count": 84,
      "id": "a4cf22ed",
      "metadata": {
        "colab": {
          "base_uri": "https://localhost:8080/"
        },
        "id": "a4cf22ed",
        "outputId": "5b4fba77-271c-4b90-f60e-c1e676c96b3b"
      },
      "outputs": [
        {
          "output_type": "execute_result",
          "data": {
            "text/plain": [
              "0    92.010462\n",
              "1     7.989538\n",
              "Name: TARGET, dtype: float64"
            ]
          },
          "metadata": {},
          "execution_count": 84
        }
      ],
      "source": [
        "##checking the target imbalance\n",
        "app_data.TARGET.value_counts(normalize=True)*100\n"
      ]
    },
    {
      "cell_type": "markdown",
      "id": "358072a5",
      "metadata": {
        "id": "358072a5"
      },
      "source": [
        "# Data Visualization"
      ]
    },
    {
      "cell_type": "markdown",
      "id": "d64e754b",
      "metadata": {
        "id": "d64e754b"
      },
      "source": [
        "##Creating the two dataframes with 1 and 0\n",
        "###where 1 is a defaulter and 0 is non defaulter"
      ]
    },
    {
      "cell_type": "code",
      "execution_count": 85,
      "id": "9794c0c5",
      "metadata": {
        "id": "9794c0c5"
      },
      "outputs": [],
      "source": [
        "df_1 = app_data[app_data[\"TARGET\"]==1]\n",
        "df_0 = app_data[app_data[\"TARGET\"]==0]"
      ]
    },
    {
      "cell_type": "code",
      "execution_count": 86,
      "id": "ef9f81b7",
      "metadata": {
        "colab": {
          "base_uri": "https://localhost:8080/"
        },
        "id": "ef9f81b7",
        "outputId": "47e87210-1c47-4375-82cd-724b33a38a69"
      },
      "outputs": [
        {
          "output_type": "execute_result",
          "data": {
            "text/plain": [
              "1    2016\n",
              "Name: TARGET, dtype: int64"
            ]
          },
          "metadata": {},
          "execution_count": 86
        }
      ],
      "source": [
        "df_1.TARGET.value_counts()"
      ]
    },
    {
      "cell_type": "code",
      "execution_count": 87,
      "id": "3dec7a96",
      "metadata": {
        "colab": {
          "base_uri": "https://localhost:8080/"
        },
        "id": "3dec7a96",
        "outputId": "029b5637-9f09-43b9-f196-6a1bca857735"
      },
      "outputs": [
        {
          "output_type": "execute_result",
          "data": {
            "text/plain": [
              "F    1153\n",
              "M     863\n",
              "Name: CODE_GENDER, dtype: int64"
            ]
          },
          "metadata": {},
          "execution_count": 87
        }
      ],
      "source": [
        "df_1.CODE_GENDER.value_counts()"
      ]
    },
    {
      "cell_type": "code",
      "execution_count": 88,
      "id": "8bc6b6f5",
      "metadata": {
        "colab": {
          "base_uri": "https://localhost:8080/",
          "height": 248
        },
        "id": "8bc6b6f5",
        "outputId": "a3c49bda-8522-4dde-d7b7-a78f241370e9"
      },
      "outputs": [
        {
          "output_type": "display_data",
          "data": {
            "text/plain": [
              "<Figure size 432x288 with 1 Axes>"
            ],
            "image/png": "[encoded data removed]"
          },
          "metadata": {}
        }
      ],
      "source": [
        "###so here we will check the defaulter in male vs female\n",
        "df_1.CODE_GENDER.value_counts().plot.pie()\n",
        "plt.show()"
      ]
    },
    {
      "cell_type": "code",
      "execution_count": 89,
      "id": "7972f778",
      "metadata": {
        "id": "7972f778"
      },
      "outputs": [],
      "source": [
        "##so we can say here that the female are the most defaulter in then male"
      ]
    },
    {
      "cell_type": "code",
      "execution_count": 90,
      "id": "ce7022e8",
      "metadata": {
        "colab": {
          "base_uri": "https://localhost:8080/"
        },
        "id": "ce7022e8",
        "outputId": "f16c12e7-53a0-4650-ee94-bf3d5874a2cc"
      },
      "outputs": [
        {
          "output_type": "execute_result",
          "data": {
            "text/plain": [
              "F    15470\n",
              "M     7747\n",
              "Name: CODE_GENDER, dtype: int64"
            ]
          },
          "metadata": {},
          "execution_count": 90
        }
      ],
      "source": [
        "df_0.CODE_GENDER.value_counts()"
      ]
    },
    {
      "cell_type": "code",
      "execution_count": 91,
      "id": "097def40",
      "metadata": {
        "colab": {
          "base_uri": "https://localhost:8080/",
          "height": 248
        },
        "id": "097def40",
        "outputId": "46129256-289f-4a96-aa32-a04f5a6db9ac"
      },
      "outputs": [
        {
          "output_type": "display_data",
          "data": {
            "text/plain": [
              "<Figure size 432x288 with 1 Axes>"
            ],
            "image/png": "[encoded data removed]"
          },
          "metadata": {}
        }
      ],
      "source": [
        "###so here we will check the non defaulter in male vs female\n",
        "df_0.CODE_GENDER.value_counts().plot.pie()\n",
        "plt.show()"
      ]
    },
    {
      "cell_type": "code",
      "execution_count": 92,
      "id": "d54ece74",
      "metadata": {
        "id": "d54ece74"
      },
      "outputs": [],
      "source": [
        "### so in this sight we can say that females are the most non defaulter "
      ]
    },
    {
      "cell_type": "code",
      "execution_count": 93,
      "id": "4a362545",
      "metadata": {
        "colab": {
          "base_uri": "https://localhost:8080/"
        },
        "id": "4a362545",
        "outputId": "355867ad-b62d-4b26-cfa6-c578868a4ceb"
      },
      "outputs": [
        {
          "output_type": "execute_result",
          "data": {
            "text/plain": [
              "N    1385\n",
              "Y     631\n",
              "Name: FLAG_OWN_CAR, dtype: int64"
            ]
          },
          "metadata": {},
          "execution_count": 93
        }
      ],
      "source": [
        "df_1.FLAG_OWN_CAR.value_counts()"
      ]
    },
    {
      "cell_type": "code",
      "execution_count": 94,
      "id": "b4ce2c31",
      "metadata": {
        "id": "b4ce2c31"
      },
      "outputs": [],
      "source": [
        "###we will chedck the defaulter and non defaulter who own car "
      ]
    },
    {
      "cell_type": "code",
      "execution_count": 95,
      "id": "e405719b",
      "metadata": {
        "colab": {
          "base_uri": "https://localhost:8080/",
          "height": 280
        },
        "id": "e405719b",
        "outputId": "bcba5fd8-d3ff-4fbd-fad4-6025576bdbb0"
      },
      "outputs": [
        {
          "output_type": "execute_result",
          "data": {
            "text/plain": [
              "<function matplotlib.pyplot.show>"
            ]
          },
          "metadata": {},
          "execution_count": 95
        },
        {
          "output_type": "display_data",
          "data": {
            "text/plain": [
              "<Figure size 432x288 with 1 Axes>"
            ],
            "image/png": "[encoded data removed]"
          },
          "metadata": {
            "needs_background": "light"
          }
        }
      ],
      "source": [
        "###for the defaulter who own car and who don't own car\n",
        "df_1.FLAG_OWN_CAR.value_counts().plot.bar()\n",
        "plt.show"
      ]
    },
    {
      "cell_type": "code",
      "execution_count": 96,
      "id": "aa1a5a98",
      "metadata": {
        "id": "aa1a5a98"
      },
      "outputs": [],
      "source": [
        "### 1st insighnt-who dont own car are more defaulter\n",
        "## 2nd insight who own car are less defaulter"
      ]
    },
    {
      "cell_type": "code",
      "execution_count": 97,
      "id": "e581dcd2",
      "metadata": {
        "colab": {
          "base_uri": "https://localhost:8080/",
          "height": 283
        },
        "id": "e581dcd2",
        "outputId": "d9b2e60f-e8c4-4f33-cf65-dd5dc500256a"
      },
      "outputs": [
        {
          "output_type": "execute_result",
          "data": {
            "text/plain": [
              "<function matplotlib.pyplot.show>"
            ]
          },
          "metadata": {},
          "execution_count": 97
        },
        {
          "output_type": "display_data",
          "data": {
            "text/plain": [
              "<Figure size 432x288 with 1 Axes>"
            ],
            "image/png": "[encoded data removed]"
          },
          "metadata": {
            "needs_background": "light"
          }
        }
      ],
      "source": [
        "###for the non defaulter who own car and who don't own car\n",
        "df_0.FLAG_OWN_CAR.value_counts().plot.bar()\n",
        "plt.show"
      ]
    },
    {
      "cell_type": "code",
      "execution_count": 98,
      "id": "c69156bc",
      "metadata": {
        "id": "c69156bc"
      },
      "outputs": [],
      "source": [
        "## who dont own car are more non defaulter\n",
        "### who own care are less less non defaulters"
      ]
    },
    {
      "cell_type": "code",
      "execution_count": 99,
      "id": "5053ebd6",
      "metadata": {
        "colab": {
          "base_uri": "https://localhost:8080/"
        },
        "id": "5053ebd6",
        "outputId": "9d2f676b-f1ef-431a-ca30-48a09fbaff7b"
      },
      "outputs": [
        {
          "output_type": "execute_result",
          "data": {
            "text/plain": [
              "Y    1376\n",
              "N     640\n",
              "Name: FLAG_OWN_REALTY, dtype: int64"
            ]
          },
          "metadata": {},
          "execution_count": 99
        }
      ],
      "source": [
        "df_1.FLAG_OWN_REALTY.value_counts()"
      ]
    },
    {
      "cell_type": "code",
      "execution_count": 100,
      "id": "193d3cbd",
      "metadata": {
        "colab": {
          "base_uri": "https://localhost:8080/"
        },
        "id": "193d3cbd",
        "outputId": "eb2baba9-3c24-4cd0-8b4a-0267d85819c0"
      },
      "outputs": [
        {
          "output_type": "execute_result",
          "data": {
            "text/plain": [
              "Y    16133\n",
              "N     7084\n",
              "Name: FLAG_OWN_REALTY, dtype: int64"
            ]
          },
          "metadata": {},
          "execution_count": 100
        }
      ],
      "source": [
        "df_0.FLAG_OWN_REALTY.value_counts()"
      ]
    },
    {
      "cell_type": "code",
      "execution_count": 101,
      "id": "39a13587",
      "metadata": {
        "colab": {
          "base_uri": "https://localhost:8080/",
          "height": 265
        },
        "id": "39a13587",
        "outputId": "c8fa5542-11d4-4a9c-a604-dc9dc4ad6f76"
      },
      "outputs": [
        {
          "output_type": "execute_result",
          "data": {
            "text/plain": [
              "<matplotlib.axes._subplots.AxesSubplot at 0x7f9e9ec075d0>"
            ]
          },
          "metadata": {},
          "execution_count": 101
        },
        {
          "output_type": "display_data",
          "data": {
            "text/plain": [
              "<Figure size 432x288 with 1 Axes>"
            ],
            "image/png": "[encoded data removed]"
          },
          "metadata": {}
        }
      ],
      "source": [
        "####checking the who own flat or home who is more defaulers\n",
        "df_1.FLAG_OWN_REALTY.value_counts().plot.pie()"
      ]
    },
    {
      "cell_type": "code",
      "execution_count": 102,
      "id": "f369020f",
      "metadata": {
        "id": "f369020f"
      },
      "outputs": [],
      "source": [
        "##so we can say that here who own flats are more defaulter then less than who dont own flat"
      ]
    },
    {
      "cell_type": "code",
      "execution_count": 103,
      "id": "9f928fa2",
      "metadata": {
        "colab": {
          "base_uri": "https://localhost:8080/",
          "height": 248
        },
        "id": "9f928fa2",
        "outputId": "e7949834-f716-4aff-a1e0-e35bb08f7208"
      },
      "outputs": [
        {
          "output_type": "display_data",
          "data": {
            "text/plain": [
              "<Figure size 432x288 with 1 Axes>"
            ],
            "image/png": "[encoded data removed]"
          },
          "metadata": {}
        }
      ],
      "source": [
        "####checking the who own flat or home who is more non defaulers\n",
        "df_0.FLAG_OWN_REALTY.value_counts().plot.pie()\n",
        "plt.show()"
      ]
    },
    {
      "cell_type": "code",
      "execution_count": 104,
      "id": "59640995",
      "metadata": {
        "id": "59640995"
      },
      "outputs": [],
      "source": [
        "##so we can say that here who own flats or houuse are more non defaulter then less than who dont own flat"
      ]
    },
    {
      "cell_type": "markdown",
      "id": "9a24d603",
      "metadata": {
        "id": "9a24d603"
      },
      "source": [
        "###bivariate analysi"
      ]
    },
    {
      "cell_type": "code",
      "execution_count": 105,
      "id": "1e6f780a",
      "metadata": {
        "colab": {
          "base_uri": "https://localhost:8080/",
          "height": 352
        },
        "id": "1e6f780a",
        "outputId": "da2aecbc-acbd-4c30-f7e3-a236835ad719"
      },
      "outputs": [
        {
          "output_type": "execute_result",
          "data": {
            "text/plain": [
              "    SK_ID_CURR  TARGET NAME_CONTRACT_TYPE CODE_GENDER FLAG_OWN_CAR  \\\n",
              "0       100002       1         Cash loans           M            N   \n",
              "26      100031       1         Cash loans           F            N   \n",
              "40      100047       1         Cash loans           M            N   \n",
              "42      100049       1         Cash loans           F            N   \n",
              "81      100096       1         Cash loans           F            N   \n",
              "\n",
              "   FLAG_OWN_REALTY  CNT_CHILDREN  AMT_INCOME_TOTAL  AMT_CREDIT  AMT_ANNUITY  \\\n",
              "0                Y             0          202500.0    406597.5      24700.5   \n",
              "26               Y             0          112500.0    979992.0      27076.5   \n",
              "40               Y             0          202500.0   1193580.0      35028.0   \n",
              "42               N             0          135000.0    288873.0      16258.5   \n",
              "81               Y             0           81000.0    252000.0      14593.5   \n",
              "\n",
              "    ...  OCCUPATION_TYPE CNT_FAM_MEMBERS REG_REGION_NOT_LIVE_REGION  \\\n",
              "0   ...         Laborers             1.0                        0.0   \n",
              "26  ...    Cooking staff             1.0                        0.0   \n",
              "40  ...         Laborers             2.0                        0.0   \n",
              "42  ...      Sales staff             2.0                        0.0   \n",
              "81  ...              NaN             2.0                        0.0   \n",
              "\n",
              "   REG_REGION_NOT_WORK_REGION LIVE_REGION_NOT_WORK_REGION  \\\n",
              "0                         0.0                         0.0   \n",
              "26                        0.0                         0.0   \n",
              "40                        0.0                         0.0   \n",
              "42                        0.0                         0.0   \n",
              "81                        0.0                         0.0   \n",
              "\n",
              "         ORGANIZATION_TYPE  DAYS_BIRTH_Year  Year_employed  AMT_INCOME_RANGE  \\\n",
              "0   Business Entity Type 3             26.0       1.745205     200000-225000   \n",
              "26  Business Entity Type 3             52.0       7.200000     100000-125000   \n",
              "40  Business Entity Type 3             48.0       3.457534     200000-225000   \n",
              "42           Self-employed             37.0       9.854795     125000-150000   \n",
              "81                     XNA             68.0    1000.665753      75000,100000   \n",
              "\n",
              "   AMT_CREDIT_Range  \n",
              "0     400000-500000  \n",
              "26   900000-1000000  \n",
              "40  1000000 & above  \n",
              "42    200000-300000  \n",
              "81    200000-300000  \n",
              "\n",
              "[5 rows x 29 columns]"
            ],
            "text/html": [
              "\n",
              "  <div id=\"df-d362fbe8-02fa-4d86-b119-6cd68c7fbec2\">\n",
              "    <div class=\"colab-df-container\">\n",
              "      <div>\n",
              "<style scoped>\n",
              "    .dataframe tbody tr th:only-of-type {\n",
              "        vertical-align: middle;\n",
              "    }\n",
              "\n",
              "    .dataframe tbody tr th {\n",
              "        vertical-align: top;\n",
              "    }\n",
              "\n",
              "    .dataframe thead th {\n",
              "        text-align: right;\n",
              "    }\n",
              "</style>\n",
              "<table border=\"1\" class=\"dataframe\">\n",
              "  <thead>\n",
              "    <tr style=\"text-align: right;\">\n",
              "      <th></th>\n",
              "      <th>SK_ID_CURR</th>\n",
              "      <th>TARGET</th>\n",
              "      <th>NAME_CONTRACT_TYPE</th>\n",
              "      <th>CODE_GENDER</th>\n",
              "      <th>FLAG_OWN_CAR</th>\n",
              "      <th>FLAG_OWN_REALTY</th>\n",
              "      <th>CNT_CHILDREN</th>\n",
              "      <th>AMT_INCOME_TOTAL</th>\n",
              "      <th>AMT_CREDIT</th>\n",
              "      <th>AMT_ANNUITY</th>\n",
              "      <th>...</th>\n",
              "      <th>OCCUPATION_TYPE</th>\n",
              "      <th>CNT_FAM_MEMBERS</th>\n",
              "      <th>REG_REGION_NOT_LIVE_REGION</th>\n",
              "      <th>REG_REGION_NOT_WORK_REGION</th>\n",
              "      <th>LIVE_REGION_NOT_WORK_REGION</th>\n",
              "      <th>ORGANIZATION_TYPE</th>\n",
              "      <th>DAYS_BIRTH_Year</th>\n",
              "      <th>Year_employed</th>\n",
              "      <th>AMT_INCOME_RANGE</th>\n",
              "      <th>AMT_CREDIT_Range</th>\n",
              "    </tr>\n",
              "  </thead>\n",
              "  <tbody>\n",
              "    <tr>\n",
              "      <th>0</th>\n",
              "      <td>100002</td>\n",
              "      <td>1</td>\n",
              "      <td>Cash loans</td>\n",
              "      <td>M</td>\n",
              "      <td>N</td>\n",
              "      <td>Y</td>\n",
              "      <td>0</td>\n",
              "      <td>202500.0</td>\n",
              "      <td>406597.5</td>\n",
              "      <td>24700.5</td>\n",
              "      <td>...</td>\n",
              "      <td>Laborers</td>\n",
              "      <td>1.0</td>\n",
              "      <td>0.0</td>\n",
              "      <td>0.0</td>\n",
              "      <td>0.0</td>\n",
              "      <td>Business Entity Type 3</td>\n",
              "      <td>26.0</td>\n",
              "      <td>1.745205</td>\n",
              "      <td>200000-225000</td>\n",
              "      <td>400000-500000</td>\n",
              "    </tr>\n",
              "    <tr>\n",
              "      <th>26</th>\n",
              "      <td>100031</td>\n",
              "      <td>1</td>\n",
              "      <td>Cash loans</td>\n",
              "      <td>F</td>\n",
              "      <td>N</td>\n",
              "      <td>Y</td>\n",
              "      <td>0</td>\n",
              "      <td>112500.0</td>\n",
              "      <td>979992.0</td>\n",
              "      <td>27076.5</td>\n",
              "      <td>...</td>\n",
              "      <td>Cooking staff</td>\n",
              "      <td>1.0</td>\n",
              "      <td>0.0</td>\n",
              "      <td>0.0</td>\n",
              "      <td>0.0</td>\n",
              "      <td>Business Entity Type 3</td>\n",
              "      <td>52.0</td>\n",
              "      <td>7.200000</td>\n",
              "      <td>100000-125000</td>\n",
              "      <td>900000-1000000</td>\n",
              "    </tr>\n",
              "    <tr>\n",
              "      <th>40</th>\n",
              "      <td>100047</td>\n",
              "      <td>1</td>\n",
              "      <td>Cash loans</td>\n",
              "      <td>M</td>\n",
              "      <td>N</td>\n",
              "      <td>Y</td>\n",
              "      <td>0</td>\n",
              "      <td>202500.0</td>\n",
              "      <td>1193580.0</td>\n",
              "      <td>35028.0</td>\n",
              "      <td>...</td>\n",
              "      <td>Laborers</td>\n",
              "      <td>2.0</td>\n",
              "      <td>0.0</td>\n",
              "      <td>0.0</td>\n",
              "      <td>0.0</td>\n",
              "      <td>Business Entity Type 3</td>\n",
              "      <td>48.0</td>\n",
              "      <td>3.457534</td>\n",
              "      <td>200000-225000</td>\n",
              "      <td>1000000 &amp; above</td>\n",
              "    </tr>\n",
              "    <tr>\n",
              "      <th>42</th>\n",
              "      <td>100049</td>\n",
              "      <td>1</td>\n",
              "      <td>Cash loans</td>\n",
              "      <td>F</td>\n",
              "      <td>N</td>\n",
              "      <td>N</td>\n",
              "      <td>0</td>\n",
              "      <td>135000.0</td>\n",
              "      <td>288873.0</td>\n",
              "      <td>16258.5</td>\n",
              "      <td>...</td>\n",
              "      <td>Sales staff</td>\n",
              "      <td>2.0</td>\n",
              "      <td>0.0</td>\n",
              "      <td>0.0</td>\n",
              "      <td>0.0</td>\n",
              "      <td>Self-employed</td>\n",
              "      <td>37.0</td>\n",
              "      <td>9.854795</td>\n",
              "      <td>125000-150000</td>\n",
              "      <td>200000-300000</td>\n",
              "    </tr>\n",
              "    <tr>\n",
              "      <th>81</th>\n",
              "      <td>100096</td>\n",
              "      <td>1</td>\n",
              "      <td>Cash loans</td>\n",
              "      <td>F</td>\n",
              "      <td>N</td>\n",
              "      <td>Y</td>\n",
              "      <td>0</td>\n",
              "      <td>81000.0</td>\n",
              "      <td>252000.0</td>\n",
              "      <td>14593.5</td>\n",
              "      <td>...</td>\n",
              "      <td>NaN</td>\n",
              "      <td>2.0</td>\n",
              "      <td>0.0</td>\n",
              "      <td>0.0</td>\n",
              "      <td>0.0</td>\n",
              "      <td>XNA</td>\n",
              "      <td>68.0</td>\n",
              "      <td>1000.665753</td>\n",
              "      <td>75000,100000</td>\n",
              "      <td>200000-300000</td>\n",
              "    </tr>\n",
              "  </tbody>\n",
              "</table>\n",
              "<p>5 rows × 29 columns</p>\n",
              "</div>\n",
              "      <button class=\"colab-df-convert\" onclick=\"convertToInteractive('df-d362fbe8-02fa-4d86-b119-6cd68c7fbec2')\"\n",
              "              title=\"Convert this dataframe to an interactive table.\"\n",
              "              style=\"display:none;\">\n",
              "        \n",
              "  <svg xmlns=\"http://www.w3.org/2000/svg\" height=\"24px\"viewBox=\"0 0 24 24\"\n",
              "       width=\"24px\">\n",
              "    <path d=\"M0 0h24v24H0V0z\" fill=\"none\"/>\n",
              "    <path d=\"M18.56 5.44l.94 2.06.94-2.06 2.06-.94-2.06-.94-.94-2.06-.94 2.06-2.06.94zm-11 1L8.5 8.5l.94-2.06 2.06-.94-2.06-.94L8.5 2.5l-.94 2.06-2.06.94zm10 10l.94 2.06.94-2.06 2.06-.94-2.06-.94-.94-2.06-.94 2.06-2.06.94z\"/><path d=\"M17.41 7.96l-1.37-1.37c-.4-.4-.92-.59-1.43-.59-.52 0-1.04.2-1.43.59L10.3 9.45l-7.72 7.72c-.78.78-.78 2.05 0 2.83L4 21.41c.39.39.9.59 1.41.59.51 0 1.02-.2 1.41-.59l7.78-7.78 2.81-2.81c.8-.78.8-2.07 0-2.86zM5.41 20L4 18.59l7.72-7.72 1.47 1.35L5.41 20z\"/>\n",
              "  </svg>\n",
              "      </button>\n",
              "      \n",
              "  <style>\n",
              "    .colab-df-container {\n",
              "      display:flex;\n",
              "      flex-wrap:wrap;\n",
              "      gap: 12px;\n",
              "    }\n",
              "\n",
              "    .colab-df-convert {\n",
              "      background-color: #E8F0FE;\n",
              "      border: none;\n",
              "      border-radius: 50%;\n",
              "      cursor: pointer;\n",
              "      display: none;\n",
              "      fill: #1967D2;\n",
              "      height: 32px;\n",
              "      padding: 0 0 0 0;\n",
              "      width: 32px;\n",
              "    }\n",
              "\n",
              "    .colab-df-convert:hover {\n",
              "      background-color: #E2EBFA;\n",
              "      box-shadow: 0px 1px 2px rgba(60, 64, 67, 0.3), 0px 1px 3px 1px rgba(60, 64, 67, 0.15);\n",
              "      fill: #174EA6;\n",
              "    }\n",
              "\n",
              "    [theme=dark] .colab-df-convert {\n",
              "      background-color: #3B4455;\n",
              "      fill: #D2E3FC;\n",
              "    }\n",
              "\n",
              "    [theme=dark] .colab-df-convert:hover {\n",
              "      background-color: #434B5C;\n",
              "      box-shadow: 0px 1px 3px 1px rgba(0, 0, 0, 0.15);\n",
              "      filter: drop-shadow(0px 1px 2px rgba(0, 0, 0, 0.3));\n",
              "      fill: #FFFFFF;\n",
              "    }\n",
              "  </style>\n",
              "\n",
              "      <script>\n",
              "        const buttonEl =\n",
              "          document.querySelector('#df-d362fbe8-02fa-4d86-b119-6cd68c7fbec2 button.colab-df-convert');\n",
              "        buttonEl.style.display =\n",
              "          google.colab.kernel.accessAllowed ? 'block' : 'none';\n",
              "\n",
              "        async function convertToInteractive(key) {\n",
              "          const element = document.querySelector('#df-d362fbe8-02fa-4d86-b119-6cd68c7fbec2');\n",
              "          const dataTable =\n",
              "            await google.colab.kernel.invokeFunction('convertToInteractive',\n",
              "                                                     [key], {});\n",
              "          if (!dataTable) return;\n",
              "\n",
              "          const docLinkHtml = 'Like what you see? Visit the ' +\n",
              "            '<a target=\"_blank\" href=https://colab.research.google.com/notebooks/data_table.ipynb>data table notebook</a>'\n",
              "            + ' to learn more about interactive tables.';\n",
              "          element.innerHTML = '';\n",
              "          dataTable['output_type'] = 'display_data';\n",
              "          await google.colab.output.renderOutput(dataTable, element);\n",
              "          const docLink = document.createElement('div');\n",
              "          docLink.innerHTML = docLinkHtml;\n",
              "          element.appendChild(docLink);\n",
              "        }\n",
              "      </script>\n",
              "    </div>\n",
              "  </div>\n",
              "  "
            ]
          },
          "metadata": {},
          "execution_count": 105
        }
      ],
      "source": [
        "df_1.head()"
      ]
    },
    {
      "cell_type": "code",
      "execution_count": 106,
      "id": "43709dd9",
      "metadata": {
        "colab": {
          "base_uri": "https://localhost:8080/"
        },
        "id": "43709dd9",
        "outputId": "384a79cb-2b10-4a6f-e943-89213f408845"
      },
      "outputs": [
        {
          "output_type": "stream",
          "name": "stdout",
          "text": [
            "<class 'pandas.core.frame.DataFrame'>\n",
            "Int64Index: 2016 entries, 0 to 25225\n",
            "Data columns (total 29 columns):\n",
            " #   Column                       Non-Null Count  Dtype   \n",
            "---  ------                       --------------  -----   \n",
            " 0   SK_ID_CURR                   2016 non-null   int64   \n",
            " 1   TARGET                       2016 non-null   int64   \n",
            " 2   NAME_CONTRACT_TYPE           2016 non-null   object  \n",
            " 3   CODE_GENDER                  2016 non-null   object  \n",
            " 4   FLAG_OWN_CAR                 2016 non-null   object  \n",
            " 5   FLAG_OWN_REALTY              2016 non-null   object  \n",
            " 6   CNT_CHILDREN                 2016 non-null   int64   \n",
            " 7   AMT_INCOME_TOTAL             2016 non-null   float64 \n",
            " 8   AMT_CREDIT                   2016 non-null   float64 \n",
            " 9   AMT_ANNUITY                  2016 non-null   float64 \n",
            " 10  AMT_GOODS_PRICE              2016 non-null   float64 \n",
            " 11  NAME_TYPE_SUITE              2016 non-null   object  \n",
            " 12  NAME_INCOME_TYPE             2016 non-null   object  \n",
            " 13  NAME_EDUCATION_TYPE          2016 non-null   object  \n",
            " 14  NAME_FAMILY_STATUS           2016 non-null   object  \n",
            " 15  NAME_HOUSING_TYPE            2016 non-null   object  \n",
            " 16  DAYS_BIRTH                   2016 non-null   float64 \n",
            " 17  DAYS_EMPLOYED                2016 non-null   float64 \n",
            " 18  FLAG_MOBIL                   2016 non-null   float64 \n",
            " 19  OCCUPATION_TYPE              1509 non-null   object  \n",
            " 20  CNT_FAM_MEMBERS              2016 non-null   float64 \n",
            " 21  REG_REGION_NOT_LIVE_REGION   2016 non-null   float64 \n",
            " 22  REG_REGION_NOT_WORK_REGION   2016 non-null   float64 \n",
            " 23  LIVE_REGION_NOT_WORK_REGION  2016 non-null   float64 \n",
            " 24  ORGANIZATION_TYPE            2016 non-null   object  \n",
            " 25  DAYS_BIRTH_Year              2016 non-null   float64 \n",
            " 26  Year_employed                2016 non-null   float64 \n",
            " 27  AMT_INCOME_RANGE             2016 non-null   category\n",
            " 28  AMT_CREDIT_Range             2016 non-null   category\n",
            "dtypes: category(2), float64(13), int64(3), object(11)\n",
            "memory usage: 446.0+ KB\n"
          ]
        }
      ],
      "source": [
        "df_1.info()"
      ]
    },
    {
      "cell_type": "code",
      "execution_count": 107,
      "id": "d2927f72",
      "metadata": {
        "colab": {
          "base_uri": "https://localhost:8080/"
        },
        "id": "d2927f72",
        "outputId": "a60d15fc-6bae-45ec-b4dc-60ed481d2e3d"
      },
      "outputs": [
        {
          "output_type": "execute_result",
          "data": {
            "text/plain": [
              "2.0     944\n",
              "1.0     457\n",
              "3.0     388\n",
              "4.0     187\n",
              "5.0      30\n",
              "6.0       7\n",
              "7.0       2\n",
              "10.0      1\n",
              "Name: CNT_FAM_MEMBERS, dtype: int64"
            ]
          },
          "metadata": {},
          "execution_count": 107
        }
      ],
      "source": [
        "df_1.CNT_FAM_MEMBERS.value_counts()"
      ]
    },
    {
      "cell_type": "code",
      "execution_count": 108,
      "id": "75981341",
      "metadata": {
        "colab": {
          "base_uri": "https://localhost:8080/",
          "height": 401
        },
        "id": "75981341",
        "outputId": "3110023f-c33f-469e-adb6-d3ac169e7604"
      },
      "outputs": [
        {
          "output_type": "display_data",
          "data": {
            "text/plain": [
              "<Figure size 432x288 with 1 Axes>"
            ],
            "image/png": "[encoded data removed]"
          },
          "metadata": {
            "needs_background": "light"
          }
        }
      ],
      "source": [
        "###EDUCATION VS AMT IN Defaulters\n",
        "\n",
        "plt.bar(df_1[\"NAME_EDUCATION_TYPE\"], df_1[\"AMT_CREDIT\"], color ='maroon', width = 0.4)\n",
        " \n",
        "plt.xlabel(\"NAME_EDUCATION_TYPE\")\n",
        "plt.ylabel(\"AMT_CREDIT\")\n",
        "plt.title(\"Credit Amount vs Education Status\")\n",
        "plt.xticks(rotation = 45)\n",
        "plt.show()"
      ]
    },
    {
      "cell_type": "code",
      "execution_count": 109,
      "id": "b5221f30",
      "metadata": {
        "id": "b5221f30"
      },
      "outputs": [],
      "source": [
        "### inthis found that secondary people whos credit amount is high are more defaulters"
      ]
    },
    {
      "cell_type": "code",
      "execution_count": 110,
      "id": "75df4b9d",
      "metadata": {
        "colab": {
          "base_uri": "https://localhost:8080/",
          "height": 401
        },
        "id": "75df4b9d",
        "outputId": "73531509-fd02-4d4d-df59-5860c43558a4"
      },
      "outputs": [
        {
          "output_type": "display_data",
          "data": {
            "text/plain": [
              "<Figure size 432x288 with 1 Axes>"
            ],
            "image/png": "[encoded data removed]"
          },
          "metadata": {
            "needs_background": "light"
          }
        }
      ],
      "source": [
        "###EDUCATION VS AMT IN NON Defaulters\n",
        "\n",
        "plt.bar(df_0[\"NAME_EDUCATION_TYPE\"], df_0[\"AMT_CREDIT\"], color ='maroon', width = 0.4)\n",
        " \n",
        "plt.xlabel(\"NAME_EDUCATION_TYPE\")\n",
        "plt.ylabel(\"AMT_CREDIT\")\n",
        "plt.title(\"Credit Amount vs Education Status in NON Defaulters\")\n",
        "plt.xticks(rotation = 45)\n",
        "plt.show()"
      ]
    },
    {
      "cell_type": "code",
      "execution_count": 146,
      "id": "b239c752",
      "metadata": {
        "id": "b239c752"
      },
      "outputs": [],
      "source": [
        "### in this plot we can say that who is higher education which have high credit amout are less defaulter"
      ]
    },
    {
      "cell_type": "code",
      "execution_count": 115,
      "id": "7e99e9ad",
      "metadata": {
        "colab": {
          "base_uri": "https://localhost:8080/"
        },
        "id": "7e99e9ad",
        "outputId": "aef91122-a018-4974-97d4-54c1eadd4e04"
      },
      "outputs": [
        {
          "output_type": "execute_result",
          "data": {
            "text/plain": [
              "0        Single / not married\n",
              "1                     Married\n",
              "2        Single / not married\n",
              "3              Civil marriage\n",
              "4        Single / not married\n",
              "                 ...         \n",
              "25228    Single / not married\n",
              "25229          Civil marriage\n",
              "25230    Single / not married\n",
              "25231               Separated\n",
              "25232                     NaN\n",
              "Name: NAME_FAMILY_STATUS, Length: 25233, dtype: object"
            ]
          },
          "metadata": {},
          "execution_count": 115
        }
      ],
      "source": [
        "### numeric-numeric"
      ]
    },
    {
      "cell_type": "code",
      "execution_count": 130,
      "id": "2088d5fd",
      "metadata": {
        "colab": {
          "base_uri": "https://localhost:8080/"
        },
        "id": "2088d5fd",
        "outputId": "89c864d2-aef7-480a-84f3-e073736d396b"
      },
      "outputs": [
        {
          "output_type": "execute_result",
          "data": {
            "text/plain": [
              "1    46.0\n",
              "2    53.0\n",
              "3    53.0\n",
              "Name: YEAR_BIRTH, dtype: float64"
            ]
          },
          "metadata": {},
          "execution_count": 130
        }
      ],
      "source": [
        "df_0[\"YEAR_BIRTH\"]= abs(df_0[\"DAYS_BIRTH\"].apply(lambda x : x//365))\n",
        "df_0[\"YEAR_BIRTH\"].head(3)"
      ]
    },
    {
      "cell_type": "code",
      "source": [
        "###DAYS_BIRTH VS AMT_ANNUITY for non defaulter\n",
        "\n",
        "plt.scatter(x=df_0[\"YEAR_BIRTH\"], y=df_0[\"AMT_ANNUITY\"])\n",
        " \n",
        "plt.xlabel(\"YEAR_BIRTH\")\n",
        "plt.ylabel(\"AMT_ANNUITY\")\n",
        "plt.title(\"DAYS_BIRTH VS AMT_ANNUITY for non defaulter\")\n",
        "\n",
        "plt.show()"
      ],
      "metadata": {
        "id": "kSgOQdNH9MNB",
        "outputId": "cc54b1b1-bdd6-477f-a27b-64d656009233",
        "colab": {
          "base_uri": "https://localhost:8080/",
          "height": 296
        }
      },
      "id": "kSgOQdNH9MNB",
      "execution_count": 138,
      "outputs": [
        {
          "output_type": "display_data",
          "data": {
            "text/plain": [
              "<Figure size 432x288 with 1 Axes>"
            ],
            "image/png": "[encoded data removed]"
          },
          "metadata": {
            "needs_background": "light"
          }
        }
      ]
    },
    {
      "cell_type": "code",
      "source": [
        "## in this plot we can say that whose age 22 to 68 and  there ammount ammunity are  60000 to 100000"
      ],
      "metadata": {
        "id": "Ba8VGE-mBGlB"
      },
      "id": "Ba8VGE-mBGlB",
      "execution_count": null,
      "outputs": []
    },
    {
      "cell_type": "code",
      "source": [
        "df_1[\"YEAR_BIRTH\"]= abs(df_1[\"DAYS_BIRTH\"].apply(lambda x : x//365))\n",
        "df_1[\"YEAR_BIRTH\"]"
      ],
      "metadata": {
        "id": "WUx8zN2IA-rp",
        "outputId": "1d1c4b0d-001b-440d-ca68-366c9768b90f",
        "colab": {
          "base_uri": "https://localhost:8080/"
        }
      },
      "id": "WUx8zN2IA-rp",
      "execution_count": 144,
      "outputs": [
        {
          "output_type": "execute_result",
          "data": {
            "text/plain": [
              "0        26.0\n",
              "26       52.0\n",
              "40       48.0\n",
              "42       37.0\n",
              "81       68.0\n",
              "         ... \n",
              "25161    29.0\n",
              "25169    33.0\n",
              "25183    64.0\n",
              "25185    55.0\n",
              "25225    29.0\n",
              "Name: YEAR_BIRTH, Length: 2016, dtype: float64"
            ]
          },
          "metadata": {},
          "execution_count": 144
        }
      ]
    },
    {
      "cell_type": "code",
      "source": [
        "###DAYS_BIRTH VS AMT_ANNUITY for defaulter\n",
        "\n",
        "plt.scatter(x=df_1[\"YEAR_BIRTH\"], y=df_1[\"AMT_ANNUITY\"])\n",
        " \n",
        "plt.xlabel(\"YEAR_BIRTH\")\n",
        "plt.ylabel(\"AMT_ANNUITY\")\n",
        "plt.title(\"DAYS_BIRTH VS AMT_ANNUITY for defaulter\")\n",
        "\n",
        "plt.show()"
      ],
      "metadata": {
        "id": "haArjvXuApZB",
        "outputId": "150d714c-115c-46cb-f3fb-9c00dd3e8416",
        "colab": {
          "base_uri": "https://localhost:8080/",
          "height": 296
        }
      },
      "id": "haArjvXuApZB",
      "execution_count": 145,
      "outputs": [
        {
          "output_type": "display_data",
          "data": {
            "text/plain": [
              "<Figure size 432x288 with 1 Axes>"
            ],
            "image/png": "[encoded data removed]"
          },
          "metadata": {
            "needs_background": "light"
          }
        }
      ]
    },
    {
      "cell_type": "code",
      "source": [
        "## so in thsi we can say that variation in these defaulter age between 24 to 69 and amount amunity variation between 5,000 to 63000"
      ],
      "metadata": {
        "id": "7N0Bnq55Bbci"
      },
      "id": "7N0Bnq55Bbci",
      "execution_count": null,
      "outputs": []
    },
    {
      "cell_type": "code",
      "source": [
        "####quantify using corealtion for the defaulters\n"
      ],
      "metadata": {
        "id": "N1-gdYkgGzio"
      },
      "id": "N1-gdYkgGzio",
      "execution_count": 172,
      "outputs": []
    },
    {
      "cell_type": "code",
      "source": [
        "df_1[[\"YEAR_BIRTH\", 'AMT_INCOME_TOTAL', 'AMT_CREDIT']].corr()"
      ],
      "metadata": {
        "id": "O4O8Y_LqGzn8",
        "outputId": "d268240d-653f-44ac-dff3-afa4805df7f4",
        "colab": {
          "base_uri": "https://localhost:8080/",
          "height": 143
        }
      },
      "id": "O4O8Y_LqGzn8",
      "execution_count": 167,
      "outputs": [
        {
          "output_type": "execute_result",
          "data": {
            "text/plain": [
              "                  YEAR_BIRTH  AMT_INCOME_TOTAL  AMT_CREDIT\n",
              "YEAR_BIRTH          1.000000         -0.010939    0.170095\n",
              "AMT_INCOME_TOTAL   -0.010939          1.000000    0.009489\n",
              "AMT_CREDIT          0.170095          0.009489    1.000000"
            ],
            "text/html": [
              "\n",
              "  <div id=\"df-b4a8e739-d403-41ea-8903-1ae8fe750bd7\">\n",
              "    <div class=\"colab-df-container\">\n",
              "      <div>\n",
              "<style scoped>\n",
              "    .dataframe tbody tr th:only-of-type {\n",
              "        vertical-align: middle;\n",
              "    }\n",
              "\n",
              "    .dataframe tbody tr th {\n",
              "        vertical-align: top;\n",
              "    }\n",
              "\n",
              "    .dataframe thead th {\n",
              "        text-align: right;\n",
              "    }\n",
              "</style>\n",
              "<table border=\"1\" class=\"dataframe\">\n",
              "  <thead>\n",
              "    <tr style=\"text-align: right;\">\n",
              "      <th></th>\n",
              "      <th>YEAR_BIRTH</th>\n",
              "      <th>AMT_INCOME_TOTAL</th>\n",
              "      <th>AMT_CREDIT</th>\n",
              "    </tr>\n",
              "  </thead>\n",
              "  <tbody>\n",
              "    <tr>\n",
              "      <th>YEAR_BIRTH</th>\n",
              "      <td>1.000000</td>\n",
              "      <td>-0.010939</td>\n",
              "      <td>0.170095</td>\n",
              "    </tr>\n",
              "    <tr>\n",
              "      <th>AMT_INCOME_TOTAL</th>\n",
              "      <td>-0.010939</td>\n",
              "      <td>1.000000</td>\n",
              "      <td>0.009489</td>\n",
              "    </tr>\n",
              "    <tr>\n",
              "      <th>AMT_CREDIT</th>\n",
              "      <td>0.170095</td>\n",
              "      <td>0.009489</td>\n",
              "      <td>1.000000</td>\n",
              "    </tr>\n",
              "  </tbody>\n",
              "</table>\n",
              "</div>\n",
              "      <button class=\"colab-df-convert\" onclick=\"convertToInteractive('df-b4a8e739-d403-41ea-8903-1ae8fe750bd7')\"\n",
              "              title=\"Convert this dataframe to an interactive table.\"\n",
              "              style=\"display:none;\">\n",
              "        \n",
              "  <svg xmlns=\"http://www.w3.org/2000/svg\" height=\"24px\"viewBox=\"0 0 24 24\"\n",
              "       width=\"24px\">\n",
              "    <path d=\"M0 0h24v24H0V0z\" fill=\"none\"/>\n",
              "    <path d=\"M18.56 5.44l.94 2.06.94-2.06 2.06-.94-2.06-.94-.94-2.06-.94 2.06-2.06.94zm-11 1L8.5 8.5l.94-2.06 2.06-.94-2.06-.94L8.5 2.5l-.94 2.06-2.06.94zm10 10l.94 2.06.94-2.06 2.06-.94-2.06-.94-.94-2.06-.94 2.06-2.06.94z\"/><path d=\"M17.41 7.96l-1.37-1.37c-.4-.4-.92-.59-1.43-.59-.52 0-1.04.2-1.43.59L10.3 9.45l-7.72 7.72c-.78.78-.78 2.05 0 2.83L4 21.41c.39.39.9.59 1.41.59.51 0 1.02-.2 1.41-.59l7.78-7.78 2.81-2.81c.8-.78.8-2.07 0-2.86zM5.41 20L4 18.59l7.72-7.72 1.47 1.35L5.41 20z\"/>\n",
              "  </svg>\n",
              "      </button>\n",
              "      \n",
              "  <style>\n",
              "    .colab-df-container {\n",
              "      display:flex;\n",
              "      flex-wrap:wrap;\n",
              "      gap: 12px;\n",
              "    }\n",
              "\n",
              "    .colab-df-convert {\n",
              "      background-color: #E8F0FE;\n",
              "      border: none;\n",
              "      border-radius: 50%;\n",
              "      cursor: pointer;\n",
              "      display: none;\n",
              "      fill: #1967D2;\n",
              "      height: 32px;\n",
              "      padding: 0 0 0 0;\n",
              "      width: 32px;\n",
              "    }\n",
              "\n",
              "    .colab-df-convert:hover {\n",
              "      background-color: #E2EBFA;\n",
              "      box-shadow: 0px 1px 2px rgba(60, 64, 67, 0.3), 0px 1px 3px 1px rgba(60, 64, 67, 0.15);\n",
              "      fill: #174EA6;\n",
              "    }\n",
              "\n",
              "    [theme=dark] .colab-df-convert {\n",
              "      background-color: #3B4455;\n",
              "      fill: #D2E3FC;\n",
              "    }\n",
              "\n",
              "    [theme=dark] .colab-df-convert:hover {\n",
              "      background-color: #434B5C;\n",
              "      box-shadow: 0px 1px 3px 1px rgba(0, 0, 0, 0.15);\n",
              "      filter: drop-shadow(0px 1px 2px rgba(0, 0, 0, 0.3));\n",
              "      fill: #FFFFFF;\n",
              "    }\n",
              "  </style>\n",
              "\n",
              "      <script>\n",
              "        const buttonEl =\n",
              "          document.querySelector('#df-b4a8e739-d403-41ea-8903-1ae8fe750bd7 button.colab-df-convert');\n",
              "        buttonEl.style.display =\n",
              "          google.colab.kernel.accessAllowed ? 'block' : 'none';\n",
              "\n",
              "        async function convertToInteractive(key) {\n",
              "          const element = document.querySelector('#df-b4a8e739-d403-41ea-8903-1ae8fe750bd7');\n",
              "          const dataTable =\n",
              "            await google.colab.kernel.invokeFunction('convertToInteractive',\n",
              "                                                     [key], {});\n",
              "          if (!dataTable) return;\n",
              "\n",
              "          const docLinkHtml = 'Like what you see? Visit the ' +\n",
              "            '<a target=\"_blank\" href=https://colab.research.google.com/notebooks/data_table.ipynb>data table notebook</a>'\n",
              "            + ' to learn more about interactive tables.';\n",
              "          element.innerHTML = '';\n",
              "          dataTable['output_type'] = 'display_data';\n",
              "          await google.colab.output.renderOutput(dataTable, element);\n",
              "          const docLink = document.createElement('div');\n",
              "          docLink.innerHTML = docLinkHtml;\n",
              "          element.appendChild(docLink);\n",
              "        }\n",
              "      </script>\n",
              "    </div>\n",
              "  </div>\n",
              "  "
            ]
          },
          "metadata": {},
          "execution_count": 167
        }
      ]
    },
    {
      "cell_type": "code",
      "source": [
        "sns.heatmap(df_1[[\"YEAR_BIRTH\", 'AMT_INCOME_TOTAL', 'AMT_CREDIT']].corr(), annot=True, cmap=\"Reds\")"
      ],
      "metadata": {
        "id": "MEn67dSUIWwd",
        "outputId": "dfaa473b-538d-4a24-d580-c5e5e8aecd8d",
        "colab": {
          "base_uri": "https://localhost:8080/",
          "height": 287
        }
      },
      "id": "MEn67dSUIWwd",
      "execution_count": 171,
      "outputs": [
        {
          "output_type": "execute_result",
          "data": {
            "text/plain": [
              "<matplotlib.axes._subplots.AxesSubplot at 0x7f9e959c7f90>"
            ]
          },
          "metadata": {},
          "execution_count": 171
        },
        {
          "output_type": "display_data",
          "data": {
            "text/plain": [
              "<Figure size 432x288 with 2 Axes>"
            ],
            "image/png": "[encoded data removed]"
          },
          "metadata": {
            "needs_background": "light"
          }
        }
      ]
    },
    {
      "cell_type": "code",
      "source": [
        "sns.heatmap(df_0[[\"YEAR_BIRTH\", 'AMT_INCOME_TOTAL', 'AMT_CREDIT']].corr(), annot=True, cmap=\"Reds\")"
      ],
      "metadata": {
        "id": "Nj8Ah_SaIzJn",
        "outputId": "66329e54-8c66-4daf-8fa7-2f5272dbaf29",
        "colab": {
          "base_uri": "https://localhost:8080/",
          "height": 287
        }
      },
      "id": "Nj8Ah_SaIzJn",
      "execution_count": 173,
      "outputs": [
        {
          "output_type": "execute_result",
          "data": {
            "text/plain": [
              "<matplotlib.axes._subplots.AxesSubplot at 0x7f9e95b50090>"
            ]
          },
          "metadata": {},
          "execution_count": 173
        },
        {
          "output_type": "display_data",
          "data": {
            "text/plain": [
              "<Figure size 432x288 with 2 Axes>"
            ],
            "image/png": "[encoded data removed]"
          },
          "metadata": {
            "needs_background": "light"
          }
        }
      ]
    },
    {
      "cell_type": "code",
      "source": [
        "### corelation \"YEAR_BIRTH\" VS 'AMT_INCOME_TOTAL' vs 'AMT_GOODS_PRICE' for non defaulters\n",
        "sns.heatmap(df_0[[\"YEAR_BIRTH\", 'AMT_INCOME_TOTAL', 'AMT_GOODS_PRICE']].corr(), annot=True, cmap=\"Reds\")\n",
        "plt.show()"
      ],
      "metadata": {
        "id": "BJXZsODiI5UD",
        "outputId": "59d13cda-b6dd-498b-ebf6-ab18bb7c2b27",
        "colab": {
          "base_uri": "https://localhost:8080/",
          "height": 379
        }
      },
      "id": "BJXZsODiI5UD",
      "execution_count": 174,
      "outputs": [
        {
          "output_type": "execute_result",
          "data": {
            "text/plain": [
              "<matplotlib.axes._subplots.AxesSubplot at 0x7f9e94eb5490>"
            ]
          },
          "metadata": {},
          "execution_count": 174
        },
        {
          "output_type": "display_data",
          "data": {
            "text/plain": [
              "<Figure size 432x288 with 2 Axes>"
            ],
            "image/png": "[encoded data removed]"
          },
          "metadata": {
            "needs_background": "light"
          }
        }
      ]
    },
    {
      "cell_type": "code",
      "source": [
        "### corelation \"YEAR_BIRTH\" VS 'AMT_INCOME_TOTAL' vs 'AMT_GOODS_PRICE' for  defaulters\n",
        "sns.heatmap(df_1[[\"YEAR_BIRTH\", 'AMT_INCOME_TOTAL', 'AMT_GOODS_PRICE']].corr(), annot=True, cmap=\"Reds\")\n",
        "plt.show()"
      ],
      "metadata": {
        "id": "7DwPlT0oJYvF",
        "outputId": "fb569b6f-4bd1-4f4c-fac5-07ed7c12181f",
        "colab": {
          "base_uri": "https://localhost:8080/",
          "height": 362
        }
      },
      "id": "7DwPlT0oJYvF",
      "execution_count": 176,
      "outputs": [
        {
          "output_type": "display_data",
          "data": {
            "text/plain": [
              "<Figure size 432x288 with 2 Axes>"
            ],
            "image/png": "[encoded data removed]"
          },
          "metadata": {
            "needs_background": "light"
          }
        }
      ]
    }
  ],
  "metadata": {
    "kernelspec": {
      "display_name": "Python 3 (ipykernel)",
      "language": "python",
      "name": "python3"
    },
    "language_info": {
      "codemirror_mode": {
        "name": "ipython",
        "version": 3
      },
      "file_extension": ".py",
      "mimetype": "text/x-python",
      "name": "python",
      "nbconvert_exporter": "python",
      "pygments_lexer": "ipython3",
      "version": "3.9.7"
    },
    "colab": {
      "name": "eda.ipynb",
      "provenance": []
    }
  },
  "nbformat": 4,
  "nbformat_minor": 5
}